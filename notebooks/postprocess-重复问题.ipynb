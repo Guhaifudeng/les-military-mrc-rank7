{
 "cells": [
  {
   "cell_type": "code",
   "execution_count": 13,
   "metadata": {},
   "outputs": [],
   "source": [
    "import sys\n",
    "sys.path.append('../')\n",
    "import re\n",
    "import os\n",
    "import time\n",
    "import numpy as np\n",
    "import pandas as pd\n",
    "from tqdm import tqdm\n",
    "tqdm.pandas()\n",
    "import datetime\n",
    "\n",
    "import matplotlib\n",
    "import matplotlib.pyplot as plt\n",
    "import seaborn as sns\n",
    "sns.set_style('whitegrid')\n",
    "%matplotlib inline\n",
    "matplotlib.style.use('ggplot')"
   ]
  },
  {
   "cell_type": "code",
   "execution_count": 14,
   "metadata": {},
   "outputs": [],
   "source": [
    "train_df = pd.read_csv('../input/original/train_round_0.csv', sep=',')\n",
    "test_df = pd.read_csv('../input/original/test_data_r0.csv', sep=',')"
   ]
  },
  {
   "cell_type": "code",
   "execution_count": 15,
   "metadata": {},
   "outputs": [],
   "source": [
    "# 读取预测结果\n",
    "test_pred = pd.read_csv('add_back_trans_combine_0315pred-entity_0928.csv')\n",
    "\n",
    "test_pred = pd.merge(test_pred, test_df[['question_id', 'question']], on='question_id')"
   ]
  },
  {
   "cell_type": "code",
   "execution_count": 16,
   "metadata": {},
   "outputs": [
    {
     "data": {
      "text/html": [
       "<div>\n",
       "<style scoped>\n",
       "    .dataframe tbody tr th:only-of-type {\n",
       "        vertical-align: middle;\n",
       "    }\n",
       "\n",
       "    .dataframe tbody tr th {\n",
       "        vertical-align: top;\n",
       "    }\n",
       "\n",
       "    .dataframe thead th {\n",
       "        text-align: right;\n",
       "    }\n",
       "</style>\n",
       "<table border=\"1\" class=\"dataframe\">\n",
       "  <thead>\n",
       "    <tr style=\"text-align: right;\">\n",
       "      <th></th>\n",
       "      <th>question_id</th>\n",
       "      <th>answer</th>\n",
       "      <th>question</th>\n",
       "    </tr>\n",
       "  </thead>\n",
       "  <tbody>\n",
       "    <tr>\n",
       "      <th>0</th>\n",
       "      <td>Q_32174nsdcj</td>\n",
       "      <td>AS-12型核潜艇</td>\n",
       "      <td>世界上最小的核潜艇是哪艘？</td>\n",
       "    </tr>\n",
       "    <tr>\n",
       "      <th>1</th>\n",
       "      <td>Q_42346jgcgs</td>\n",
       "      <td>大口径火炮</td>\n",
       "      <td>第二次世界大战时期，对于水面战斗舰艇来讲，最具威力的武器是什么？</td>\n",
       "    </tr>\n",
       "    <tr>\n",
       "      <th>2</th>\n",
       "      <td>Q_01814skdqn</td>\n",
       "      <td>拉美国际军事合作部门</td>\n",
       "      <td>中国国防部于6月12日至27日在国防大学国际防务学院举办什么合作部门主官研讨班?</td>\n",
       "    </tr>\n",
       "    <tr>\n",
       "      <th>3</th>\n",
       "      <td>Q_12633dcgkq</td>\n",
       "      <td>F-15战机</td>\n",
       "      <td>12月13日，中国海监飞机和舰船对钓鱼岛开展首次海空立体巡航时日本紧急出动航空自卫队8架什么...</td>\n",
       "    </tr>\n",
       "    <tr>\n",
       "      <th>4</th>\n",
       "      <td>Q_01789dggqk</td>\n",
       "      <td>4枚</td>\n",
       "      <td>作为俄罗斯空基核打击力量的重要补充，而且还可以作为新的力量投射战略的先锋的战机可以挂载多少枚...</td>\n",
       "    </tr>\n",
       "  </tbody>\n",
       "</table>\n",
       "</div>"
      ],
      "text/plain": [
       "    question_id      answer                                           question\n",
       "0  Q_32174nsdcj   AS-12型核潜艇                                      世界上最小的核潜艇是哪艘？\n",
       "1  Q_42346jgcgs       大口径火炮                   第二次世界大战时期，对于水面战斗舰艇来讲，最具威力的武器是什么？\n",
       "2  Q_01814skdqn  拉美国际军事合作部门           中国国防部于6月12日至27日在国防大学国际防务学院举办什么合作部门主官研讨班?\n",
       "3  Q_12633dcgkq      F-15战机  12月13日，中国海监飞机和舰船对钓鱼岛开展首次海空立体巡航时日本紧急出动航空自卫队8架什么...\n",
       "4  Q_01789dggqk          4枚  作为俄罗斯空基核打击力量的重要补充，而且还可以作为新的力量投射战略的先锋的战机可以挂载多少枚..."
      ]
     },
     "execution_count": 16,
     "metadata": {},
     "output_type": "execute_result"
    }
   ],
   "source": [
    "test_pred.head()"
   ]
  },
  {
   "cell_type": "code",
   "execution_count": 17,
   "metadata": {},
   "outputs": [],
   "source": [
    "import re\n",
    "\n",
    "ans_pattern = re.compile(r'@content\\d@')\n",
    "def find_answer_in_docid(answer):\n",
    "    docs = ans_pattern.findall(answer)\n",
    "    return list(set([int(doc[-2:-1]) for doc in docs]))\n",
    "\n",
    "def get_train_sample_answer_str(answer):\n",
    "    answer_texts = []\n",
    "    \n",
    "    ans_in_docids = find_answer_in_docid(answer)\n",
    "    for ans_in_docid in ans_in_docids:\n",
    "        answer_strs = answer.split('@content{}@'.format(ans_in_docid))\n",
    "        for answer_str in answer_strs:\n",
    "            answer_str = answer_str.strip()\n",
    "            if answer_str != '' and '@content' not in answer_str:\n",
    "                answer_str = answer_str.replace('content{}@'.format(ans_in_docid), '')\n",
    "                answer_texts.append(answer_str)\n",
    "    \n",
    "    if len(answer_texts) > 1:\n",
    "        return '#'.join(answer_texts)\n",
    "    else:\n",
    "        return answer_texts[0]\n",
    "    "
   ]
  },
  {
   "cell_type": "code",
   "execution_count": 18,
   "metadata": {},
   "outputs": [],
   "source": [
    "train_ques_answer = {}\n",
    "\n",
    "for idx, row in train_df.iterrows():\n",
    "    train_ques_answer[row['question']] = get_train_sample_answer_str(row['answer'])"
   ]
  },
  {
   "cell_type": "code",
   "execution_count": 19,
   "metadata": {},
   "outputs": [
    {
     "data": {
      "text/plain": [
       "24792"
      ]
     },
     "execution_count": 19,
     "metadata": {},
     "output_type": "execute_result"
    }
   ],
   "source": [
    "len(train_ques_answer)"
   ]
  },
  {
   "cell_type": "code",
   "execution_count": 20,
   "metadata": {},
   "outputs": [],
   "source": [
    "def replace_answer(row):\n",
    "    if row['question'] in train_ques_answer:\n",
    "        print('pred: {}, train_answer: {}'.format(row['answer'], train_ques_answer[row['question']]))\n",
    "        return train_ques_answer[row['question']]\n",
    "    else:\n",
    "        return row['answer']"
   ]
  },
  {
   "cell_type": "code",
   "execution_count": 21,
   "metadata": {},
   "outputs": [
    {
     "name": "stdout",
     "output_type": "stream",
     "text": [
      "pred: 大口径火炮, train_answer: 大口径火炮\n",
      "pred: 高航速、远航程、大深度、大威力、智能化、隐身, train_answer: 现代鱼雷具有速度快、航程远、隐蔽性好、命中率高和破坏威力大等特点，被称“水中导弹”。\n",
      "pred: 每小时70公里, train_answer: 每小时70公里\n",
      "pred: 南部九四式手枪全长180毫米, train_answer: 南部九四式手枪全长 180毫米\n",
      "pred: 19.6公斤, train_answer: 19.6公斤\n",
      "pred: “果断风暴”, train_answer: “果断风暴”\n",
      "pred: 09式霰弹枪, train_answer: 09式霰弹枪\n",
      "pred: R-77, train_answer: R-77\n",
      "pred: 最大特征就是大威力的120毫米反坦克炮。, train_answer: 最大特征就是大威力的120毫米反坦克炮。\n",
      "pred: 整齐划一、铿锵有力、威武雄壮”, train_answer: 整齐划一、铿锵有力、威武雄壮\n",
      "pred: 2016年, train_answer: 2016年\n",
      "pred: 4218千克, train_answer: 只有4.22吨\n",
      "pred: 超过了22公里, train_answer: 超过了22公里\n",
      "pred: 日本“摩耶”号导弹驱逐舰, train_answer: 日本“摩耶”号导弹驱逐舰\n",
      "pred: “杰里科”导弹、“杰里科-2”近程导弹和“杰里科-3”型远程弹道导弹, train_answer: 分为“杰里科”导弹、“杰里科-2”近程导弹和“杰里科-3”型远程弹道导弹三种型号。\n",
      "pred: T-34, train_answer: T-34\n",
      "pred: 250千米, train_answer: 250千米\n",
      "pred: 5.8m, train_answer: 5.8m\n",
      "pred: 前甲板的MK38型25mm舰炮, train_answer: MK38型25mm舰炮\n",
      "pred: “红宝石”级全长73.6米, train_answer: 73.6米\n",
      "pred: 436千克, train_answer: 436千克\n"
     ]
    }
   ],
   "source": [
    "test_pred['answer'] = test_pred.apply(lambda row: replace_answer(row), axis=1)"
   ]
  },
  {
   "cell_type": "code",
   "execution_count": 22,
   "metadata": {},
   "outputs": [],
   "source": [
    "del test_pred['question']"
   ]
  },
  {
   "cell_type": "code",
   "execution_count": 23,
   "metadata": {},
   "outputs": [
    {
     "data": {
      "text/plain": [
       "(4969, 2)"
      ]
     },
     "execution_count": 23,
     "metadata": {},
     "output_type": "execute_result"
    }
   ],
   "source": [
    "test_pred.shape"
   ]
  },
  {
   "cell_type": "code",
   "execution_count": 24,
   "metadata": {},
   "outputs": [],
   "source": [
    "test_pred.to_csv('add_back_trans_combine_0315pred-entity_0928_postprocess.csv', index=False, encoding='utf8')"
   ]
  },
  {
   "cell_type": "code",
   "execution_count": null,
   "metadata": {},
   "outputs": [],
   "source": []
  }
 ],
 "metadata": {
  "kernelspec": {
   "display_name": "Python 3",
   "language": "python",
   "name": "python3"
  },
  "language_info": {
   "codemirror_mode": {
    "name": "ipython",
    "version": 3
   },
   "file_extension": ".py",
   "mimetype": "text/x-python",
   "name": "python",
   "nbconvert_exporter": "python",
   "pygments_lexer": "ipython3",
   "version": "3.6.8"
  }
 },
 "nbformat": 4,
 "nbformat_minor": 2
}
