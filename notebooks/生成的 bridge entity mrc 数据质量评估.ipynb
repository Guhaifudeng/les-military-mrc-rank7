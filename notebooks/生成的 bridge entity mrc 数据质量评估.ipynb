{
 "cells": [
  {
   "cell_type": "code",
   "execution_count": 1,
   "metadata": {},
   "outputs": [],
   "source": [
    "import sys\n",
    "sys.path.append('../')\n",
    "import re\n",
    "import os\n",
    "import time\n",
    "import numpy as np\n",
    "import pandas as pd\n",
    "from tqdm import tqdm\n",
    "tqdm.pandas()\n",
    "import json\n",
    "from utils.rouge import RougeL\n",
    "from utils.precision_recall_f1 import precision_recall_f1\n",
    "import matplotlib\n",
    "import matplotlib.pyplot as plt\n",
    "import seaborn as sns\n",
    "sns.set_style('whitegrid')\n",
    "%matplotlib inline\n",
    "matplotlib.style.use('ggplot')"
   ]
  },
  {
   "cell_type": "markdown",
   "metadata": {},
   "source": [
    "## 保持全局长度下计算 label 的 ceil rougel"
   ]
  },
  {
   "cell_type": "code",
   "execution_count": 18,
   "metadata": {},
   "outputs": [
    {
     "name": "stderr",
     "output_type": "stream",
     "text": [
      " 89%|████████▉ | 22107/24843 [00:00<00:00, 27604.63it/s]"
     ]
    },
    {
     "name": "stdout",
     "output_type": "stream",
     "text": [
      "Q_16625dnjns\n",
      "Q_15475sshdd\n"
     ]
    },
    {
     "name": "stderr",
     "output_type": "stream",
     "text": [
      "100%|██████████| 24843/24843 [00:00<00:00, 27557.73it/s]\n"
     ]
    }
   ],
   "source": [
    "ori_ceil_rougels = []\n",
    "\n",
    "zero_ceil_rougel_samples = set()\n",
    "\n",
    "with open('../input/bridge_entity_mrc_dataset/all_train_full_content.json') as f:\n",
    "    lines = f.readlines()\n",
    "    for line in tqdm(lines):\n",
    "        if not line.startswith('{'):\n",
    "            continue\n",
    "\n",
    "        sample = json.loads(line.strip())\n",
    "        ori_ceil_rougels.append(sample['ceil_rougel'])\n",
    "        \n",
    "        if sample['ceil_rougel'] == 0:\n",
    "            zero_ceil_rougel_samples.add(sample['question_id'])\n",
    "        \n",
    "        if 0.4 < sample['ceil_rougel'] < 0.5:\n",
    "            print(sample['question_id'])"
   ]
  },
  {
   "cell_type": "code",
   "execution_count": 19,
   "metadata": {},
   "outputs": [
    {
     "data": {
      "image/png": "[encoded data removed]",
      "text/plain": [
       "<Figure size 720x432 with 1 Axes>"
      ]
     },
     "metadata": {
      "needs_background": "light"
     },
     "output_type": "display_data"
    }
   ],
   "source": [
    "plt.figure(figsize=(10, 6))\n",
    "sns.distplot(ori_ceil_rougels, kde=False)\n",
    "plt.title('ceil rougel')\n",
    "plt.show()"
   ]
  },
  {
   "cell_type": "code",
   "execution_count": 20,
   "metadata": {},
   "outputs": [],
   "source": [
    "ori_ceil_rougels = np.array(ori_ceil_rougels)"
   ]
  },
  {
   "cell_type": "code",
   "execution_count": 21,
   "metadata": {},
   "outputs": [],
   "source": [
    "ori_ceil_rougels = ori_ceil_rougels[ori_ceil_rougels > -1]"
   ]
  },
  {
   "cell_type": "code",
   "execution_count": 22,
   "metadata": {},
   "outputs": [
    {
     "name": "stdout",
     "output_type": "stream",
     "text": [
      "total: 9059\n",
      "ceil rougel < 0.20: 0\n",
      "ceil rougel > 0.95: 8461\n",
      "ceil rougel = 0: 0\n",
      "ceil rougel = 1: 8425\n"
     ]
    }
   ],
   "source": [
    "print('total:', ori_ceil_rougels.shape[0])\n",
    "print('ceil rougel < 0.20:', ori_ceil_rougels[ori_ceil_rougels < 0.2].shape[0])\n",
    "print('ceil rougel > 0.95:', ori_ceil_rougels[ori_ceil_rougels > 0.95].shape[0])\n",
    "print('ceil rougel = 0:', ori_ceil_rougels[ori_ceil_rougels == 0].shape[0])\n",
    "print('ceil rougel = 1:', ori_ceil_rougels[ori_ceil_rougels == 1].shape[0])"
   ]
  },
  {
   "cell_type": "code",
   "execution_count": 23,
   "metadata": {},
   "outputs": [
    {
     "name": "stdout",
     "output_type": "stream",
     "text": [
      "0.930014350369798\n",
      "0.9872874920388982\n"
     ]
    }
   ],
   "source": [
    "print(ori_ceil_rougels[ori_ceil_rougels == 1].shape[0] / ori_ceil_rougels.shape[0])\n",
    "print(np.mean(ori_ceil_rougels))"
   ]
  },
  {
   "cell_type": "markdown",
   "metadata": {},
   "source": [
    "## 训练集的 content 截断后的 ceil rougel"
   ]
  },
  {
   "cell_type": "code",
   "execution_count": 24,
   "metadata": {},
   "outputs": [
    {
     "name": "stderr",
     "output_type": "stream",
     "text": [
      "100%|██████████| 24342/24342 [00:00<00:00, 37190.46it/s]\n"
     ]
    }
   ],
   "source": [
    "ori_ceil_rougels = []\n",
    "\n",
    "zero_ceil_rougel_samples = set()\n",
    "\n",
    "with open('../input/bridge_entity_mrc_dataset/train_max_content_len_1024.json') as f:\n",
    "    lines = f.readlines()\n",
    "    for line in tqdm(lines):\n",
    "        if not line.startswith('{'):\n",
    "            continue\n",
    "\n",
    "        sample = json.loads(line.strip())\n",
    "        ori_ceil_rougels.append(sample['ceil_rougel'])\n",
    "        \n",
    "        if sample['ceil_rougel'] == 0:\n",
    "            zero_ceil_rougel_samples.add(sample['question_id'])"
   ]
  },
  {
   "cell_type": "code",
   "execution_count": 25,
   "metadata": {},
   "outputs": [
    {
     "data": {
      "image/png": "[encoded data removed]",
      "text/plain": [
       "<Figure size 720x432 with 1 Axes>"
      ]
     },
     "metadata": {
      "needs_background": "light"
     },
     "output_type": "display_data"
    }
   ],
   "source": [
    "plt.figure(figsize=(10, 6))\n",
    "sns.distplot(ori_ceil_rougels, kde=False)\n",
    "plt.title('ceil rougel')\n",
    "plt.show()"
   ]
  },
  {
   "cell_type": "code",
   "execution_count": 26,
   "metadata": {},
   "outputs": [],
   "source": [
    "ori_ceil_rougels = np.array(ori_ceil_rougels)\n",
    "ori_ceil_rougels = ori_ceil_rougels[ori_ceil_rougels > -1]"
   ]
  },
  {
   "cell_type": "code",
   "execution_count": 27,
   "metadata": {},
   "outputs": [
    {
     "name": "stdout",
     "output_type": "stream",
     "text": [
      "total: 8873\n",
      "ceil rougel < 0.20: 0\n",
      "ceil rougel > 0.95: 8285\n",
      "ceil rougel = 0: 0\n",
      "ceil rougel = 1: 8249\n"
     ]
    }
   ],
   "source": [
    "print('total:', ori_ceil_rougels.shape[0])\n",
    "print('ceil rougel < 0.20:', ori_ceil_rougels[ori_ceil_rougels < 0.2].shape[0])\n",
    "print('ceil rougel > 0.95:', ori_ceil_rougels[ori_ceil_rougels > 0.95].shape[0])\n",
    "print('ceil rougel = 0:', ori_ceil_rougels[ori_ceil_rougels == 0].shape[0])\n",
    "print('ceil rougel = 1:', ori_ceil_rougels[ori_ceil_rougels == 1].shape[0])"
   ]
  },
  {
   "cell_type": "code",
   "execution_count": 28,
   "metadata": {},
   "outputs": [
    {
     "name": "stdout",
     "output_type": "stream",
     "text": [
      "0.9296742927983771\n",
      "0.9872584558999932\n"
     ]
    }
   ],
   "source": [
    "print(ori_ceil_rougels[ori_ceil_rougels == 1].shape[0] / ori_ceil_rougels.shape[0])\n",
    "print(np.mean(ori_ceil_rougels))"
   ]
  },
  {
   "cell_type": "code",
   "execution_count": null,
   "metadata": {},
   "outputs": [],
   "source": []
  }
 ],
 "metadata": {
  "kernelspec": {
   "display_name": "Python 3",
   "language": "python",
   "name": "python3"
  },
  "language_info": {
   "codemirror_mode": {
    "name": "ipython",
    "version": 3
   },
   "file_extension": ".py",
   "mimetype": "text/x-python",
   "name": "python",
   "nbconvert_exporter": "python",
   "pygments_lexer": "ipython3",
   "version": "3.6.8"
  }
 },
 "nbformat": 4,
 "nbformat_minor": 2
}
