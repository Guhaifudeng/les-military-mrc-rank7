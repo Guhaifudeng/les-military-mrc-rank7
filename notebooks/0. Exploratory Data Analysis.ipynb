{
 "cells": [
  {
   "cell_type": "code",
   "execution_count": 41,
   "metadata": {},
   "outputs": [],
   "source": [
    "import sys\n",
    "sys.path.append('../')\n",
    "import re\n",
    "import os\n",
    "import time\n",
    "import numpy as np\n",
    "import pandas as pd\n",
    "from tqdm import tqdm\n",
    "tqdm.pandas()\n",
    "import datetime\n",
    "\n",
    "import matplotlib\n",
    "import matplotlib.pyplot as plt\n",
    "import seaborn as sns\n",
    "sns.set_style('whitegrid')\n",
    "%matplotlib inline\n",
    "matplotlib.style.use('ggplot')"
   ]
  },
  {
   "cell_type": "code",
   "execution_count": 8,
   "metadata": {},
   "outputs": [
    {
     "name": "stdout",
     "output_type": "stream",
     "text": [
      "original  README.md\r\n"
     ]
    }
   ],
   "source": [
    "!ls ../input"
   ]
  },
  {
   "cell_type": "code",
   "execution_count": 9,
   "metadata": {},
   "outputs": [],
   "source": [
    "train_df = pd.read_csv('../input/original/train_round_0.csv')\n",
    "test_df = pd.read_csv('../input/original/test_data_r0.csv')"
   ]
  },
  {
   "cell_type": "code",
   "execution_count": 15,
   "metadata": {},
   "outputs": [
    {
     "name": "stdout",
     "output_type": "stream",
     "text": [
      "(24843, 16) (4969, 13)\n"
     ]
    },
    {
     "data": {
      "text/html": [
       "<div>\n",
       "<style scoped>\n",
       "    .dataframe tbody tr th:only-of-type {\n",
       "        vertical-align: middle;\n",
       "    }\n",
       "\n",
       "    .dataframe tbody tr th {\n",
       "        vertical-align: top;\n",
       "    }\n",
       "\n",
       "    .dataframe thead th {\n",
       "        text-align: right;\n",
       "    }\n",
       "</style>\n",
       "<table border=\"1\" class=\"dataframe\">\n",
       "  <thead>\n",
       "    <tr style=\"text-align: right;\">\n",
       "      <th></th>\n",
       "      <th>answer</th>\n",
       "      <th>bridging_entity</th>\n",
       "      <th>content1</th>\n",
       "      <th>content2</th>\n",
       "      <th>content3</th>\n",
       "      <th>content4</th>\n",
       "      <th>content5</th>\n",
       "      <th>keyword</th>\n",
       "      <th>question</th>\n",
       "      <th>supporting_paragraph</th>\n",
       "      <th>title1</th>\n",
       "      <th>title2</th>\n",
       "      <th>title3</th>\n",
       "      <th>title4</th>\n",
       "      <th>title5</th>\n",
       "      <th>question_id</th>\n",
       "    </tr>\n",
       "  </thead>\n",
       "  <tbody>\n",
       "    <tr>\n",
       "      <th>0</th>\n",
       "      <td>@content5@卡尔文森号航母@content5@</td>\n",
       "      <td>无</td>\n",
       "      <td>据美国媒体9月10日报道称，近日部署在美国东海岸多个军事基地的3艘核动力航母出现了罕见的一幕...</td>\n",
       "      <td>艾森豪威尔号航空母舰。它是美国尼米兹级核动力航空母舰的二号舰，舰名承袭自参加过第二次世界大战...</td>\n",
       "      <td>自2016年以来，美国海军第一次出现两艘核动力航母齐聚地中海的特殊部署，这意味着美国准备对某...</td>\n",
       "      <td>伊朗塔斯尼姆通讯社日前在社交媒体上发布了一段视频，视频中显示一艘航母在驱逐舰的护航下正在海面...</td>\n",
       "      <td>作为全世界唯一的超级大国，美国拥有10艘尼米兹核动力航母，其航母舰队和海军实力足以能够秒杀任...</td>\n",
       "      <td>“艾森豪威尔”号核动力航母</td>\n",
       "      <td>参与美韩举行的“鹞鹰”联合军演的是哪艘航母？</td>\n",
       "      <td>@content5@如今抵达西太平洋的美卡尔文森号航母，已经在该地区执行了一个多月的任务，并...</td>\n",
       "      <td>美军3艘核动力航母紧急机动，情况十分突然 高官：差点出了大事！</td>\n",
       "      <td>世界上最先进的航空母舰：艾森豪威尔号航空母舰！</td>\n",
       "      <td>局势十分紧张，美军两艘超级航母坐镇地中海 在向谁发出警告？</td>\n",
       "      <td>美航母抵近伊朗，伊战机紧急起飞，传回现场画面：甲板满是战机</td>\n",
       "      <td>美法曾联手包围俄航母 如今四国又来给中国添堵</td>\n",
       "      <td>Q_05193ghdyd</td>\n",
       "    </tr>\n",
       "  </tbody>\n",
       "</table>\n",
       "</div>"
      ],
      "text/plain": [
       "                        answer bridging_entity  \\\n",
       "0  @content5@卡尔文森号航母@content5@               无   \n",
       "\n",
       "                                            content1  \\\n",
       "0  据美国媒体9月10日报道称，近日部署在美国东海岸多个军事基地的3艘核动力航母出现了罕见的一幕...   \n",
       "\n",
       "                                            content2  \\\n",
       "0  艾森豪威尔号航空母舰。它是美国尼米兹级核动力航空母舰的二号舰，舰名承袭自参加过第二次世界大战...   \n",
       "\n",
       "                                            content3  \\\n",
       "0  自2016年以来，美国海军第一次出现两艘核动力航母齐聚地中海的特殊部署，这意味着美国准备对某...   \n",
       "\n",
       "                                            content4  \\\n",
       "0  伊朗塔斯尼姆通讯社日前在社交媒体上发布了一段视频，视频中显示一艘航母在驱逐舰的护航下正在海面...   \n",
       "\n",
       "                                            content5        keyword  \\\n",
       "0  作为全世界唯一的超级大国，美国拥有10艘尼米兹核动力航母，其航母舰队和海军实力足以能够秒杀任...  “艾森豪威尔”号核动力航母   \n",
       "\n",
       "                 question                               supporting_paragraph  \\\n",
       "0  参与美韩举行的“鹞鹰”联合军演的是哪艘航母？  @content5@如今抵达西太平洋的美卡尔文森号航母，已经在该地区执行了一个多月的任务，并...   \n",
       "\n",
       "                            title1                   title2  \\\n",
       "0  美军3艘核动力航母紧急机动，情况十分突然 高官：差点出了大事！  世界上最先进的航空母舰：艾森豪威尔号航空母舰！   \n",
       "\n",
       "                          title3                         title4  \\\n",
       "0  局势十分紧张，美军两艘超级航母坐镇地中海 在向谁发出警告？  美航母抵近伊朗，伊战机紧急起飞，传回现场画面：甲板满是战机   \n",
       "\n",
       "                   title5   question_id  \n",
       "0  美法曾联手包围俄航母 如今四国又来给中国添堵  Q_05193ghdyd  "
      ]
     },
     "execution_count": 15,
     "metadata": {},
     "output_type": "execute_result"
    }
   ],
   "source": [
    "print(train_df.shape, test_df.shape)\n",
    "train_df.head(1)"
   ]
  },
  {
   "cell_type": "code",
   "execution_count": 12,
   "metadata": {},
   "outputs": [],
   "source": [
    "train_content1_len = train_df['content1'].str.len()\n",
    "train_content2_len = train_df['content2'].str.len()\n",
    "train_content3_len = train_df['content3'].str.len()\n",
    "train_content4_len = train_df['content4'].str.len()\n",
    "train_content5_len = train_df['content5'].str.len()\n",
    "\n",
    "test_content1_len = test_df['content1'].str.len()\n",
    "test_content2_len = test_df['content2'].str.len()\n",
    "test_content3_len = test_df['content3'].str.len()\n",
    "test_content4_len = test_df['content4'].str.len()\n",
    "test_content5_len = test_df['content5'].str.len()"
   ]
  },
  {
   "cell_type": "markdown",
   "metadata": {},
   "source": [
    "## document 长度分布"
   ]
  },
  {
   "cell_type": "code",
   "execution_count": 20,
   "metadata": {},
   "outputs": [
    {
     "data": {
      "image/png": "[encoded data removed]",
      "text/plain": [
       "<Figure size 1440x720 with 6 Axes>"
      ]
     },
     "metadata": {
      "needs_background": "light"
     },
     "output_type": "display_data"
    }
   ],
   "source": [
    "plt.figure(figsize=(20,10))\n",
    "plt.subplot(321)\n",
    "sns.distplot(train_content1_len)\n",
    "plt.subplot(322)\n",
    "sns.distplot(train_content2_len)\n",
    "plt.subplot(323)\n",
    "sns.distplot(train_content3_len)\n",
    "plt.subplot(324)\n",
    "sns.distplot(train_content4_len)\n",
    "plt.subplot(325)\n",
    "sns.distplot(train_content5_len)\n",
    "plt.subplot(326)\n",
    "sns.distplot(train_content1_len + train_content2_len + train_content3_len + \n",
    "             train_content4_len + train_content5_len, axlabel='total length')\n",
    "plt.show()"
   ]
  },
  {
   "cell_type": "markdown",
   "metadata": {},
   "source": [
    "## 答案长度分布"
   ]
  },
  {
   "cell_type": "code",
   "execution_count": 34,
   "metadata": {},
   "outputs": [],
   "source": [
    "train_df['answer_str'] = train_df['answer'].str.replace('@content\\d@', '')"
   ]
  },
  {
   "cell_type": "code",
   "execution_count": 38,
   "metadata": {},
   "outputs": [
    {
     "data": {
      "image/png": "[encoded data removed]",
      "text/plain": [
       "<Figure size 720x360 with 1 Axes>"
      ]
     },
     "metadata": {
      "needs_background": "light"
     },
     "output_type": "display_data"
    }
   ],
   "source": [
    "plt.figure(figsize=(10,5))\n",
    "sns.distplot(train_df['answer_str'].str.len())\n",
    "plt.show()"
   ]
  },
  {
   "cell_type": "markdown",
   "metadata": {},
   "source": [
    "## 答案所在篇章分布"
   ]
  },
  {
   "cell_type": "code",
   "execution_count": 61,
   "metadata": {},
   "outputs": [],
   "source": [
    "ans_pattern = re.compile(r'@content\\d@')\n",
    "\n",
    "def find_answer_in_docid(answer):\n",
    "    docs = ans_pattern.findall(answer)\n",
    "    return ','.join(list(set([doc[-2:-1] for doc in docs])))\n"
   ]
  },
  {
   "cell_type": "code",
   "execution_count": 62,
   "metadata": {},
   "outputs": [],
   "source": [
    "train_df['answer_in_docid'] = train_df['answer'].map(find_answer_in_docid)"
   ]
  },
  {
   "cell_type": "code",
   "execution_count": 65,
   "metadata": {},
   "outputs": [
    {
     "data": {
      "image/png": "[encoded data removed]",
      "text/plain": [
       "<Figure size 720x432 with 1 Axes>"
      ]
     },
     "metadata": {},
     "output_type": "display_data"
    }
   ],
   "source": [
    "plt.figure(figsize=(10, 6))\n",
    "sns.countplot(train_df['answer_in_docid'], order=train_df['answer_in_docid'].value_counts().index)\n",
    "plt.show()"
   ]
  },
  {
   "cell_type": "markdown",
   "metadata": {},
   "source": [
    "## 答案的基本模式，指导数据清洗策略"
   ]
  },
  {
   "cell_type": "code",
   "execution_count": 68,
   "metadata": {},
   "outputs": [],
   "source": [
    "# 是否包含 url\n",
    "train_df['answer_has_url'] = train_df['answer_str'].map(lambda x: 'http' in x or 'https' in x)"
   ]
  },
  {
   "cell_type": "code",
   "execution_count": 69,
   "metadata": {},
   "outputs": [
    {
     "data": {
      "text/plain": [
       "<matplotlib.axes._subplots.AxesSubplot at 0x7fe957fe0f98>"
      ]
     },
     "execution_count": 69,
     "metadata": {},
     "output_type": "execute_result"
    },
    {
     "data": {
      "image/png": "[encoded data removed]",
      "text/plain": [
       "<Figure size 432x288 with 1 Axes>"
      ]
     },
     "metadata": {},
     "output_type": "display_data"
    }
   ],
   "source": [
    "sns.countplot(train_df['answer_has_url'])"
   ]
  },
  {
   "cell_type": "code",
   "execution_count": 71,
   "metadata": {},
   "outputs": [],
   "source": [
    "# 是否包含英文标点符号,!?等\n",
    "train_df['answer_has_eng_punc'] = train_df['answer_str'].map(lambda x: ',' in x or '!' in x)"
   ]
  },
  {
   "cell_type": "code",
   "execution_count": 72,
   "metadata": {},
   "outputs": [
    {
     "data": {
      "text/plain": [
       "<matplotlib.axes._subplots.AxesSubplot at 0x7fe957e91e48>"
      ]
     },
     "execution_count": 72,
     "metadata": {},
     "output_type": "execute_result"
    },
    {
     "data": {
      "image/png": "[encoded data removed]",
      "text/plain": [
       "<Figure size 432x288 with 1 Axes>"
      ]
     },
     "metadata": {},
     "output_type": "display_data"
    }
   ],
   "source": [
    "sns.countplot(train_df['answer_has_eng_punc'])"
   ]
  },
  {
   "cell_type": "code",
   "execution_count": 74,
   "metadata": {},
   "outputs": [
    {
     "data": {
      "text/plain": [
       "85                                               40,580吨\n",
       "170    掠夺者最高速度可以达到每小时120公里。这款巨无霸的动力配置来自CUMMINS ISBe4柴...\n",
       "234                   枪托与机匣配合紧密, 精度高, 线条流畅, 外形优雅的一贯优点. ,\n",
       "333                                             61,170 吨\n",
       "412                                             140,000把\n",
       "Name: answer_str, dtype: object"
      ]
     },
     "execution_count": 74,
     "metadata": {},
     "output_type": "execute_result"
    }
   ],
   "source": [
    "train_df['answer_str'][train_df['answer_has_eng_punc'] == True].head()"
   ]
  },
  {
   "cell_type": "markdown",
   "metadata": {},
   "source": [
    "## 问题和答案的对比"
   ]
  },
  {
   "cell_type": "code",
   "execution_count": 76,
   "metadata": {
    "scrolled": false
   },
   "outputs": [
    {
     "data": {
      "text/html": [
       "<div>\n",
       "<style scoped>\n",
       "    .dataframe tbody tr th:only-of-type {\n",
       "        vertical-align: middle;\n",
       "    }\n",
       "\n",
       "    .dataframe tbody tr th {\n",
       "        vertical-align: top;\n",
       "    }\n",
       "\n",
       "    .dataframe thead th {\n",
       "        text-align: right;\n",
       "    }\n",
       "</style>\n",
       "<table border=\"1\" class=\"dataframe\">\n",
       "  <thead>\n",
       "    <tr style=\"text-align: right;\">\n",
       "      <th></th>\n",
       "      <th>question</th>\n",
       "      <th>answer_str</th>\n",
       "    </tr>\n",
       "  </thead>\n",
       "  <tbody>\n",
       "    <tr>\n",
       "      <th>0</th>\n",
       "      <td>参与美韩举行的“鹞鹰”联合军演的是哪艘航母？</td>\n",
       "      <td>卡尔文森号航母</td>\n",
       "    </tr>\n",
       "    <tr>\n",
       "      <th>1</th>\n",
       "      <td>中菲关系焕发新的活力的好处是什么</td>\n",
       "      <td>实现了由转圜、巩固到提升的跨越式发展，为两国人民带来福祉，促进了地区和平稳定</td>\n",
       "    </tr>\n",
       "    <tr>\n",
       "      <th>2</th>\n",
       "      <td>海战开始，泰国海军一共损失了三艘什么艇？</td>\n",
       "      <td>鱼雷艇及吞武里号浅水重炮艇</td>\n",
       "    </tr>\n",
       "    <tr>\n",
       "      <th>3</th>\n",
       "      <td>苏联把沙俄的\"拉扎列夫海军上将\"号改造后的重巡洋舰有多重？</td>\n",
       "      <td>8000多吨</td>\n",
       "    </tr>\n",
       "    <tr>\n",
       "      <th>4</th>\n",
       "      <td>AW－159 “野猫”直升机的机长是多少米？</td>\n",
       "      <td>15.22米</td>\n",
       "    </tr>\n",
       "    <tr>\n",
       "      <th>5</th>\n",
       "      <td>哪款手枪代替了鲁格P-08成为了德军的制式手枪？</td>\n",
       "      <td>沃尔特P-38</td>\n",
       "    </tr>\n",
       "    <tr>\n",
       "      <th>6</th>\n",
       "      <td>韩国空军现役主力战斗机是哪个？</td>\n",
       "      <td>F-15K</td>\n",
       "    </tr>\n",
       "    <tr>\n",
       "      <th>7</th>\n",
       "      <td>法国政界对法国总统的什么行为感到抵触？</td>\n",
       "      <td>让法国成为美国的附庸和木偶非常抵触。法国已经做好准备对叙利亚进行军事干预</td>\n",
       "    </tr>\n",
       "    <tr>\n",
       "      <th>8</th>\n",
       "      <td>桑普森具有什么能力？</td>\n",
       "      <td>多功能雷达探测和追踪中程弹道导弹的能力。</td>\n",
       "    </tr>\n",
       "    <tr>\n",
       "      <th>9</th>\n",
       "      <td>中越两国的“双料将军”是谁？</td>\n",
       "      <td>洪水将军</td>\n",
       "    </tr>\n",
       "    <tr>\n",
       "      <th>10</th>\n",
       "      <td>日本宇宙航空研究开发机构(JAXA)发射的第六枚H-2A火箭，由于什么被迫实行自爆？</td>\n",
       "      <td>固体助推器 分离故障</td>\n",
       "    </tr>\n",
       "    <tr>\n",
       "      <th>11</th>\n",
       "      <td>中国要与波兰深化在哪些框架下的监察与反腐败合作？</td>\n",
       "      <td>“一带一路”、“16+1合作”等</td>\n",
       "    </tr>\n",
       "    <tr>\n",
       "      <th>12</th>\n",
       "      <td>鼓吹M1A2T坦克是“地表最强”的岛屿把哪些坦克视为反击两栖登陆的王牌？</td>\n",
       "      <td>M-60A和M-48系列CM-11、CM-12三种主战坦克</td>\n",
       "    </tr>\n",
       "    <tr>\n",
       "      <th>13</th>\n",
       "      <td>印度的哪种导弹与美国“爱国者”导弹系统类似可以同时跟踪64个目标？</td>\n",
       "      <td>“天空”导弹系统</td>\n",
       "    </tr>\n",
       "    <tr>\n",
       "      <th>14</th>\n",
       "      <td>“斯瑞克”装甲车于2003年列装美国陆军，后经多次改进，特别是提高了什么能力？</td>\n",
       "      <td>生存能力。</td>\n",
       "    </tr>\n",
       "    <tr>\n",
       "      <th>15</th>\n",
       "      <td>皇家橡树号的标准排水量是多少吨？</td>\n",
       "      <td>29150吨</td>\n",
       "    </tr>\n",
       "    <tr>\n",
       "      <th>16</th>\n",
       "      <td>“银柳”便携式导弹的弹头重量是多少？</td>\n",
       "      <td>1.5千克</td>\n",
       "    </tr>\n",
       "    <tr>\n",
       "      <th>17</th>\n",
       "      <td>萨克森级护卫舰和90年代我国自研的051B哪一款驱逐舰排水量已经不相上下了？</td>\n",
       "      <td>051B驱逐舰</td>\n",
       "    </tr>\n",
       "    <tr>\n",
       "      <th>18</th>\n",
       "      <td>日本的“情报搜集卫星”系统由多少颗卫星组成？</td>\n",
       "      <td>日本的“情报搜集卫星”系统由4颗卫星组成</td>\n",
       "    </tr>\n",
       "    <tr>\n",
       "      <th>19</th>\n",
       "      <td>亚太地区唯一的国防部长级安全对话是？</td>\n",
       "      <td>香格里拉对话</td>\n",
       "    </tr>\n",
       "    <tr>\n",
       "      <th>20</th>\n",
       "      <td>美国目前唯一一支部署在欧洲战区前沿的是美国陆军第1机械化步兵师第几旅？</td>\n",
       "      <td>第3旅</td>\n",
       "    </tr>\n",
       "    <tr>\n",
       "      <th>21</th>\n",
       "      <td>作为”黑旋风“与直-10“霹雳火”被称为梁山好汉帮的武直是谁研制出来的？</td>\n",
       "      <td>中航工业哈飞和中航工业直升机设计研究所。</td>\n",
       "    </tr>\n",
       "    <tr>\n",
       "      <th>22</th>\n",
       "      <td>公安部副部长、国家移民管理局局长许甘露对中越签署的什么协议表示祝贺？</td>\n",
       "      <td>《中华人民共和国公安部与越南社会主义共和国国防部关于建立边境管理和口岸边防检查三级执法合作机...</td>\n",
       "    </tr>\n",
       "    <tr>\n",
       "      <th>23</th>\n",
       "      <td>S-97的最大起飞重量？</td>\n",
       "      <td>5吨</td>\n",
       "    </tr>\n",
       "    <tr>\n",
       "      <th>24</th>\n",
       "      <td>目前中国海军中，建造数量最多的一款军舰的人员编制是多少？</td>\n",
       "      <td>70人</td>\n",
       "    </tr>\n",
       "    <tr>\n",
       "      <th>25</th>\n",
       "      <td>演变成AH-1 \"休伊眼镜蛇\"的原型是在什么时候实现首飞？</td>\n",
       "      <td>1956年</td>\n",
       "    </tr>\n",
       "    <tr>\n",
       "      <th>26</th>\n",
       "      <td>有“中国的M113”之称的是哪辆车？</td>\n",
       "      <td>63式装甲输送车。</td>\n",
       "    </tr>\n",
       "    <tr>\n",
       "      <th>27</th>\n",
       "      <td>什么事件是日本近代史上最大的一次叛乱行动，也是1930年代日本法西斯主义发展的重要事件？</td>\n",
       "      <td>二二六事件</td>\n",
       "    </tr>\n",
       "    <tr>\n",
       "      <th>28</th>\n",
       "      <td>美国海军新型船坞登陆舰圣安东尼奥号最大排水量是多少？</td>\n",
       "      <td>22600吨</td>\n",
       "    </tr>\n",
       "    <tr>\n",
       "      <th>29</th>\n",
       "      <td>92式9毫米手枪子弹的初速有多少米/秒呢？</td>\n",
       "      <td>有350</td>\n",
       "    </tr>\n",
       "    <tr>\n",
       "      <th>...</th>\n",
       "      <td>...</td>\n",
       "      <td>...</td>\n",
       "    </tr>\n",
       "    <tr>\n",
       "      <th>24813</th>\n",
       "      <td>美国的“西奥多·罗斯福”号航母可容纳多少架战机？</td>\n",
       "      <td>可容纳60架战机</td>\n",
       "    </tr>\n",
       "    <tr>\n",
       "      <th>24814</th>\n",
       "      <td>1862年买下奥博克港的国家在战后军事实力恢复很快的原因是什么？</td>\n",
       "      <td>这得宜于法国在北约及全球所釆取的独立的军事和外交政策，至今其国内航空，造船，地面兵器等军工业...</td>\n",
       "    </tr>\n",
       "    <tr>\n",
       "      <th>24815</th>\n",
       "      <td>被称为著名的“杜立德空袭东京”事件中的急先锋轰炸机是世界第二次大战全球战场中最为优秀的什么型...</td>\n",
       "      <td>中轻型轰炸机之一</td>\n",
       "    </tr>\n",
       "    <tr>\n",
       "      <th>24816</th>\n",
       "      <td>“和平方舟”号排水量达到多少吨？</td>\n",
       "      <td>5500吨</td>\n",
       "    </tr>\n",
       "    <tr>\n",
       "      <th>24817</th>\n",
       "      <td>乌克兰问题三方联络小组分别是哪些？</td>\n",
       "      <td>乌克兰、欧安组织、俄罗斯</td>\n",
       "    </tr>\n",
       "    <tr>\n",
       "      <th>24818</th>\n",
       "      <td>“Ilan Voyager”（伊兰航海家）号全长有多少米？</td>\n",
       "      <td>全长21.3米</td>\n",
       "    </tr>\n",
       "    <tr>\n",
       "      <th>24819</th>\n",
       "      <td>美国以海鹞为基础发展的舰载机周二（3日）在哪里训练时坠毁？</td>\n",
       "      <td>在吉布提训练时坠毁</td>\n",
       "    </tr>\n",
       "    <tr>\n",
       "      <th>24820</th>\n",
       "      <td>哈飞与北航联合设计的一种具有隐身能力的中高空远程无人侦察机的重量是多少？</td>\n",
       "      <td>1.2吨</td>\n",
       "    </tr>\n",
       "    <tr>\n",
       "      <th>24821</th>\n",
       "      <td>66式152毫米加榴炮是在苏联哪款毫米榴弹炮基础上仿制改进而来？打击的目标是什么？</td>\n",
       "      <td>是在苏联M20式152毫米榴弹炮基础上仿制改进而来打击的目标是地堡群及敌指挥所</td>\n",
       "    </tr>\n",
       "    <tr>\n",
       "      <th>24822</th>\n",
       "      <td>科幻程度超过了地球上现役的同类舰艇是哪个舰艇？</td>\n",
       "      <td>美国“朱姆沃尔特”级导弹驱逐舰</td>\n",
       "    </tr>\n",
       "    <tr>\n",
       "      <th>24823</th>\n",
       "      <td>目前世界上已知的拥有在役巡洋舰的是哪两个国家？</td>\n",
       "      <td>美国和俄罗斯，</td>\n",
       "    </tr>\n",
       "    <tr>\n",
       "      <th>24824</th>\n",
       "      <td>二战中表现最差的手枪是哪个？</td>\n",
       "      <td>南部十四式手枪。</td>\n",
       "    </tr>\n",
       "    <tr>\n",
       "      <th>24825</th>\n",
       "      <td>“冥河”导弹射程是多少？</td>\n",
       "      <td>40公里</td>\n",
       "    </tr>\n",
       "    <tr>\n",
       "      <th>24826</th>\n",
       "      <td>日本与印度尼西亚的会议商讨了什么内容？</td>\n",
       "      <td>其中包括区域性的海事担保、人道主义援助和灾难援助、反恐、赛博防御以及教育、培训和科研开发。</td>\n",
       "    </tr>\n",
       "    <tr>\n",
       "      <th>24827</th>\n",
       "      <td>早在1983年7月，印度就制定了近地空导弹的计划目前期射程是多少？</td>\n",
       "      <td>射程150公里</td>\n",
       "    </tr>\n",
       "    <tr>\n",
       "      <th>24828</th>\n",
       "      <td>德国什么护卫舰正式中标巴西未来轻型护卫舰计划，巴西决定采购4艘该型护卫舰，预计将在2024年...</td>\n",
       "      <td>MEKO-A100型护卫舰</td>\n",
       "    </tr>\n",
       "    <tr>\n",
       "      <th>24829</th>\n",
       "      <td>什么是中越两党和两国关系的重要组成部分</td>\n",
       "      <td>教育合作</td>\n",
       "    </tr>\n",
       "    <tr>\n",
       "      <th>24830</th>\n",
       "      <td>研制70式122毫米自行榴弹炮的国家在70年代初通过友好国家获得了一部分苏联哪个型号的火箭炮？</td>\n",
       "      <td>BM-21火箭炮</td>\n",
       "    </tr>\n",
       "    <tr>\n",
       "      <th>24831</th>\n",
       "      <td>P-500“玄武岩”，其射程达到多少公里？</td>\n",
       "      <td>550公里</td>\n",
       "    </tr>\n",
       "    <tr>\n",
       "      <th>24832</th>\n",
       "      <td>美国哪艘导弹驱逐舰从黄岩岛西南侧进入该岛12海里范围？</td>\n",
       "      <td>“霍珀”号</td>\n",
       "    </tr>\n",
       "    <tr>\n",
       "      <th>24833</th>\n",
       "      <td>美国航空工业的一颗明珠的单价已经降低到多少元以下？</td>\n",
       "      <td>1亿美元</td>\n",
       "    </tr>\n",
       "    <tr>\n",
       "      <th>24834</th>\n",
       "      <td>2010年7月12日，印度发射了一颗名为“制图卫星—2B”的卫星，其分辨率达多少？</td>\n",
       "      <td>0.8米</td>\n",
       "    </tr>\n",
       "    <tr>\n",
       "      <th>24835</th>\n",
       "      <td>台湾专家声称用一艘护卫舰就能全歼菲海空军，该护卫舰以什么为蓝本？</td>\n",
       "      <td>成功级护卫舰，其实就是在老美佩里级护卫舰级为蓝本的基础上，由台湾军工自行设计并建造。</td>\n",
       "    </tr>\n",
       "    <tr>\n",
       "      <th>24836</th>\n",
       "      <td>世界上第一种采用独特的高速穿浪的导弹舰携带了多少枚反舰导弹？</td>\n",
       "      <td>8枚反舰导弹</td>\n",
       "    </tr>\n",
       "    <tr>\n",
       "      <th>24837</th>\n",
       "      <td>M-29大卫·克罗克特核弹无后坐力炮的当量相当于多少吨TNT炸药？</td>\n",
       "      <td>10到20吨TNT炸药</td>\n",
       "    </tr>\n",
       "    <tr>\n",
       "      <th>24838</th>\n",
       "      <td>“维克拉马蒂亚”号航母的排水量是多少吨？</td>\n",
       "      <td>4万多吨</td>\n",
       "    </tr>\n",
       "    <tr>\n",
       "      <th>24839</th>\n",
       "      <td>德国空军“龙卷风”机队目前主要隶属于哪个联队呢？</td>\n",
       "      <td>战斗轰炸联队</td>\n",
       "    </tr>\n",
       "    <tr>\n",
       "      <th>24840</th>\n",
       "      <td>YJ-6系列空射反舰导弹最新计划之一是YJ-62型（C-602），它射程是多少？</td>\n",
       "      <td>280公里</td>\n",
       "    </tr>\n",
       "    <tr>\n",
       "      <th>24841</th>\n",
       "      <td>陈赓兵团下辖有哪三个主力军？</td>\n",
       "      <td>第十三军、第十四军和第十五军</td>\n",
       "    </tr>\n",
       "    <tr>\n",
       "      <th>24842</th>\n",
       "      <td>S97替代的直升机的哪个系统被视为介于机械操纵系统和电传操纵系统之间一个过渡型操纵系统？</td>\n",
       "      <td>自动增稳系统</td>\n",
       "    </tr>\n",
       "  </tbody>\n",
       "</table>\n",
       "<p>24843 rows × 2 columns</p>\n",
       "</div>"
      ],
      "text/plain": [
       "                                                question  \\\n",
       "0                                 参与美韩举行的“鹞鹰”联合军演的是哪艘航母？   \n",
       "1                                       中菲关系焕发新的活力的好处是什么   \n",
       "2                                   海战开始，泰国海军一共损失了三艘什么艇？   \n",
       "3                          苏联把沙俄的\"拉扎列夫海军上将\"号改造后的重巡洋舰有多重？   \n",
       "4                                 AW－159 “野猫”直升机的机长是多少米？   \n",
       "5                               哪款手枪代替了鲁格P-08成为了德军的制式手枪？   \n",
       "6                                        韩国空军现役主力战斗机是哪个？   \n",
       "7                                    法国政界对法国总统的什么行为感到抵触？   \n",
       "8                                             桑普森具有什么能力？   \n",
       "9                                         中越两国的“双料将军”是谁？   \n",
       "10            日本宇宙航空研究开发机构(JAXA)发射的第六枚H-2A火箭，由于什么被迫实行自爆？   \n",
       "11                              中国要与波兰深化在哪些框架下的监察与反腐败合作？   \n",
       "12                  鼓吹M1A2T坦克是“地表最强”的岛屿把哪些坦克视为反击两栖登陆的王牌？   \n",
       "13                     印度的哪种导弹与美国“爱国者”导弹系统类似可以同时跟踪64个目标？   \n",
       "14               “斯瑞克”装甲车于2003年列装美国陆军，后经多次改进，特别是提高了什么能力？   \n",
       "15                                      皇家橡树号的标准排水量是多少吨？   \n",
       "16                                    “银柳”便携式导弹的弹头重量是多少？   \n",
       "17                萨克森级护卫舰和90年代我国自研的051B哪一款驱逐舰排水量已经不相上下了？   \n",
       "18                                日本的“情报搜集卫星”系统由多少颗卫星组成？   \n",
       "19                                    亚太地区唯一的国防部长级安全对话是？   \n",
       "20                   美国目前唯一一支部署在欧洲战区前沿的是美国陆军第1机械化步兵师第几旅？   \n",
       "21                  作为”黑旋风“与直-10“霹雳火”被称为梁山好汉帮的武直是谁研制出来的？   \n",
       "22                    公安部副部长、国家移民管理局局长许甘露对中越签署的什么协议表示祝贺？   \n",
       "23                                          S-97的最大起飞重量？   \n",
       "24                          目前中国海军中，建造数量最多的一款军舰的人员编制是多少？   \n",
       "25                         演变成AH-1 \"休伊眼镜蛇\"的原型是在什么时候实现首飞？   \n",
       "26                                    有“中国的M113”之称的是哪辆车？   \n",
       "27          什么事件是日本近代史上最大的一次叛乱行动，也是1930年代日本法西斯主义发展的重要事件？   \n",
       "28                            美国海军新型船坞登陆舰圣安东尼奥号最大排水量是多少？   \n",
       "29                                 92式9毫米手枪子弹的初速有多少米/秒呢？   \n",
       "...                                                  ...   \n",
       "24813                           美国的“西奥多·罗斯福”号航母可容纳多少架战机？   \n",
       "24814                   1862年买下奥博克港的国家在战后军事实力恢复很快的原因是什么？   \n",
       "24815  被称为著名的“杜立德空袭东京”事件中的急先锋轰炸机是世界第二次大战全球战场中最为优秀的什么型...   \n",
       "24816                                   “和平方舟”号排水量达到多少吨？   \n",
       "24817                                  乌克兰问题三方联络小组分别是哪些？   \n",
       "24818                      “Ilan Voyager”（伊兰航海家）号全长有多少米？   \n",
       "24819                      美国以海鹞为基础发展的舰载机周二（3日）在哪里训练时坠毁？   \n",
       "24820               哈飞与北航联合设计的一种具有隐身能力的中高空远程无人侦察机的重量是多少？   \n",
       "24821          66式152毫米加榴炮是在苏联哪款毫米榴弹炮基础上仿制改进而来？打击的目标是什么？   \n",
       "24822                            科幻程度超过了地球上现役的同类舰艇是哪个舰艇？   \n",
       "24823                            目前世界上已知的拥有在役巡洋舰的是哪两个国家？   \n",
       "24824                                     二战中表现最差的手枪是哪个？   \n",
       "24825                                       “冥河”导弹射程是多少？   \n",
       "24826                                日本与印度尼西亚的会议商讨了什么内容？   \n",
       "24827                  早在1983年7月，印度就制定了近地空导弹的计划目前期射程是多少？   \n",
       "24828  德国什么护卫舰正式中标巴西未来轻型护卫舰计划，巴西决定采购4艘该型护卫舰，预计将在2024年...   \n",
       "24829                                什么是中越两党和两国关系的重要组成部分   \n",
       "24830    研制70式122毫米自行榴弹炮的国家在70年代初通过友好国家获得了一部分苏联哪个型号的火箭炮？   \n",
       "24831                              P-500“玄武岩”，其射程达到多少公里？   \n",
       "24832                        美国哪艘导弹驱逐舰从黄岩岛西南侧进入该岛12海里范围？   \n",
       "24833                          美国航空工业的一颗明珠的单价已经降低到多少元以下？   \n",
       "24834          2010年7月12日，印度发射了一颗名为“制图卫星—2B”的卫星，其分辨率达多少？   \n",
       "24835                   台湾专家声称用一艘护卫舰就能全歼菲海空军，该护卫舰以什么为蓝本？   \n",
       "24836                     世界上第一种采用独特的高速穿浪的导弹舰携带了多少枚反舰导弹？   \n",
       "24837                  M-29大卫·克罗克特核弹无后坐力炮的当量相当于多少吨TNT炸药？   \n",
       "24838                               “维克拉马蒂亚”号航母的排水量是多少吨？   \n",
       "24839                           德国空军“龙卷风”机队目前主要隶属于哪个联队呢？   \n",
       "24840           YJ-6系列空射反舰导弹最新计划之一是YJ-62型（C-602），它射程是多少？   \n",
       "24841                                     陈赓兵团下辖有哪三个主力军？   \n",
       "24842       S97替代的直升机的哪个系统被视为介于机械操纵系统和电传操纵系统之间一个过渡型操纵系统？   \n",
       "\n",
       "                                              answer_str  \n",
       "0                                                卡尔文森号航母  \n",
       "1                 实现了由转圜、巩固到提升的跨越式发展，为两国人民带来福祉，促进了地区和平稳定  \n",
       "2                                          鱼雷艇及吞武里号浅水重炮艇  \n",
       "3                                                 8000多吨  \n",
       "4                                                 15.22米  \n",
       "5                                                沃尔特P-38  \n",
       "6                                                  F-15K  \n",
       "7                   让法国成为美国的附庸和木偶非常抵触。法国已经做好准备对叙利亚进行军事干预  \n",
       "8                                   多功能雷达探测和追踪中程弹道导弹的能力。  \n",
       "9                                                   洪水将军  \n",
       "10                                            固体助推器 分离故障  \n",
       "11                                      “一带一路”、“16+1合作”等  \n",
       "12                         M-60A和M-48系列CM-11、CM-12三种主战坦克  \n",
       "13                                              “天空”导弹系统  \n",
       "14                                                 生存能力。  \n",
       "15                                                29150吨  \n",
       "16                                                 1.5千克  \n",
       "17                                               051B驱逐舰  \n",
       "18                                  日本的“情报搜集卫星”系统由4颗卫星组成  \n",
       "19                                                香格里拉对话  \n",
       "20                                                   第3旅  \n",
       "21                                  中航工业哈飞和中航工业直升机设计研究所。  \n",
       "22     《中华人民共和国公安部与越南社会主义共和国国防部关于建立边境管理和口岸边防检查三级执法合作机...  \n",
       "23                                                    5吨  \n",
       "24                                                   70人  \n",
       "25                                                 1956年  \n",
       "26                                             63式装甲输送车。  \n",
       "27                                                 二二六事件  \n",
       "28                                                22600吨  \n",
       "29                                                  有350  \n",
       "...                                                  ...  \n",
       "24813                                           可容纳60架战机  \n",
       "24814  这得宜于法国在北约及全球所釆取的独立的军事和外交政策，至今其国内航空，造船，地面兵器等军工业...  \n",
       "24815                                           中轻型轰炸机之一  \n",
       "24816                                              5500吨  \n",
       "24817                                       乌克兰、欧安组织、俄罗斯  \n",
       "24818                                            全长21.3米  \n",
       "24819                                          在吉布提训练时坠毁  \n",
       "24820                                               1.2吨  \n",
       "24821            是在苏联M20式152毫米榴弹炮基础上仿制改进而来打击的目标是地堡群及敌指挥所  \n",
       "24822                                    美国“朱姆沃尔特”级导弹驱逐舰  \n",
       "24823                                            美国和俄罗斯，  \n",
       "24824                                           南部十四式手枪。  \n",
       "24825                                               40公里  \n",
       "24826      其中包括区域性的海事担保、人道主义援助和灾难援助、反恐、赛博防御以及教育、培训和科研开发。  \n",
       "24827                                            射程150公里  \n",
       "24828                                      MEKO-A100型护卫舰  \n",
       "24829                                               教育合作  \n",
       "24830                                           BM-21火箭炮  \n",
       "24831                                              550公里  \n",
       "24832                                              “霍珀”号  \n",
       "24833                                               1亿美元  \n",
       "24834                                               0.8米  \n",
       "24835         成功级护卫舰，其实就是在老美佩里级护卫舰级为蓝本的基础上，由台湾军工自行设计并建造。  \n",
       "24836                                             8枚反舰导弹  \n",
       "24837                                        10到20吨TNT炸药  \n",
       "24838                                               4万多吨  \n",
       "24839                                             战斗轰炸联队  \n",
       "24840                                              280公里  \n",
       "24841                                     第十三军、第十四军和第十五军  \n",
       "24842                                             自动增稳系统  \n",
       "\n",
       "[24843 rows x 2 columns]"
      ]
     },
     "execution_count": 76,
     "metadata": {},
     "output_type": "execute_result"
    }
   ],
   "source": [
    "train_df[['question', 'answer_str']]"
   ]
  },
  {
   "cell_type": "code",
   "execution_count": null,
   "metadata": {},
   "outputs": [],
   "source": []
  }
 ],
 "metadata": {
  "kernelspec": {
   "display_name": "Python 3",
   "language": "python",
   "name": "python3"
  },
  "language_info": {
   "codemirror_mode": {
    "name": "ipython",
    "version": 3
   },
   "file_extension": ".py",
   "mimetype": "text/x-python",
   "name": "python",
   "nbconvert_exporter": "python",
   "pygments_lexer": "ipython3",
   "version": "3.6.8"
  }
 },
 "nbformat": 4,
 "nbformat_minor": 2
}
