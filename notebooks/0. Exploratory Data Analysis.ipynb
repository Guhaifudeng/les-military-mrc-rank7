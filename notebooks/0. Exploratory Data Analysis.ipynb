{
 "cells": [
  {
   "cell_type": "code",
   "execution_count": 1,
   "metadata": {},
   "outputs": [],
   "source": [
    "import sys\n",
    "sys.path.append('../')\n",
    "import re\n",
    "import os\n",
    "import time\n",
    "import numpy as np\n",
    "import pandas as pd\n",
    "from tqdm import tqdm\n",
    "tqdm.pandas()\n",
    "import datetime\n",
    "\n",
    "import matplotlib\n",
    "import matplotlib.pyplot as plt\n",
    "import seaborn as sns\n",
    "sns.set_style('whitegrid')\n",
    "%matplotlib inline\n",
    "matplotlib.style.use('ggplot')"
   ]
  },
  {
   "cell_type": "code",
   "execution_count": 2,
   "metadata": {},
   "outputs": [],
   "source": [
    "def contains_null(dataframe):\n",
    "    missing_df = dataframe.isnull().sum(axis=0).reset_index()\n",
    "    missing_df.columns = ['column_name', 'missing_count']\n",
    "    missing_df['missing_rate'] = 1.0 * missing_df['missing_count'] / dataframe.shape[0]\n",
    "    missing_df = missing_df[missing_df.missing_count > 0]\n",
    "    missing_df = missing_df.sort_values(by='missing_count', ascending=False)\n",
    "    return missing_df"
   ]
  },
  {
   "cell_type": "code",
   "execution_count": 3,
   "metadata": {},
   "outputs": [
    {
     "name": "stdout",
     "output_type": "stream",
     "text": [
      "cleaned  extracted  mrc_dataset  original  raw\tREADME.md  text_analysis\r\n"
     ]
    }
   ],
   "source": [
    "!ls ../input"
   ]
  },
  {
   "cell_type": "code",
   "execution_count": 4,
   "metadata": {},
   "outputs": [],
   "source": [
    "train_df = pd.read_csv('../input/original/train_round_0.csv', sep=',')\n",
    "test_df = pd.read_csv('../input/original/test_data_r0.csv', sep=',')"
   ]
  },
  {
   "cell_type": "code",
   "execution_count": 5,
   "metadata": {},
   "outputs": [
    {
     "name": "stdout",
     "output_type": "stream",
     "text": [
      "(24843, 16) (4969, 13)\n"
     ]
    },
    {
     "data": {
      "text/html": [
       "<div>\n",
       "<style scoped>\n",
       "    .dataframe tbody tr th:only-of-type {\n",
       "        vertical-align: middle;\n",
       "    }\n",
       "\n",
       "    .dataframe tbody tr th {\n",
       "        vertical-align: top;\n",
       "    }\n",
       "\n",
       "    .dataframe thead th {\n",
       "        text-align: right;\n",
       "    }\n",
       "</style>\n",
       "<table border=\"1\" class=\"dataframe\">\n",
       "  <thead>\n",
       "    <tr style=\"text-align: right;\">\n",
       "      <th></th>\n",
       "      <th>answer</th>\n",
       "      <th>bridging_entity</th>\n",
       "      <th>content1</th>\n",
       "      <th>content2</th>\n",
       "      <th>content3</th>\n",
       "      <th>content4</th>\n",
       "      <th>content5</th>\n",
       "      <th>keyword</th>\n",
       "      <th>question</th>\n",
       "      <th>supporting_paragraph</th>\n",
       "      <th>title1</th>\n",
       "      <th>title2</th>\n",
       "      <th>title3</th>\n",
       "      <th>title4</th>\n",
       "      <th>title5</th>\n",
       "      <th>question_id</th>\n",
       "    </tr>\n",
       "  </thead>\n",
       "  <tbody>\n",
       "    <tr>\n",
       "      <th>0</th>\n",
       "      <td>@content5@卡尔文森号航母@content5@</td>\n",
       "      <td>无</td>\n",
       "      <td>据美国媒体9月10日报道称，近日部署在美国东海岸多个军事基地的3艘核动力航母出现了罕见的一幕...</td>\n",
       "      <td>艾森豪威尔号航空母舰。它是美国尼米兹级核动力航空母舰的二号舰，舰名承袭自参加过第二次世界大战...</td>\n",
       "      <td>自2016年以来，美国海军第一次出现两艘核动力航母齐聚地中海的特殊部署，这意味着美国准备对某...</td>\n",
       "      <td>伊朗塔斯尼姆通讯社日前在社交媒体上发布了一段视频，视频中显示一艘航母在驱逐舰的护航下正在海面...</td>\n",
       "      <td>作为全世界唯一的超级大国，美国拥有10艘尼米兹核动力航母，其航母舰队和海军实力足以能够秒杀任...</td>\n",
       "      <td>“艾森豪威尔”号核动力航母</td>\n",
       "      <td>参与美韩举行的“鹞鹰”联合军演的是哪艘航母？</td>\n",
       "      <td>@content5@如今抵达西太平洋的美卡尔文森号航母，已经在该地区执行了一个多月的任务，并...</td>\n",
       "      <td>美军3艘核动力航母紧急机动，情况十分突然 高官：差点出了大事！</td>\n",
       "      <td>世界上最先进的航空母舰：艾森豪威尔号航空母舰！</td>\n",
       "      <td>局势十分紧张，美军两艘超级航母坐镇地中海 在向谁发出警告？</td>\n",
       "      <td>美航母抵近伊朗，伊战机紧急起飞，传回现场画面：甲板满是战机</td>\n",
       "      <td>美法曾联手包围俄航母 如今四国又来给中国添堵</td>\n",
       "      <td>Q_05193ghdyd</td>\n",
       "    </tr>\n",
       "  </tbody>\n",
       "</table>\n",
       "</div>"
      ],
      "text/plain": [
       "                        answer bridging_entity  \\\n",
       "0  @content5@卡尔文森号航母@content5@               无   \n",
       "\n",
       "                                            content1  \\\n",
       "0  据美国媒体9月10日报道称，近日部署在美国东海岸多个军事基地的3艘核动力航母出现了罕见的一幕...   \n",
       "\n",
       "                                            content2  \\\n",
       "0  艾森豪威尔号航空母舰。它是美国尼米兹级核动力航空母舰的二号舰，舰名承袭自参加过第二次世界大战...   \n",
       "\n",
       "                                            content3  \\\n",
       "0  自2016年以来，美国海军第一次出现两艘核动力航母齐聚地中海的特殊部署，这意味着美国准备对某...   \n",
       "\n",
       "                                            content4  \\\n",
       "0  伊朗塔斯尼姆通讯社日前在社交媒体上发布了一段视频，视频中显示一艘航母在驱逐舰的护航下正在海面...   \n",
       "\n",
       "                                            content5        keyword  \\\n",
       "0  作为全世界唯一的超级大国，美国拥有10艘尼米兹核动力航母，其航母舰队和海军实力足以能够秒杀任...  “艾森豪威尔”号核动力航母   \n",
       "\n",
       "                 question                               supporting_paragraph  \\\n",
       "0  参与美韩举行的“鹞鹰”联合军演的是哪艘航母？  @content5@如今抵达西太平洋的美卡尔文森号航母，已经在该地区执行了一个多月的任务，并...   \n",
       "\n",
       "                            title1                   title2  \\\n",
       "0  美军3艘核动力航母紧急机动，情况十分突然 高官：差点出了大事！  世界上最先进的航空母舰：艾森豪威尔号航空母舰！   \n",
       "\n",
       "                          title3                         title4  \\\n",
       "0  局势十分紧张，美军两艘超级航母坐镇地中海 在向谁发出警告？  美航母抵近伊朗，伊战机紧急起飞，传回现场画面：甲板满是战机   \n",
       "\n",
       "                   title5   question_id  \n",
       "0  美法曾联手包围俄航母 如今四国又来给中国添堵  Q_05193ghdyd  "
      ]
     },
     "execution_count": 5,
     "metadata": {},
     "output_type": "execute_result"
    }
   ],
   "source": [
    "print(train_df.shape, test_df.shape)\n",
    "train_df.head(1)"
   ]
  },
  {
   "cell_type": "code",
   "execution_count": 6,
   "metadata": {},
   "outputs": [
    {
     "data": {
      "text/html": [
       "<div>\n",
       "<style scoped>\n",
       "    .dataframe tbody tr th:only-of-type {\n",
       "        vertical-align: middle;\n",
       "    }\n",
       "\n",
       "    .dataframe tbody tr th {\n",
       "        vertical-align: top;\n",
       "    }\n",
       "\n",
       "    .dataframe thead th {\n",
       "        text-align: right;\n",
       "    }\n",
       "</style>\n",
       "<table border=\"1\" class=\"dataframe\">\n",
       "  <thead>\n",
       "    <tr style=\"text-align: right;\">\n",
       "      <th></th>\n",
       "      <th>content1</th>\n",
       "      <th>content2</th>\n",
       "      <th>content3</th>\n",
       "      <th>content4</th>\n",
       "      <th>content5</th>\n",
       "      <th>keyword</th>\n",
       "      <th>question</th>\n",
       "      <th>title1</th>\n",
       "      <th>title2</th>\n",
       "      <th>title3</th>\n",
       "      <th>title4</th>\n",
       "      <th>title5</th>\n",
       "      <th>question_id</th>\n",
       "    </tr>\n",
       "  </thead>\n",
       "  <tbody>\n",
       "    <tr>\n",
       "      <th>0</th>\n",
       "      <td>贝尔纳蒂斯早期型潜艇上的初级空气压缩机安装在控制室内，由San Giorgio公司研制，可产...</td>\n",
       "      <td>俄罗斯军事灾难一桩又一桩，航母在船坞沉没事件中受损，潜艇事故导致大量精锐海军军官死亡，又屡次...</td>\n",
       "      <td>日前，俄罗斯公布了北风之神级战略核潜艇“弗拉基米尔大公”号的近照，该艇为北风之神级的3号艇，...</td>\n",
       "      <td>7月1日，俄罗斯海军遭遇了十分沉痛的悲剧，一艘核潜艇在水下执行任务时突然着火，14名高官不幸...</td>\n",
       "      <td>参考消息网7月4日报道 俄媒称，俄罗斯国防部报告了一起1日发生的悲剧：一艘深海潜艇在潜航时失...</td>\n",
       "      <td>“维涅罗”号</td>\n",
       "      <td>世界上最小的核潜艇是哪艘？</td>\n",
       "      <td>二战时的意大利潜艇</td>\n",
       "      <td>俄军又一次遭遇死神来袭！航母潜艇出事没多久，又曝出大爆炸灾难</td>\n",
       "      <td>俄军最强“核黑鱼”曝光，龟背已去除，和094核潜艇差距不小啊</td>\n",
       "      <td>核潜艇水下着火，却意外暴露俄军最神秘单位！苏联解体后实力不减</td>\n",
       "      <td>深海潜艇失火令俄军方震惊：隶属俄最神秘部队 起因成谜</td>\n",
       "      <td>Q_32174nsdcj</td>\n",
       "    </tr>\n",
       "    <tr>\n",
       "      <th>1</th>\n",
       "      <td>今年5月底，朝鲜公开了约50分钟长的宣传纪录片——“掀起白头山训练热潮，培养无敌强军”。在片...</td>\n",
       "      <td>朝鲜此前曾表达善意，愿意以停止核试验换区美韩不进行联合演习。而在美韩执意举行联合军演后，朝鲜...</td>\n",
       "      <td>乌克兰宣布成功测试了一款陆基巡航导弹并且公布了一段视频，对此网友发现乌克兰周二试射的新型巡航...</td>\n",
       "      <td>英国《简氏防务周刊》网站8月15日发表了里兹万·拉赫马特的题为《印度发布中程反舰导弹信息请求...</td>\n",
       "      <td>前不久，据外媒报道，印度军方有意采购一款外国的中程反舰导弹来取代部分苏俄提供的反舰导弹。外界...</td>\n",
       "      <td>Kh-35中程反舰导弹</td>\n",
       "      <td>第二次世界大战时期，对于水面战斗舰艇来讲，最具威力的武器是什么？</td>\n",
       "      <td>朝鲜公开新型反舰导弹 性能堪比俄制Kh-35</td>\n",
       "      <td>朝鲜海军新型隐身导弹艇获金正恩赞扬 发射其国产Kh-35反舰导弹</td>\n",
       "      <td>乌克兰实力倒退了吗？研制了一款类似KH-35的巡航导弹</td>\n",
       "      <td>印度欲购新中程反舰导弹 反制中国海军进入印度洋</td>\n",
       "      <td>一大国欲购新中程岸舰导弹，选中法国“飞鱼”的概率很大！</td>\n",
       "      <td>Q_42346jgcgs</td>\n",
       "    </tr>\n",
       "  </tbody>\n",
       "</table>\n",
       "</div>"
      ],
      "text/plain": [
       "                                            content1  \\\n",
       "0  贝尔纳蒂斯早期型潜艇上的初级空气压缩机安装在控制室内，由San Giorgio公司研制，可产...   \n",
       "1  今年5月底，朝鲜公开了约50分钟长的宣传纪录片——“掀起白头山训练热潮，培养无敌强军”。在片...   \n",
       "\n",
       "                                            content2  \\\n",
       "0  俄罗斯军事灾难一桩又一桩，航母在船坞沉没事件中受损，潜艇事故导致大量精锐海军军官死亡，又屡次...   \n",
       "1  朝鲜此前曾表达善意，愿意以停止核试验换区美韩不进行联合演习。而在美韩执意举行联合军演后，朝鲜...   \n",
       "\n",
       "                                            content3  \\\n",
       "0  日前，俄罗斯公布了北风之神级战略核潜艇“弗拉基米尔大公”号的近照，该艇为北风之神级的3号艇，...   \n",
       "1  乌克兰宣布成功测试了一款陆基巡航导弹并且公布了一段视频，对此网友发现乌克兰周二试射的新型巡航...   \n",
       "\n",
       "                                            content4  \\\n",
       "0  7月1日，俄罗斯海军遭遇了十分沉痛的悲剧，一艘核潜艇在水下执行任务时突然着火，14名高官不幸...   \n",
       "1  英国《简氏防务周刊》网站8月15日发表了里兹万·拉赫马特的题为《印度发布中程反舰导弹信息请求...   \n",
       "\n",
       "                                            content5      keyword  \\\n",
       "0  参考消息网7月4日报道 俄媒称，俄罗斯国防部报告了一起1日发生的悲剧：一艘深海潜艇在潜航时失...       “维涅罗”号   \n",
       "1  前不久，据外媒报道，印度军方有意采购一款外国的中程反舰导弹来取代部分苏俄提供的反舰导弹。外界...  Kh-35中程反舰导弹   \n",
       "\n",
       "                           question                  title1  \\\n",
       "0                     世界上最小的核潜艇是哪艘？               二战时的意大利潜艇   \n",
       "1  第二次世界大战时期，对于水面战斗舰艇来讲，最具威力的武器是什么？  朝鲜公开新型反舰导弹 性能堪比俄制Kh-35   \n",
       "\n",
       "                             title2                          title3  \\\n",
       "0    俄军又一次遭遇死神来袭！航母潜艇出事没多久，又曝出大爆炸灾难  俄军最强“核黑鱼”曝光，龟背已去除，和094核潜艇差距不小啊   \n",
       "1  朝鲜海军新型隐身导弹艇获金正恩赞扬 发射其国产Kh-35反舰导弹     乌克兰实力倒退了吗？研制了一款类似KH-35的巡航导弹   \n",
       "\n",
       "                           title4                       title5   question_id  \n",
       "0  核潜艇水下着火，却意外暴露俄军最神秘单位！苏联解体后实力不减   深海潜艇失火令俄军方震惊：隶属俄最神秘部队 起因成谜  Q_32174nsdcj  \n",
       "1         印度欲购新中程反舰导弹 反制中国海军进入印度洋  一大国欲购新中程岸舰导弹，选中法国“飞鱼”的概率很大！  Q_42346jgcgs  "
      ]
     },
     "execution_count": 6,
     "metadata": {},
     "output_type": "execute_result"
    }
   ],
   "source": [
    "test_df.head(2)"
   ]
  },
  {
   "cell_type": "code",
   "execution_count": 7,
   "metadata": {},
   "outputs": [
    {
     "data": {
      "text/html": [
       "<div>\n",
       "<style scoped>\n",
       "    .dataframe tbody tr th:only-of-type {\n",
       "        vertical-align: middle;\n",
       "    }\n",
       "\n",
       "    .dataframe tbody tr th {\n",
       "        vertical-align: top;\n",
       "    }\n",
       "\n",
       "    .dataframe thead th {\n",
       "        text-align: right;\n",
       "    }\n",
       "</style>\n",
       "<table border=\"1\" class=\"dataframe\">\n",
       "  <thead>\n",
       "    <tr style=\"text-align: right;\">\n",
       "      <th></th>\n",
       "      <th>column_name</th>\n",
       "      <th>missing_count</th>\n",
       "      <th>missing_rate</th>\n",
       "    </tr>\n",
       "  </thead>\n",
       "  <tbody>\n",
       "  </tbody>\n",
       "</table>\n",
       "</div>"
      ],
      "text/plain": [
       "Empty DataFrame\n",
       "Columns: [column_name, missing_count, missing_rate]\n",
       "Index: []"
      ]
     },
     "execution_count": 7,
     "metadata": {},
     "output_type": "execute_result"
    }
   ],
   "source": [
    "contains_null(train_df)"
   ]
  },
  {
   "cell_type": "code",
   "execution_count": 8,
   "metadata": {},
   "outputs": [],
   "source": [
    "train_df['content1_len'] = train_df['content1'].str.len()\n",
    "train_df['content2_len'] = train_df['content2'].str.len()\n",
    "train_df['content3_len'] = train_df['content3'].str.len()\n",
    "train_df['content4_len'] = train_df['content4'].str.len()\n",
    "train_df['content5_len'] = train_df['content5'].str.len()\n",
    "\n",
    "test_df['content1_len'] = test_df['content1'].str.len()\n",
    "test_df['content1_len'] = test_df['content2'].str.len()\n",
    "test_df['content1_len'] = test_df['content3'].str.len()\n",
    "test_df['content1_len'] = test_df['content4'].str.len()\n",
    "test_df['content1_len'] = test_df['content5'].str.len()"
   ]
  },
  {
   "cell_type": "markdown",
   "metadata": {},
   "source": [
    "## document 长度分布"
   ]
  },
  {
   "cell_type": "code",
   "execution_count": 9,
   "metadata": {},
   "outputs": [
    {
     "data": {
      "image/png": "[encoded data removed]",
      "text/plain": [
       "<Figure size 1440x720 with 6 Axes>"
      ]
     },
     "metadata": {
      "needs_background": "light"
     },
     "output_type": "display_data"
    }
   ],
   "source": [
    "plt.figure(figsize=(20,10))\n",
    "plt.subplot(321)\n",
    "sns.distplot(train_df['content1_len'], axlabel='content1 length')\n",
    "plt.subplot(322)\n",
    "sns.distplot(train_df['content2_len'], axlabel='content2 length')\n",
    "plt.subplot(323)\n",
    "sns.distplot(train_df['content3_len'], axlabel='content3 length')\n",
    "plt.subplot(324)\n",
    "sns.distplot(train_df['content4_len'], axlabel='content4 length')\n",
    "plt.subplot(325)\n",
    "sns.distplot(train_df['content5_len'], axlabel='content5 length')\n",
    "plt.subplot(326)\n",
    "sns.distplot(train_df['content1_len'] + train_df['content2_len'] + train_df['content3_len'] + \n",
    "             train_df['content4_len'] + train_df['content5_len'], axlabel='total length')\n",
    "plt.show()"
   ]
  },
  {
   "cell_type": "markdown",
   "metadata": {},
   "source": [
    "## 答案长度分布"
   ]
  },
  {
   "cell_type": "code",
   "execution_count": 10,
   "metadata": {},
   "outputs": [],
   "source": [
    "train_df['answer_str'] = train_df['answer'].str.replace('@content\\d@', '')"
   ]
  },
  {
   "cell_type": "code",
   "execution_count": 11,
   "metadata": {},
   "outputs": [
    {
     "data": {
      "image/png": "[encoded data removed]",
      "text/plain": [
       "<Figure size 720x360 with 1 Axes>"
      ]
     },
     "metadata": {
      "needs_background": "light"
     },
     "output_type": "display_data"
    }
   ],
   "source": [
    "plt.figure(figsize=(10,5))\n",
    "sns.distplot(train_df['answer_str'].str.len())\n",
    "plt.show()"
   ]
  },
  {
   "cell_type": "markdown",
   "metadata": {},
   "source": [
    "## 问题长度分布"
   ]
  },
  {
   "cell_type": "code",
   "execution_count": 12,
   "metadata": {},
   "outputs": [],
   "source": [
    "train_df['question_len'] = train_df['question'].map(len)"
   ]
  },
  {
   "cell_type": "code",
   "execution_count": 13,
   "metadata": {},
   "outputs": [
    {
     "data": {
      "image/png": "[encoded data removed]",
      "text/plain": [
       "<Figure size 720x360 with 1 Axes>"
      ]
     },
     "metadata": {
      "needs_background": "light"
     },
     "output_type": "display_data"
    }
   ],
   "source": [
    "plt.figure(figsize=(10,5))\n",
    "sns.distplot(train_df['question_len'])\n",
    "plt.show()"
   ]
  },
  {
   "cell_type": "markdown",
   "metadata": {},
   "source": [
    "## 答案所在篇章分布"
   ]
  },
  {
   "cell_type": "code",
   "execution_count": 14,
   "metadata": {},
   "outputs": [],
   "source": [
    "ans_pattern = re.compile(r'@content\\d@')\n",
    "\n",
    "def find_answer_in_docid(answer):\n",
    "    docs = ans_pattern.findall(answer)\n",
    "    return ','.join(list(set([doc[-2:-1] for doc in docs])))\n"
   ]
  },
  {
   "cell_type": "code",
   "execution_count": 15,
   "metadata": {},
   "outputs": [],
   "source": [
    "train_df['answer_in_docid'] = train_df['answer'].map(find_answer_in_docid)"
   ]
  },
  {
   "cell_type": "code",
   "execution_count": 16,
   "metadata": {},
   "outputs": [
    {
     "data": {
      "image/png": "[encoded data removed]",
      "text/plain": [
       "<Figure size 1296x288 with 1 Axes>"
      ]
     },
     "metadata": {
      "needs_background": "light"
     },
     "output_type": "display_data"
    }
   ],
   "source": [
    "plt.figure(figsize=(18, 4))\n",
    "sns.countplot(train_df['answer_in_docid'], order=train_df['answer_in_docid'].value_counts().index)\n",
    "plt.show()"
   ]
  },
  {
   "cell_type": "code",
   "execution_count": 17,
   "metadata": {},
   "outputs": [],
   "source": [
    "content_pattern = re.compile(r'@content\\d@')\n",
    "def find_support_para_in_docid(support_para):\n",
    "    docs = content_pattern.findall(support_para)\n",
    "    doc_ids = [doc[-2:-1] for doc in docs]\n",
    "    doc_ids = sorted(doc_ids)\n",
    "    return ','.join(doc_ids)"
   ]
  },
  {
   "cell_type": "code",
   "execution_count": 18,
   "metadata": {},
   "outputs": [],
   "source": [
    "train_df['supporting_paragraph_in_docid'] = train_df['supporting_paragraph'].map(find_support_para_in_docid)"
   ]
  },
  {
   "cell_type": "code",
   "execution_count": 19,
   "metadata": {},
   "outputs": [
    {
     "data": {
      "image/png": "[encoded data removed]",
      "text/plain": [
       "<Figure size 1296x288 with 1 Axes>"
      ]
     },
     "metadata": {
      "needs_background": "light"
     },
     "output_type": "display_data"
    }
   ],
   "source": [
    "plt.figure(figsize=(18, 4))\n",
    "sns.countplot(train_df['supporting_paragraph_in_docid'], order=train_df['supporting_paragraph_in_docid'].value_counts().index)\n",
    "plt.show()"
   ]
  },
  {
   "cell_type": "code",
   "execution_count": 20,
   "metadata": {},
   "outputs": [],
   "source": [
    "# 检测一个doc中是否包含多个 supporting_paragraph\n",
    "def chech_supporting_paragraph(sp_docid):\n",
    "    if '1,1,1,1' in sp_docid:\n",
    "        return True\n",
    "    elif '2,2,2,2' in sp_docid:\n",
    "        return True\n",
    "    elif '3,3,3,3' in sp_docid:\n",
    "        return True\n",
    "    elif '4,4,4,4' in sp_docid:\n",
    "        return True\n",
    "    elif '5,5,5,5' in sp_docid:\n",
    "        return True\n",
    "    else:\n",
    "        return False\n",
    "\n",
    "train_df['support_onedoc_multi_para'] = train_df['supporting_paragraph_in_docid'].map(chech_supporting_paragraph)"
   ]
  },
  {
   "cell_type": "code",
   "execution_count": 21,
   "metadata": {
    "scrolled": false
   },
   "outputs": [
    {
     "data": {
      "text/plain": [
       "<matplotlib.axes._subplots.AxesSubplot at 0x7f3155662198>"
      ]
     },
     "execution_count": 21,
     "metadata": {},
     "output_type": "execute_result"
    },
    {
     "data": {
      "image/png": "[encoded data removed]",
      "text/plain": [
       "<Figure size 432x288 with 1 Axes>"
      ]
     },
     "metadata": {
      "needs_background": "light"
     },
     "output_type": "display_data"
    }
   ],
   "source": [
    "sns.countplot(train_df['support_onedoc_multi_para'])"
   ]
  },
  {
   "cell_type": "code",
   "execution_count": 22,
   "metadata": {},
   "outputs": [
    {
     "data": {
      "text/plain": [
       "False    24793\n",
       "True        50\n",
       "Name: support_onedoc_multi_para, dtype: int64"
      ]
     },
     "execution_count": 22,
     "metadata": {},
     "output_type": "execute_result"
    }
   ],
   "source": [
    "train_df['support_onedoc_multi_para'].value_counts()"
   ]
  },
  {
   "cell_type": "markdown",
   "metadata": {},
   "source": [
    "**可以看出，一个 doc 可能存在多个 supporting_paragraph 的情况**"
   ]
  },
  {
   "cell_type": "markdown",
   "metadata": {},
   "source": [
    "## 答案的基本模式，指导数据清洗策略"
   ]
  },
  {
   "cell_type": "code",
   "execution_count": 23,
   "metadata": {},
   "outputs": [],
   "source": [
    "# 是否包含 url\n",
    "train_df['answer_has_url'] = train_df['answer_str'].map(lambda x: 'http' in x or 'https' in x)"
   ]
  },
  {
   "cell_type": "code",
   "execution_count": 24,
   "metadata": {},
   "outputs": [
    {
     "data": {
      "text/plain": [
       "<matplotlib.axes._subplots.AxesSubplot at 0x7f3155616c88>"
      ]
     },
     "execution_count": 24,
     "metadata": {},
     "output_type": "execute_result"
    },
    {
     "data": {
      "image/png": "[encoded data removed]",
      "text/plain": [
       "<Figure size 432x288 with 1 Axes>"
      ]
     },
     "metadata": {
      "needs_background": "light"
     },
     "output_type": "display_data"
    }
   ],
   "source": [
    "sns.countplot(train_df['answer_has_url'])"
   ]
  },
  {
   "cell_type": "code",
   "execution_count": 25,
   "metadata": {},
   "outputs": [],
   "source": [
    "# 是否包含英文标点符号,!?等\n",
    "train_df['answer_has_eng_punc'] = train_df['answer_str'].map(lambda x: ',' in x or '!' in x)"
   ]
  },
  {
   "cell_type": "code",
   "execution_count": 26,
   "metadata": {},
   "outputs": [
    {
     "data": {
      "text/plain": [
       "<matplotlib.axes._subplots.AxesSubplot at 0x7f315564c518>"
      ]
     },
     "execution_count": 26,
     "metadata": {},
     "output_type": "execute_result"
    },
    {
     "data": {
      "image/png": "[encoded data removed]",
      "text/plain": [
       "<Figure size 432x288 with 1 Axes>"
      ]
     },
     "metadata": {
      "needs_background": "light"
     },
     "output_type": "display_data"
    }
   ],
   "source": [
    "sns.countplot(train_df['answer_has_eng_punc'])"
   ]
  },
  {
   "cell_type": "code",
   "execution_count": 27,
   "metadata": {},
   "outputs": [
    {
     "data": {
      "text/plain": [
       "85                                               40,580吨\n",
       "170    掠夺者最高速度可以达到每小时120公里。这款巨无霸的动力配置来自CUMMINS ISBe4柴...\n",
       "234                   枪托与机匣配合紧密, 精度高, 线条流畅, 外形优雅的一贯优点. ,\n",
       "333                                             61,170 吨\n",
       "412                                             140,000把\n",
       "Name: answer_str, dtype: object"
      ]
     },
     "execution_count": 27,
     "metadata": {},
     "output_type": "execute_result"
    }
   ],
   "source": [
    "train_df['answer_str'][train_df['answer_has_eng_punc'] == True].head()"
   ]
  },
  {
   "cell_type": "markdown",
   "metadata": {},
   "source": [
    "## 问题和答案的对比"
   ]
  },
  {
   "cell_type": "code",
   "execution_count": 28,
   "metadata": {
    "scrolled": false
   },
   "outputs": [
    {
     "data": {
      "text/html": [
       "<div>\n",
       "<style scoped>\n",
       "    .dataframe tbody tr th:only-of-type {\n",
       "        vertical-align: middle;\n",
       "    }\n",
       "\n",
       "    .dataframe tbody tr th {\n",
       "        vertical-align: top;\n",
       "    }\n",
       "\n",
       "    .dataframe thead th {\n",
       "        text-align: right;\n",
       "    }\n",
       "</style>\n",
       "<table border=\"1\" class=\"dataframe\">\n",
       "  <thead>\n",
       "    <tr style=\"text-align: right;\">\n",
       "      <th></th>\n",
       "      <th>question</th>\n",
       "      <th>answer_str</th>\n",
       "      <th>bridging_entity</th>\n",
       "    </tr>\n",
       "  </thead>\n",
       "  <tbody>\n",
       "    <tr>\n",
       "      <th>0</th>\n",
       "      <td>参与美韩举行的“鹞鹰”联合军演的是哪艘航母？</td>\n",
       "      <td>卡尔文森号航母</td>\n",
       "      <td>无</td>\n",
       "    </tr>\n",
       "    <tr>\n",
       "      <th>1</th>\n",
       "      <td>中菲关系焕发新的活力的好处是什么</td>\n",
       "      <td>实现了由转圜、巩固到提升的跨越式发展，为两国人民带来福祉，促进了地区和平稳定</td>\n",
       "      <td>无</td>\n",
       "    </tr>\n",
       "    <tr>\n",
       "      <th>2</th>\n",
       "      <td>海战开始，泰国海军一共损失了三艘什么艇？</td>\n",
       "      <td>鱼雷艇及吞武里号浅水重炮艇</td>\n",
       "      <td>无</td>\n",
       "    </tr>\n",
       "    <tr>\n",
       "      <th>3</th>\n",
       "      <td>苏联把沙俄的\"拉扎列夫海军上将\"号改造后的重巡洋舰有多重？</td>\n",
       "      <td>8000多吨</td>\n",
       "      <td>红色高加索号</td>\n",
       "    </tr>\n",
       "    <tr>\n",
       "      <th>4</th>\n",
       "      <td>AW－159 “野猫”直升机的机长是多少米？</td>\n",
       "      <td>15.22米</td>\n",
       "      <td>无</td>\n",
       "    </tr>\n",
       "  </tbody>\n",
       "</table>\n",
       "</div>"
      ],
      "text/plain": [
       "                        question                              answer_str  \\\n",
       "0         参与美韩举行的“鹞鹰”联合军演的是哪艘航母？                                 卡尔文森号航母   \n",
       "1               中菲关系焕发新的活力的好处是什么  实现了由转圜、巩固到提升的跨越式发展，为两国人民带来福祉，促进了地区和平稳定   \n",
       "2           海战开始，泰国海军一共损失了三艘什么艇？                           鱼雷艇及吞武里号浅水重炮艇   \n",
       "3  苏联把沙俄的\"拉扎列夫海军上将\"号改造后的重巡洋舰有多重？                                  8000多吨   \n",
       "4         AW－159 “野猫”直升机的机长是多少米？                                  15.22米   \n",
       "\n",
       "  bridging_entity  \n",
       "0               无  \n",
       "1               无  \n",
       "2               无  \n",
       "3          红色高加索号  \n",
       "4               无  "
      ]
     },
     "execution_count": 28,
     "metadata": {},
     "output_type": "execute_result"
    }
   ],
   "source": [
    "train_df[['question', 'answer_str', 'bridging_entity']].head()"
   ]
  },
  {
   "cell_type": "code",
   "execution_count": 29,
   "metadata": {
    "scrolled": false
   },
   "outputs": [
    {
     "data": {
      "text/html": [
       "<div>\n",
       "<style scoped>\n",
       "    .dataframe tbody tr th:only-of-type {\n",
       "        vertical-align: middle;\n",
       "    }\n",
       "\n",
       "    .dataframe tbody tr th {\n",
       "        vertical-align: top;\n",
       "    }\n",
       "\n",
       "    .dataframe thead th {\n",
       "        text-align: right;\n",
       "    }\n",
       "</style>\n",
       "<table border=\"1\" class=\"dataframe\">\n",
       "  <thead>\n",
       "    <tr style=\"text-align: right;\">\n",
       "      <th></th>\n",
       "      <th>bridging_entity</th>\n",
       "      <th>supporting_paragraph</th>\n",
       "      <th>answer_str</th>\n",
       "    </tr>\n",
       "  </thead>\n",
       "  <tbody>\n",
       "    <tr>\n",
       "      <th>0</th>\n",
       "      <td>无</td>\n",
       "      <td>@content5@如今抵达西太平洋的美卡尔文森号航母，已经在该地区执行了一个多月的任务，并...</td>\n",
       "      <td>卡尔文森号航母</td>\n",
       "    </tr>\n",
       "    <tr>\n",
       "      <th>1</th>\n",
       "      <td>无</td>\n",
       "      <td>@content1@习近平指出，近年来，中菲关系焕发新的活力，实现了由转圜、巩固到提升的跨越...</td>\n",
       "      <td>实现了由转圜、巩固到提升的跨越式发展，为两国人民带来福祉，促进了地区和平稳定</td>\n",
       "    </tr>\n",
       "    <tr>\n",
       "      <th>2</th>\n",
       "      <td>无</td>\n",
       "      <td>@content3@海战开始时从东面进入的两艘布干维尔级巡防舰合力击沉了一艘鱼雷艇，此战法军...</td>\n",
       "      <td>鱼雷艇及吞武里号浅水重炮艇</td>\n",
       "    </tr>\n",
       "    <tr>\n",
       "      <th>3</th>\n",
       "      <td>红色高加索号</td>\n",
       "      <td>@content1@红色高加索号巡洋舰是苏联海军中的第一艘重巡洋舰，是沙俄1913年开工的\"...</td>\n",
       "      <td>8000多吨</td>\n",
       "    </tr>\n",
       "    <tr>\n",
       "      <th>4</th>\n",
       "      <td>无</td>\n",
       "      <td>@content1@AW－159 “野猫”直升机机长15.22米，机高4.04米，最大巡航速...</td>\n",
       "      <td>15.22米</td>\n",
       "    </tr>\n",
       "  </tbody>\n",
       "</table>\n",
       "</div>"
      ],
      "text/plain": [
       "  bridging_entity                               supporting_paragraph  \\\n",
       "0               无  @content5@如今抵达西太平洋的美卡尔文森号航母，已经在该地区执行了一个多月的任务，并...   \n",
       "1               无  @content1@习近平指出，近年来，中菲关系焕发新的活力，实现了由转圜、巩固到提升的跨越...   \n",
       "2               无  @content3@海战开始时从东面进入的两艘布干维尔级巡防舰合力击沉了一艘鱼雷艇，此战法军...   \n",
       "3          红色高加索号  @content1@红色高加索号巡洋舰是苏联海军中的第一艘重巡洋舰，是沙俄1913年开工的\"...   \n",
       "4               无  @content1@AW－159 “野猫”直升机机长15.22米，机高4.04米，最大巡航速...   \n",
       "\n",
       "                               answer_str  \n",
       "0                                 卡尔文森号航母  \n",
       "1  实现了由转圜、巩固到提升的跨越式发展，为两国人民带来福祉，促进了地区和平稳定  \n",
       "2                           鱼雷艇及吞武里号浅水重炮艇  \n",
       "3                                  8000多吨  \n",
       "4                                  15.22米  "
      ]
     },
     "execution_count": 29,
     "metadata": {},
     "output_type": "execute_result"
    }
   ],
   "source": [
    "train_df[['bridging_entity', 'supporting_paragraph', 'answer_str']].head()"
   ]
  },
  {
   "cell_type": "markdown",
   "metadata": {},
   "source": [
    "## 测试答案是否能根据字符串匹配直接定位"
   ]
  },
  {
   "cell_type": "code",
   "execution_count": 30,
   "metadata": {},
   "outputs": [
    {
     "data": {
      "text/html": [
       "<div>\n",
       "<style scoped>\n",
       "    .dataframe tbody tr th:only-of-type {\n",
       "        vertical-align: middle;\n",
       "    }\n",
       "\n",
       "    .dataframe tbody tr th {\n",
       "        vertical-align: top;\n",
       "    }\n",
       "\n",
       "    .dataframe thead th {\n",
       "        text-align: right;\n",
       "    }\n",
       "</style>\n",
       "<table border=\"1\" class=\"dataframe\">\n",
       "  <thead>\n",
       "    <tr style=\"text-align: right;\">\n",
       "      <th></th>\n",
       "      <th>answer</th>\n",
       "      <th>bridging_entity</th>\n",
       "      <th>content1</th>\n",
       "      <th>content2</th>\n",
       "      <th>content3</th>\n",
       "      <th>content4</th>\n",
       "      <th>content5</th>\n",
       "      <th>keyword</th>\n",
       "      <th>question</th>\n",
       "      <th>supporting_paragraph</th>\n",
       "      <th>...</th>\n",
       "      <th>content3_len</th>\n",
       "      <th>content4_len</th>\n",
       "      <th>content5_len</th>\n",
       "      <th>answer_str</th>\n",
       "      <th>question_len</th>\n",
       "      <th>answer_in_docid</th>\n",
       "      <th>supporting_paragraph_in_docid</th>\n",
       "      <th>support_onedoc_multi_para</th>\n",
       "      <th>answer_has_url</th>\n",
       "      <th>answer_has_eng_punc</th>\n",
       "    </tr>\n",
       "  </thead>\n",
       "  <tbody>\n",
       "    <tr>\n",
       "      <th>0</th>\n",
       "      <td>@content5@卡尔文森号航母@content5@</td>\n",
       "      <td>无</td>\n",
       "      <td>据美国媒体9月10日报道称，近日部署在美国东海岸多个军事基地的3艘核动力航母出现了罕见的一幕...</td>\n",
       "      <td>艾森豪威尔号航空母舰。它是美国尼米兹级核动力航空母舰的二号舰，舰名承袭自参加过第二次世界大战...</td>\n",
       "      <td>自2016年以来，美国海军第一次出现两艘核动力航母齐聚地中海的特殊部署，这意味着美国准备对某...</td>\n",
       "      <td>伊朗塔斯尼姆通讯社日前在社交媒体上发布了一段视频，视频中显示一艘航母在驱逐舰的护航下正在海面...</td>\n",
       "      <td>作为全世界唯一的超级大国，美国拥有10艘尼米兹核动力航母，其航母舰队和海军实力足以能够秒杀任...</td>\n",
       "      <td>“艾森豪威尔”号核动力航母</td>\n",
       "      <td>参与美韩举行的“鹞鹰”联合军演的是哪艘航母？</td>\n",
       "      <td>@content5@如今抵达西太平洋的美卡尔文森号航母，已经在该地区执行了一个多月的任务，并...</td>\n",
       "      <td>...</td>\n",
       "      <td>622</td>\n",
       "      <td>846</td>\n",
       "      <td>1281</td>\n",
       "      <td>卡尔文森号航母</td>\n",
       "      <td>22</td>\n",
       "      <td>5</td>\n",
       "      <td>5,5</td>\n",
       "      <td>False</td>\n",
       "      <td>False</td>\n",
       "      <td>False</td>\n",
       "    </tr>\n",
       "  </tbody>\n",
       "</table>\n",
       "<p>1 rows × 28 columns</p>\n",
       "</div>"
      ],
      "text/plain": [
       "                        answer bridging_entity  \\\n",
       "0  @content5@卡尔文森号航母@content5@               无   \n",
       "\n",
       "                                            content1  \\\n",
       "0  据美国媒体9月10日报道称，近日部署在美国东海岸多个军事基地的3艘核动力航母出现了罕见的一幕...   \n",
       "\n",
       "                                            content2  \\\n",
       "0  艾森豪威尔号航空母舰。它是美国尼米兹级核动力航空母舰的二号舰，舰名承袭自参加过第二次世界大战...   \n",
       "\n",
       "                                            content3  \\\n",
       "0  自2016年以来，美国海军第一次出现两艘核动力航母齐聚地中海的特殊部署，这意味着美国准备对某...   \n",
       "\n",
       "                                            content4  \\\n",
       "0  伊朗塔斯尼姆通讯社日前在社交媒体上发布了一段视频，视频中显示一艘航母在驱逐舰的护航下正在海面...   \n",
       "\n",
       "                                            content5        keyword  \\\n",
       "0  作为全世界唯一的超级大国，美国拥有10艘尼米兹核动力航母，其航母舰队和海军实力足以能够秒杀任...  “艾森豪威尔”号核动力航母   \n",
       "\n",
       "                 question                               supporting_paragraph  \\\n",
       "0  参与美韩举行的“鹞鹰”联合军演的是哪艘航母？  @content5@如今抵达西太平洋的美卡尔文森号航母，已经在该地区执行了一个多月的任务，并...   \n",
       "\n",
       "   ... content3_len content4_len content5_len answer_str question_len  \\\n",
       "0  ...          622          846         1281    卡尔文森号航母           22   \n",
       "\n",
       "  answer_in_docid  supporting_paragraph_in_docid  support_onedoc_multi_para  \\\n",
       "0               5                            5,5                      False   \n",
       "\n",
       "   answer_has_url  answer_has_eng_punc  \n",
       "0           False                False  \n",
       "\n",
       "[1 rows x 28 columns]"
      ]
     },
     "execution_count": 30,
     "metadata": {},
     "output_type": "execute_result"
    }
   ],
   "source": [
    "train_df.head(1)"
   ]
  },
  {
   "cell_type": "code",
   "execution_count": 31,
   "metadata": {},
   "outputs": [],
   "source": [
    "ans_pattern = re.compile(r'@content\\d@')\n",
    "\n",
    "def find_answer_in_docid(answer):\n",
    "    docs = ans_pattern.findall(answer)\n",
    "    return list(set([doc[-2:-1] for doc in docs]))\n",
    "\n",
    "train_df['answer_in_docid'] = train_df['answer'].map(find_answer_in_docid)"
   ]
  },
  {
   "cell_type": "code",
   "execution_count": 32,
   "metadata": {},
   "outputs": [],
   "source": [
    "def check_answer_match_in_doc(row):\n",
    "    answer = row['answer']\n",
    "    ans_in_docids = find_answer_in_docid(answer)\n",
    "    total_ans_span_cnt = 0\n",
    "    ans_match_in_doc_cnt = []\n",
    "    for ans_docid in ans_in_docids:\n",
    "        ans_results = answer.split('@content{}@'.format(ans_docid))\n",
    "        for ans_str in ans_results:\n",
    "            if ans_str != '' and '@content' not in ans_str:\n",
    "                total_ans_span_cnt += 1\n",
    "                ans_match_in_doc = ans_str in row['content{}'.format(ans_docid)]\n",
    "                ans_match_in_doc_cnt.append(ans_match_in_doc)\n",
    "    \n",
    "    return sum(ans_match_in_doc_cnt) == total_ans_span_cnt"
   ]
  },
  {
   "cell_type": "code",
   "execution_count": 33,
   "metadata": {},
   "outputs": [
    {
     "data": {
      "text/plain": [
       "0    True\n",
       "dtype: bool"
      ]
     },
     "execution_count": 33,
     "metadata": {},
     "output_type": "execute_result"
    }
   ],
   "source": [
    "train_df[train_df['question_id']=='Q_05193ghdyd'].apply(lambda row:check_answer_match_in_doc(row), axis=1)"
   ]
  },
  {
   "cell_type": "code",
   "execution_count": 34,
   "metadata": {},
   "outputs": [],
   "source": [
    "train_df['answer_match_in_doc'] = train_df.apply(lambda row:check_answer_match_in_doc(row), axis=1)"
   ]
  },
  {
   "cell_type": "code",
   "execution_count": 35,
   "metadata": {},
   "outputs": [
    {
     "data": {
      "text/plain": [
       "<matplotlib.axes._subplots.AxesSubplot at 0x7f31556b37b8>"
      ]
     },
     "execution_count": 35,
     "metadata": {},
     "output_type": "execute_result"
    },
    {
     "data": {
      "image/png": "[encoded data removed]",
      "text/plain": [
       "<Figure size 432x288 with 1 Axes>"
      ]
     },
     "metadata": {
      "needs_background": "light"
     },
     "output_type": "display_data"
    }
   ],
   "source": [
    "sns.countplot(train_df['answer_match_in_doc'])"
   ]
  },
  {
   "cell_type": "code",
   "execution_count": 36,
   "metadata": {},
   "outputs": [
    {
     "data": {
      "text/plain": [
       "True     23893\n",
       "False      950\n",
       "Name: answer_match_in_doc, dtype: int64"
      ]
     },
     "execution_count": 36,
     "metadata": {},
     "output_type": "execute_result"
    }
   ],
   "source": [
    "train_df['answer_match_in_doc'].value_counts()"
   ]
  },
  {
   "cell_type": "markdown",
   "metadata": {},
   "source": [
    "**可以看出，96%的样本的答案是直接可以从doc里匹配定位得到的！**"
   ]
  },
  {
   "cell_type": "code",
   "execution_count": null,
   "metadata": {},
   "outputs": [],
   "source": []
  }
 ],
 "metadata": {
  "kernelspec": {
   "display_name": "Python 3",
   "language": "python",
   "name": "python3"
  },
  "language_info": {
   "codemirror_mode": {
    "name": "ipython",
    "version": 3
   },
   "file_extension": ".py",
   "mimetype": "text/x-python",
   "name": "python",
   "nbconvert_exporter": "python",
   "pygments_lexer": "ipython3",
   "version": "3.6.8"
  }
 },
 "nbformat": 4,
 "nbformat_minor": 2
}
