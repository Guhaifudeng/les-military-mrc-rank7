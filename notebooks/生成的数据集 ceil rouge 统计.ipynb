{
 "cells": [
  {
   "cell_type": "code",
   "execution_count": 3,
   "metadata": {},
   "outputs": [],
   "source": [
    "import sys\n",
    "sys.path.append('../')\n",
    "import re\n",
    "import os\n",
    "import time\n",
    "import numpy as np\n",
    "import pandas as pd\n",
    "from tqdm import tqdm\n",
    "tqdm.pandas()\n",
    "import json\n",
    "from utils.rouge import RougeL\n",
    "from utils.precision_recall_f1 import precision_recall_f1\n",
    "import matplotlib\n",
    "import matplotlib.pyplot as plt\n",
    "import seaborn as sns\n",
    "sns.set_style('whitegrid')\n",
    "%matplotlib inline\n",
    "matplotlib.style.use('ggplot')"
   ]
  },
  {
   "cell_type": "markdown",
   "metadata": {},
   "source": [
    "## 保持全局长度下计算 label 的 ceil rougel"
   ]
  },
  {
   "cell_type": "code",
   "execution_count": 47,
   "metadata": {},
   "outputs": [],
   "source": [
    "from utils.rouge import RougeL\n",
    "\n",
    "ans_pattern = re.compile(r'@content\\d@')\n",
    "\n",
    "def find_answer_in_docid(answer):\n",
    "    docs = ans_pattern.findall(answer)\n",
    "    return list(set([int(doc[-2:-1]) for doc in docs]))\n",
    "\n",
    "def calc_ceil_rougel(answer_text, sample):\n",
    "    # 计算抽取的 fake answer 以及对应的 ceil rougel\n",
    "    fake_answers = [sample['documents'][answer_label[0]]['content'][answer_label[1]: answer_label[2] + 1]\n",
    "                    for answer_label in sample['answer_labels']]\n",
    "    sample['fake_answers'] = fake_answers\n",
    "\n",
    "    if len(fake_answers) == 0:\n",
    "        sample['ceil_rougel'] = 0\n",
    "    else:\n",
    "        ceil_rougel = RougeL().add_inst(cand=''.join(fake_answers), ref=answer_text).get_score()\n",
    "        sample['ceil_rougel'] = ceil_rougel\n"
   ]
  },
  {
   "cell_type": "code",
   "execution_count": 54,
   "metadata": {},
   "outputs": [],
   "source": [
    "def calc_sample_ceil_rougel(sample):\n",
    "    answer = sample['answer']\n",
    "    ans_in_docids = find_answer_in_docid(answer)\n",
    "    answer_texts = []\n",
    "    for ans_in_docid in ans_in_docids:\n",
    "        answer_strs = answer.split('@content{}@'.format(ans_in_docid))\n",
    "        for answer_str in answer_strs:\n",
    "            answer_str = answer_str.strip()  # important\n",
    "            # @content1@ 包裹的实际答案文本\n",
    "            if answer_str != '' and '@content' not in answer_str:\n",
    "                answer_str = answer_str.replace('content{}@'.format(ans_in_docid), '')\n",
    "                answer_texts.append(answer_str)\n",
    "\n",
    "    # 拼接的答案文本\n",
    "    answer_text = ''.join(answer_texts)\n",
    "    calc_ceil_rougel(answer_text, sample)"
   ]
  },
  {
   "cell_type": "code",
   "execution_count": 99,
   "metadata": {},
   "outputs": [
    {
     "name": "stderr",
     "output_type": "stream",
     "text": [
      "100%|██████████| 24843/24843 [00:09<00:00, 2584.14it/s]\n"
     ]
    }
   ],
   "source": [
    "ori_ceil_rougels = []\n",
    "\n",
    "zero_ceil_rougel_samples = set()\n",
    "\n",
    "with open('../input/mrc_dataset/train_round_0.json') as f:\n",
    "    lines = f.readlines()\n",
    "    for line in tqdm(lines):\n",
    "        if not line.startswith('{'):\n",
    "            continue\n",
    "\n",
    "        sample = json.loads(line.strip())\n",
    "        calc_sample_ceil_rougel(sample)\n",
    "        ori_ceil_rougels.append(sample['ceil_rougel'])\n",
    "        \n",
    "        if sample['ceil_rougel'] == 0:\n",
    "            zero_ceil_rougel_samples.add(sample['question_id'])"
   ]
  },
  {
   "cell_type": "code",
   "execution_count": 72,
   "metadata": {},
   "outputs": [
    {
     "data": {
      "image/png": "[encoded data removed]",
      "text/plain": [
       "<Figure size 720x432 with 1 Axes>"
      ]
     },
     "metadata": {},
     "output_type": "display_data"
    }
   ],
   "source": [
    "plt.figure(figsize=(10, 6))\n",
    "sns.distplot(ori_ceil_rougels, kde=False)\n",
    "plt.title('ceil rougel')\n",
    "plt.show()"
   ]
  },
  {
   "cell_type": "code",
   "execution_count": 73,
   "metadata": {},
   "outputs": [],
   "source": [
    "ori_ceil_rougels = np.array(ori_ceil_rougels)"
   ]
  },
  {
   "cell_type": "code",
   "execution_count": 74,
   "metadata": {},
   "outputs": [
    {
     "name": "stdout",
     "output_type": "stream",
     "text": [
      "total: 24843\n",
      "ceil rougel < 0.20: 515\n",
      "ceil rougel > 0.95: 23511\n",
      "ceil rougel = 0: 498\n",
      "ceil rougel = 1: 23117\n"
     ]
    }
   ],
   "source": [
    "print('total:', ori_ceil_rougels.shape[0])\n",
    "print('ceil rougel < 0.20:', ori_ceil_rougels[ori_ceil_rougels < 0.2].shape[0])\n",
    "print('ceil rougel > 0.95:', ori_ceil_rougels[ori_ceil_rougels > 0.95].shape[0])\n",
    "print('ceil rougel = 0:', ori_ceil_rougels[ori_ceil_rougels == 0].shape[0])\n",
    "print('ceil rougel = 1:', ori_ceil_rougels[ori_ceil_rougels == 1].shape[0])"
   ]
  },
  {
   "cell_type": "code",
   "execution_count": 75,
   "metadata": {},
   "outputs": [
    {
     "data": {
      "text/plain": [
       "0.930523688765447"
      ]
     },
     "execution_count": 75,
     "metadata": {},
     "output_type": "execute_result"
    }
   ],
   "source": [
    "ori_ceil_rougels[ori_ceil_rougels == 1].shape[0] / ori_ceil_rougels.shape[0]"
   ]
  },
  {
   "cell_type": "code",
   "execution_count": 77,
   "metadata": {},
   "outputs": [
    {
     "data": {
      "text/plain": [
       "0.971559387448041"
      ]
     },
     "execution_count": 77,
     "metadata": {},
     "output_type": "execute_result"
    }
   ],
   "source": [
    "np.mean(ori_ceil_rougels)"
   ]
  },
  {
   "cell_type": "code",
   "execution_count": 100,
   "metadata": {},
   "outputs": [
    {
     "data": {
      "text/plain": [
       "498"
      ]
     },
     "execution_count": 100,
     "metadata": {},
     "output_type": "execute_result"
    }
   ],
   "source": [
    "len(zero_ceil_rougel_samples)"
   ]
  },
  {
   "cell_type": "code",
   "execution_count": 101,
   "metadata": {},
   "outputs": [
    {
     "name": "stdout",
     "output_type": "stream",
     "text": [
      "../input/cleaned/split_train_00\n",
      "../input/cleaned/split_train_01\n",
      "../input/cleaned/split_train_02\n",
      "../input/cleaned/split_train_03\n",
      "../input/cleaned/split_train_04\n",
      "../input/cleaned/split_train_05\n",
      "../input/cleaned/split_train_06\n",
      "../input/cleaned/split_train_07\n",
      "../input/cleaned/split_train_08\n",
      "../input/cleaned/split_train_09\n"
     ]
    }
   ],
   "source": [
    "# 生成 label 之前的 cleaned 数据\n",
    "\n",
    "cleaned_bad_case_samples = []\n",
    "for i in range(10):\n",
    "    path = '../input/cleaned/split_train_0{}'.format(i)\n",
    "    if not os.path.isfile(path):\n",
    "        continue\n",
    "\n",
    "    with open(path) as f:\n",
    "        print(path)\n",
    "        for line in f:\n",
    "            sample = json.loads(line.strip())\n",
    "            if sample['question_id'] in zero_ceil_rougel_samples:\n",
    "                cleaned_bad_case_samples.append(line)\n"
   ]
  },
  {
   "cell_type": "code",
   "execution_count": 102,
   "metadata": {},
   "outputs": [],
   "source": [
    "with open('cleaned_bad_case_samples.json', 'w', encoding='utf8') as f:\n",
    "    f.writelines(cleaned_bad_case_samples)"
   ]
  },
  {
   "cell_type": "markdown",
   "metadata": {},
   "source": [
    "## 采样扩充后的 ceil rougel"
   ]
  },
  {
   "cell_type": "code",
   "execution_count": 64,
   "metadata": {},
   "outputs": [],
   "source": [
    "ceil_rougels = []\n",
    "\n",
    "with open('../input/mrc_dataset/trainset/sample_aug_train_round_0.json') as f:\n",
    "    for line in f:\n",
    "        sample = json.loads(line.strip())\n",
    "        ceil_rougels.append(sample['ceil_rougel'])"
   ]
  },
  {
   "cell_type": "code",
   "execution_count": 65,
   "metadata": {},
   "outputs": [],
   "source": [
    "ceil_rougels = np.array(ceil_rougels)"
   ]
  },
  {
   "cell_type": "code",
   "execution_count": 66,
   "metadata": {},
   "outputs": [
    {
     "data": {
      "image/png": "[encoded data removed]",
      "text/plain": [
       "<Figure size 720x432 with 1 Axes>"
      ]
     },
     "metadata": {},
     "output_type": "display_data"
    }
   ],
   "source": [
    "plt.figure(figsize=(10, 6))\n",
    "sns.distplot(ceil_rougels, kde=False)\n",
    "plt.title('ceil rougel')\n",
    "plt.show()"
   ]
  },
  {
   "cell_type": "code",
   "execution_count": 67,
   "metadata": {},
   "outputs": [
    {
     "name": "stdout",
     "output_type": "stream",
     "text": [
      "total: 38431\n",
      "ceil rougel < 0.20: 892\n",
      "ceil rougel > 0.95: 36111\n",
      "ceil rougel = 0: 862\n",
      "ceil rougel = 1: 35534\n"
     ]
    }
   ],
   "source": [
    "print('total:', ceil_rougels.shape[0])\n",
    "print('ceil rougel < 0.20:', ceil_rougels[ceil_rougels < 0.2].shape[0])\n",
    "print('ceil rougel > 0.95:', ceil_rougels[ceil_rougels > 0.95].shape[0])\n",
    "print('ceil rougel = 0:', ceil_rougels[ceil_rougels == 0].shape[0])\n",
    "print('ceil rougel = 1:', ceil_rougels[ceil_rougels == 1].shape[0])"
   ]
  },
  {
   "cell_type": "code",
   "execution_count": 68,
   "metadata": {},
   "outputs": [
    {
     "data": {
      "text/plain": [
       "0.924618146808566"
      ]
     },
     "execution_count": 68,
     "metadata": {},
     "output_type": "execute_result"
    }
   ],
   "source": [
    "ceil_rougels[ceil_rougels == 1].shape[0] / ceil_rougels.shape[0]"
   ]
  },
  {
   "cell_type": "code",
   "execution_count": 69,
   "metadata": {},
   "outputs": [
    {
     "data": {
      "text/plain": [
       "0.9669466833516362"
      ]
     },
     "execution_count": 69,
     "metadata": {},
     "output_type": "execute_result"
    }
   ],
   "source": [
    "np.mean(ceil_rougels)"
   ]
  },
  {
   "cell_type": "code",
   "execution_count": 91,
   "metadata": {},
   "outputs": [],
   "source": [
    "a=\"6月21日，中共中央政治局委员、中央政法委书记郭声琨在里斯本会见葡萄牙代总理席尔瓦外长。6月21日，中共中央政治局委员、中央政法委书记郭声琨在里斯本会见葡萄牙代总理席尔瓦外长。 摄影 郝帆郭声琨说，去年底以来，习近平主席和德索萨总统在不到半年时间内实现互访，体现了中葡关系的高水平发展，也为双边关系发展注入了新动力。中方愿同葡方携手努力，以两国建交40周年为契机，落实两国领导人达成的重要共识，密切高层交往，深化共建“一带一路”以及经贸、教育、科技等领域交流与合作，保持双边关系发展积极势头。双方要加强在中国—欧盟合作框架下和多边机构中沟通与协调，推动中欧关系长期健康稳定发展，共同维护多边主义和自由贸易。郭声琨表示，执法安全合作是两国关系的重要组成部分。两国执法安全部门要适应经贸和人员联系密切、安全利益保护需求上升的新形势，建立常态化合作机制，不断提升执法安全和反恐合作水平，为推动中葡全面战略伙伴关系发展作出积极贡献。席尔瓦以代总理身份欢迎郭声琨到访，转达正在国外访问的科斯塔总理对郭声琨的问候，高度评价葡中两国在各领域交流合作所取得的丰硕成果。表示葡方支持并积极参与共建“一带一路”，愿与中方共同努力，继续深挖经贸、执法安全等领域务实合作潜力，加强在国际事务中的协调，推动欧中、葡中关系不断向前发展。访问期间，郭声琨还与葡方执法安全部门负责人举行了会谈。中央政法委秘书长陈一新，驻葡萄牙大使蔡润，外交部涉外安全事务专员程国平，公安部副部长杜航伟，国家安全部副部长王裕文参加上述活动。\""
   ]
  },
  {
   "cell_type": "code",
   "execution_count": 92,
   "metadata": {},
   "outputs": [
    {
     "data": {
      "text/plain": [
       "'“一带一路”以及经贸、教育、科技等领域交流与合作，'"
      ]
     },
     "execution_count": 92,
     "metadata": {},
     "output_type": "execute_result"
    }
   ],
   "source": [
    "a[208:233]"
   ]
  },
  {
   "cell_type": "code",
   "execution_count": null,
   "metadata": {},
   "outputs": [],
   "source": []
  }
 ],
 "metadata": {
  "kernelspec": {
   "display_name": "Python 3",
   "language": "python",
   "name": "python3"
  },
  "language_info": {
   "codemirror_mode": {
    "name": "ipython",
    "version": 3
   },
   "file_extension": ".py",
   "mimetype": "text/x-python",
   "name": "python",
   "nbconvert_exporter": "python",
   "pygments_lexer": "ipython3",
   "version": "3.6.8"
  }
 },
 "nbformat": 4,
 "nbformat_minor": 2
}
