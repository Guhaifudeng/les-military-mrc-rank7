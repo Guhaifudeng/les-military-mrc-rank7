{
 "cells": [
  {
   "cell_type": "code",
   "execution_count": 4,
   "metadata": {},
   "outputs": [],
   "source": [
    "import sys\n",
    "sys.path.append('../')\n",
    "import re\n",
    "import os\n",
    "import time\n",
    "import numpy as np\n",
    "import pandas as pd\n",
    "from tqdm import tqdm\n",
    "tqdm.pandas()\n",
    "import json\n",
    "from utils.rouge import RougeL\n",
    "from utils.precision_recall_f1 import precision_recall_f1\n",
    "import matplotlib\n",
    "import matplotlib.pyplot as plt\n",
    "import seaborn as sns\n",
    "sns.set_style('whitegrid')\n",
    "%matplotlib inline\n",
    "matplotlib.style.use('ggplot')"
   ]
  },
  {
   "cell_type": "markdown",
   "metadata": {},
   "source": [
    "## 保持全局长度下计算 label 的 ceil rougel"
   ]
  },
  {
   "cell_type": "code",
   "execution_count": 2,
   "metadata": {},
   "outputs": [],
   "source": [
    "from utils.rouge import RougeL\n",
    "\n",
    "ans_pattern = re.compile(r'@content\\d@')\n",
    "\n",
    "def find_answer_in_docid(answer):\n",
    "    docs = ans_pattern.findall(answer)\n",
    "    return list(set([int(doc[-2:-1]) for doc in docs]))\n",
    "\n",
    "def calc_ceil_rougel(answer_text, sample):\n",
    "    # 计算抽取的 fake answer 以及对应的 ceil rougel\n",
    "    fake_answers = [sample['documents'][answer_label[0]]['content'][answer_label[1]: answer_label[2] + 1]\n",
    "                    for answer_label in sample['answer_labels']]\n",
    "    sample['fake_answers'] = fake_answers\n",
    "\n",
    "    if len(fake_answers) == 0:\n",
    "        sample['ceil_rougel'] = 0\n",
    "    else:\n",
    "        ceil_rougel = RougeL().add_inst(cand=''.join(fake_answers), ref=answer_text).get_score()\n",
    "        sample['ceil_rougel'] = ceil_rougel\n"
   ]
  },
  {
   "cell_type": "code",
   "execution_count": 3,
   "metadata": {},
   "outputs": [],
   "source": [
    "def calc_sample_ceil_rougel(sample):\n",
    "    answer = sample['answer']\n",
    "    ans_in_docids = find_answer_in_docid(answer)\n",
    "    answer_texts = []\n",
    "    for ans_in_docid in ans_in_docids:\n",
    "        answer_strs = answer.split('@content{}@'.format(ans_in_docid))\n",
    "        for answer_str in answer_strs:\n",
    "            answer_str = answer_str.strip()  # important\n",
    "            # @content1@ 包裹的实际答案文本\n",
    "            if answer_str != '' and '@content' not in answer_str:\n",
    "                answer_str = answer_str.replace('content{}@'.format(ans_in_docid), '')\n",
    "                answer_texts.append(answer_str)\n",
    "\n",
    "    # 拼接的答案文本\n",
    "    answer_text = ''.join(answer_texts)\n",
    "    calc_ceil_rougel(answer_text, sample)"
   ]
  },
  {
   "cell_type": "code",
   "execution_count": 5,
   "metadata": {},
   "outputs": [
    {
     "name": "stderr",
     "output_type": "stream",
     "text": [
      "100%|██████████| 24843/24843 [00:08<00:00, 2917.30it/s]\n"
     ]
    }
   ],
   "source": [
    "ori_ceil_rougels = []\n",
    "\n",
    "zero_ceil_rougel_samples = set()\n",
    "\n",
    "with open('../input/mrc_dataset/all_train_full_content.json') as f:\n",
    "    lines = f.readlines()\n",
    "    for line in tqdm(lines):\n",
    "        if not line.startswith('{'):\n",
    "            continue\n",
    "\n",
    "        sample = json.loads(line.strip())\n",
    "        calc_sample_ceil_rougel(sample)\n",
    "        ori_ceil_rougels.append(sample['ceil_rougel'])\n",
    "        \n",
    "        if sample['ceil_rougel'] == 0:\n",
    "            zero_ceil_rougel_samples.add(sample['question_id'])"
   ]
  },
  {
   "cell_type": "code",
   "execution_count": 6,
   "metadata": {},
   "outputs": [
    {
     "data": {
      "image/png": "[encoded data removed]",
      "text/plain": [
       "<Figure size 720x432 with 1 Axes>"
      ]
     },
     "metadata": {
      "needs_background": "light"
     },
     "output_type": "display_data"
    }
   ],
   "source": [
    "plt.figure(figsize=(10, 6))\n",
    "sns.distplot(ori_ceil_rougels, kde=False)\n",
    "plt.title('ceil rougel')\n",
    "plt.show()"
   ]
  },
  {
   "cell_type": "code",
   "execution_count": 7,
   "metadata": {},
   "outputs": [],
   "source": [
    "ori_ceil_rougels = np.array(ori_ceil_rougels)"
   ]
  },
  {
   "cell_type": "code",
   "execution_count": 8,
   "metadata": {},
   "outputs": [
    {
     "name": "stdout",
     "output_type": "stream",
     "text": [
      "total: 24843\n",
      "ceil rougel < 0.20: 515\n",
      "ceil rougel > 0.95: 23511\n",
      "ceil rougel = 0: 498\n",
      "ceil rougel = 1: 23117\n"
     ]
    }
   ],
   "source": [
    "print('total:', ori_ceil_rougels.shape[0])\n",
    "print('ceil rougel < 0.20:', ori_ceil_rougels[ori_ceil_rougels < 0.2].shape[0])\n",
    "print('ceil rougel > 0.95:', ori_ceil_rougels[ori_ceil_rougels > 0.95].shape[0])\n",
    "print('ceil rougel = 0:', ori_ceil_rougels[ori_ceil_rougels == 0].shape[0])\n",
    "print('ceil rougel = 1:', ori_ceil_rougels[ori_ceil_rougels == 1].shape[0])"
   ]
  },
  {
   "cell_type": "code",
   "execution_count": 9,
   "metadata": {},
   "outputs": [
    {
     "data": {
      "text/plain": [
       "0.930523688765447"
      ]
     },
     "execution_count": 9,
     "metadata": {},
     "output_type": "execute_result"
    }
   ],
   "source": [
    "ori_ceil_rougels[ori_ceil_rougels == 1].shape[0] / ori_ceil_rougels.shape[0]"
   ]
  },
  {
   "cell_type": "code",
   "execution_count": 10,
   "metadata": {},
   "outputs": [
    {
     "data": {
      "text/plain": [
       "0.971559387448041"
      ]
     },
     "execution_count": 10,
     "metadata": {},
     "output_type": "execute_result"
    }
   ],
   "source": [
    "np.mean(ori_ceil_rougels)"
   ]
  },
  {
   "cell_type": "code",
   "execution_count": 11,
   "metadata": {},
   "outputs": [
    {
     "data": {
      "text/plain": [
       "498"
      ]
     },
     "execution_count": 11,
     "metadata": {},
     "output_type": "execute_result"
    }
   ],
   "source": [
    "len(zero_ceil_rougel_samples)"
   ]
  },
  {
   "cell_type": "code",
   "execution_count": 12,
   "metadata": {},
   "outputs": [
    {
     "name": "stdout",
     "output_type": "stream",
     "text": [
      "../input/raw/split_train_00\n",
      "../input/raw/split_train_01\n",
      "../input/raw/split_train_02\n",
      "../input/raw/split_train_03\n",
      "../input/raw/split_train_04\n",
      "../input/raw/split_train_05\n",
      "../input/raw/split_train_06\n",
      "../input/raw/split_train_07\n",
      "../input/raw/split_train_08\n",
      "../input/raw/split_train_09\n"
     ]
    }
   ],
   "source": [
    "# 生成 label 之前的 raw 数据\n",
    "\n",
    "bad_case_raw_samples = []\n",
    "for i in range(10):\n",
    "    path = '../input/raw/split_train_0{}'.format(i)\n",
    "    if not os.path.isfile(path):\n",
    "        continue\n",
    "\n",
    "    with open(path) as f:\n",
    "        print(path)\n",
    "        for line in f:\n",
    "            sample = json.loads(line.strip())\n",
    "            if sample['question_id'] in zero_ceil_rougel_samples:\n",
    "                bad_case_raw_samples.append(line)\n"
   ]
  },
  {
   "cell_type": "code",
   "execution_count": 14,
   "metadata": {},
   "outputs": [],
   "source": [
    "with open('../input/bad_case_raw_samples.json', 'w', encoding='utf8') as f:\n",
    "    f.writelines(bad_case_raw_samples)"
   ]
  },
  {
   "cell_type": "markdown",
   "metadata": {},
   "source": [
    "## bad case 优化后的 ceil rougel"
   ]
  },
  {
   "cell_type": "code",
   "execution_count": 55,
   "metadata": {},
   "outputs": [
    {
     "name": "stdout",
     "output_type": "stream",
     "text": [
      "Q_07096kkkdj\n",
      "Q_35449ydjjg\n",
      "Q_46386jygqj\n",
      "Q_27389dnhnj\n"
     ]
    }
   ],
   "source": [
    "bad_case_rougel_samples = []\n",
    "with open('../preprocess/bad_case_out.json') as f:\n",
    "    for line in f:\n",
    "        sample = json.loads(line.strip())\n",
    "        bad_case_rougel_samples.append(sample['ceil_rougel'])\n",
    "        \n",
    "        if sample['ceil_rougel'] == 0:\n",
    "            print(sample['question_id'])\n",
    "\n",
    "bad_case_rougel_samples = np.array(bad_case_rougel_samples)"
   ]
  },
  {
   "cell_type": "code",
   "execution_count": 56,
   "metadata": {},
   "outputs": [
    {
     "data": {
      "image/png": "[encoded data removed]",
      "text/plain": [
       "<Figure size 720x432 with 1 Axes>"
      ]
     },
     "metadata": {
      "needs_background": "light"
     },
     "output_type": "display_data"
    }
   ],
   "source": [
    "plt.figure(figsize=(10, 6))\n",
    "sns.distplot(bad_case_rougel_samples, kde=False)\n",
    "plt.title('ceil rougel')\n",
    "plt.show()"
   ]
  },
  {
   "cell_type": "code",
   "execution_count": 57,
   "metadata": {},
   "outputs": [
    {
     "name": "stdout",
     "output_type": "stream",
     "text": [
      "total: 498\n",
      "ceil rougel < 0.20: 6\n",
      "ceil rougel > 0.95: 479\n",
      "ceil rougel = 0: 4\n",
      "ceil rougel = 1: 474\n",
      "mean ceil rougel: 0.9828555288692328\n"
     ]
    }
   ],
   "source": [
    "print('total:', bad_case_rougel_samples.shape[0])\n",
    "print('ceil rougel < 0.20:', bad_case_rougel_samples[bad_case_rougel_samples < 0.2].shape[0])\n",
    "print('ceil rougel > 0.95:', bad_case_rougel_samples[bad_case_rougel_samples > 0.95].shape[0])\n",
    "print('ceil rougel = 0:', bad_case_rougel_samples[bad_case_rougel_samples == 0].shape[0])\n",
    "print('ceil rougel = 1:', bad_case_rougel_samples[bad_case_rougel_samples == 1].shape[0])\n",
    "print('mean ceil rougel:', np.mean(bad_case_rougel_samples))"
   ]
  },
  {
   "cell_type": "markdown",
   "metadata": {},
   "source": [
    "## 训练集的 content 截断后的 ceil rougel"
   ]
  },
  {
   "cell_type": "code",
   "execution_count": 66,
   "metadata": {},
   "outputs": [],
   "source": [
    "max_content_len = 1000"
   ]
  },
  {
   "cell_type": "code",
   "execution_count": 67,
   "metadata": {},
   "outputs": [],
   "source": [
    "cuted_train_ceil_rougels = []\n",
    "with open('../input/mrc_dataset/train_max_content_len_{}.json'.format(max_content_len)) as f:\n",
    "    for line in f:\n",
    "        sample = json.loads(line.strip())\n",
    "        cuted_train_ceil_rougels.append(sample['ceil_rougel'])"
   ]
  },
  {
   "cell_type": "code",
   "execution_count": 68,
   "metadata": {},
   "outputs": [],
   "source": [
    "cuted_train_ceil_rougels = np.array(cuted_train_ceil_rougels)"
   ]
  },
  {
   "cell_type": "code",
   "execution_count": 69,
   "metadata": {},
   "outputs": [
    {
     "data": {
      "image/png": "[encoded data removed]",
      "text/plain": [
       "<Figure size 720x432 with 1 Axes>"
      ]
     },
     "metadata": {
      "needs_background": "light"
     },
     "output_type": "display_data"
    }
   ],
   "source": [
    "plt.figure(figsize=(10, 6))\n",
    "sns.distplot(cuted_train_ceil_rougels, kde=False)\n",
    "plt.title('ceil rougel')\n",
    "plt.show()"
   ]
  },
  {
   "cell_type": "code",
   "execution_count": 70,
   "metadata": {},
   "outputs": [
    {
     "name": "stdout",
     "output_type": "stream",
     "text": [
      "total: 24343\n",
      "ceil rougel < 0.20: 7\n",
      "ceil rougel > 0.95: 24004\n",
      "ceil rougel = 0: 3\n",
      "ceil rougel = 1: 23449\n",
      "ceil rougel = 1 percent: 0.963274863410426\n",
      "mean ceil rougel = 0.9975318251028128\n"
     ]
    }
   ],
   "source": [
    "print('total:', cuted_train_ceil_rougels.shape[0])\n",
    "print('ceil rougel < 0.20:', cuted_train_ceil_rougels[cuted_train_ceil_rougels < 0.2].shape[0])\n",
    "print('ceil rougel > 0.95:', cuted_train_ceil_rougels[cuted_train_ceil_rougels > 0.95].shape[0])\n",
    "print('ceil rougel = 0:', cuted_train_ceil_rougels[cuted_train_ceil_rougels == 0].shape[0])\n",
    "print('ceil rougel = 1:', cuted_train_ceil_rougels[cuted_train_ceil_rougels == 1].shape[0])\n",
    "print('ceil rougel = 1 percent:', cuted_train_ceil_rougels[cuted_train_ceil_rougels == 1].shape[0] / cuted_train_ceil_rougels.shape[0])\n",
    "print('mean ceil rougel =', np.mean(cuted_train_ceil_rougels))"
   ]
  },
  {
   "cell_type": "code",
   "execution_count": null,
   "metadata": {},
   "outputs": [],
   "source": []
  }
 ],
 "metadata": {
  "kernelspec": {
   "display_name": "Python 3",
   "language": "python",
   "name": "python3"
  },
  "language_info": {
   "codemirror_mode": {
    "name": "ipython",
    "version": 3
   },
   "file_extension": ".py",
   "mimetype": "text/x-python",
   "name": "python",
   "nbconvert_exporter": "python",
   "pygments_lexer": "ipython3",
   "version": "3.6.8"
  }
 },
 "nbformat": 4,
 "nbformat_minor": 2
}
