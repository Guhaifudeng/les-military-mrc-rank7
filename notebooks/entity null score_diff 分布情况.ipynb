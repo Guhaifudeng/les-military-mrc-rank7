{
 "cells": [
  {
   "cell_type": "code",
   "execution_count": 20,
   "metadata": {},
   "outputs": [],
   "source": [
    "import json\n",
    "\n",
    "import sys\n",
    "sys.path.append('../')\n",
    "import re\n",
    "import os\n",
    "import time\n",
    "import numpy as np\n",
    "import pandas as pd\n",
    "from tqdm import tqdm\n",
    "tqdm.pandas()\n",
    "import datetime\n",
    "\n",
    "import matplotlib\n",
    "import matplotlib.pyplot as plt\n",
    "import seaborn as sns\n",
    "sns.set_style('whitegrid')\n",
    "%matplotlib inline\n",
    "matplotlib.style.use('ggplot')"
   ]
  },
  {
   "cell_type": "code",
   "execution_count": 2,
   "metadata": {},
   "outputs": [],
   "source": [
    "with open('/home/lq/Research/Reading-Comprehension/les-military-mrc/les_mrc/span_mrc/bridge_entity_models/bridge_entity_mrc_BertForLes_no-bridge-entity_back-trans_0928/null_odds_les.json') as f:\n",
    "    dev_entity_null_score_diff = json.load(f)\n",
    "  "
   ]
  },
  {
   "cell_type": "code",
   "execution_count": 3,
   "metadata": {},
   "outputs": [],
   "source": [
    "ans_pattern = re.compile(r'@content\\d@')\n",
    "\n",
    "\n",
    "def find_answer_in_docid(answer):\n",
    "    docs = ans_pattern.findall(answer)\n",
    "    return list(set([int(doc[-2:-1]) for doc in docs]))\n"
   ]
  },
  {
   "cell_type": "code",
   "execution_count": 4,
   "metadata": {},
   "outputs": [],
   "source": [
    "train_sample_has_entity = {}\n",
    "train_sample_has_entity_fulldocs = {}\n",
    "\n",
    "with open('../input/bridge_entity_mrc_dataset/train_max_content_len_1024.json') as f:\n",
    "    for line in f:\n",
    "        sample = json.loads(line.strip())\n",
    "        support_para_in_docids = find_answer_in_docid(sample['supporting_paragraph'])\n",
    "        \n",
    "        if sample['bridging_entity'] is None or len(sample['bridging_entity'].strip()) == 0:\n",
    "            train_sample_has_entity_fulldocs[sample['question_id']] = False\n",
    "        else:\n",
    "            train_sample_has_entity_fulldocs[sample['question_id']] = True\n",
    "        \n",
    "        if sample['bridging_entity'] is None or len(sample['bridging_entity'].strip()) == 0:\n",
    "            for doc_i, doc in enumerate(sample['documents']):\n",
    "                train_sample_has_entity['{}##{}##0'.format(sample['question_id'], doc_i)] = False\n",
    "        else:\n",
    "            for sup_doc_i in support_para_in_docids:\n",
    "                if sample['bridging_entity'] in sample['documents'][sup_doc_i-1]['content']:\n",
    "                    train_sample_has_entity['{}##{}##0'.format(sample['question_id'], sup_doc_i-1)] = True\n",
    "            \n",
    "            for doc_i, doc in enumerate(sample['documents']):\n",
    "                if doc_i not in support_para_in_docids:\n",
    "                    train_sample_has_entity['{}##{}##0'.format(sample['question_id'], doc_i)] = False\n",
    "                else:\n",
    "                    if sample['bridging_entity'] in doc['content']:\n",
    "                        train_sample_has_entity['{}##{}##0'.format(sample['question_id'], doc_i)] = True\n",
    "                    else:\n",
    "                        train_sample_has_entity['{}##{}##0'.format(sample['question_id'], doc_i)] = False        "
   ]
  },
  {
   "cell_type": "code",
   "execution_count": 5,
   "metadata": {},
   "outputs": [
    {
     "data": {
      "text/plain": [
       "<matplotlib.axes._subplots.AxesSubplot at 0x7faf2c2aa208>"
      ]
     },
     "execution_count": 5,
     "metadata": {},
     "output_type": "execute_result"
    },
    {
     "data": {
      "image/png": "[encoded data removed]",
      "text/plain": [
       "<Figure size 432x288 with 1 Axes>"
      ]
     },
     "metadata": {},
     "output_type": "display_data"
    }
   ],
   "source": [
    "sns.countplot(list(train_sample_has_entity.values()))"
   ]
  },
  {
   "cell_type": "code",
   "execution_count": 6,
   "metadata": {},
   "outputs": [
    {
     "data": {
      "text/plain": [
       "0.06033115575824808"
      ]
     },
     "execution_count": 6,
     "metadata": {},
     "output_type": "execute_result"
    }
   ],
   "source": [
    "sum(train_sample_has_entity.values()) / len(train_sample_has_entity)"
   ]
  },
  {
   "cell_type": "code",
   "execution_count": 7,
   "metadata": {},
   "outputs": [
    {
     "data": {
      "text/plain": [
       "0.3644356793623403"
      ]
     },
     "execution_count": 7,
     "metadata": {},
     "output_type": "execute_result"
    }
   ],
   "source": [
    "sum(train_sample_has_entity_fulldocs.values()) / len(train_sample_has_entity_fulldocs)"
   ]
  },
  {
   "cell_type": "code",
   "execution_count": 8,
   "metadata": {},
   "outputs": [],
   "source": [
    "dev_sample_has_entity = {}\n",
    "dev_sample_has_entity_fulldocs = {}\n",
    "with open('../input/bridge_entity_mrc_dataset/dev.json') as f:\n",
    "    for line in f:\n",
    "        sample = json.loads(line.strip())\n",
    "        support_para_in_docids = find_answer_in_docid(sample['supporting_paragraph'])\n",
    "        \n",
    "        if sample['bridging_entity'] is None or len(sample['bridging_entity'].strip()) == 0:\n",
    "            dev_sample_has_entity_fulldocs[sample['question_id']] = False\n",
    "        else:\n",
    "            dev_sample_has_entity_fulldocs[sample['question_id']] = True\n",
    "        \n",
    "        if sample['bridging_entity'] is None or len(sample['bridging_entity'].strip()) == 0:\n",
    "            for doc_i, doc in enumerate(sample['documents']):\n",
    "                dev_sample_has_entity['{}##{}##0'.format(sample['question_id'], doc_i)] = False\n",
    "        else:\n",
    "            for sup_doc_i in support_para_in_docids:\n",
    "                if sample['bridging_entity'] in sample['documents'][sup_doc_i-1]['content']:\n",
    "                    dev_sample_has_entity['{}##{}##0'.format(sample['question_id'], sup_doc_i-1)] = True\n",
    "            \n",
    "            for doc_i, doc in enumerate(sample['documents']):\n",
    "                if doc_i not in support_para_in_docids:\n",
    "                    dev_sample_has_entity['{}##{}##0'.format(sample['question_id'], doc_i)] = False\n",
    "                else:\n",
    "                    if sample['bridging_entity'] in doc['content']:\n",
    "                        dev_sample_has_entity['{}##{}##0'.format(sample['question_id'], doc_i)] = True\n",
    "                    else:\n",
    "                        dev_sample_has_entity['{}##{}##0'.format(sample['question_id'], doc_i)] = False        "
   ]
  },
  {
   "cell_type": "code",
   "execution_count": 9,
   "metadata": {},
   "outputs": [
    {
     "data": {
      "text/plain": [
       "<matplotlib.axes._subplots.AxesSubplot at 0x7faef1cf4470>"
      ]
     },
     "execution_count": 9,
     "metadata": {},
     "output_type": "execute_result"
    },
    {
     "data": {
      "image/png": "[encoded data removed]",
      "text/plain": [
       "<Figure size 432x288 with 1 Axes>"
      ]
     },
     "metadata": {},
     "output_type": "display_data"
    }
   ],
   "source": [
    "sns.countplot(list(dev_sample_has_entity.values()))"
   ]
  },
  {
   "cell_type": "code",
   "execution_count": 10,
   "metadata": {},
   "outputs": [
    {
     "data": {
      "text/plain": [
       "0.0656"
      ]
     },
     "execution_count": 10,
     "metadata": {},
     "output_type": "execute_result"
    }
   ],
   "source": [
    "sum(dev_sample_has_entity.values()) / len(dev_sample_has_entity)"
   ]
  },
  {
   "cell_type": "code",
   "execution_count": 11,
   "metadata": {},
   "outputs": [
    {
     "data": {
      "text/plain": [
       "0.37"
      ]
     },
     "execution_count": 11,
     "metadata": {},
     "output_type": "execute_result"
    }
   ],
   "source": [
    "sum(dev_sample_has_entity_fulldocs.values()) / len(dev_sample_has_entity_fulldocs)"
   ]
  },
  {
   "cell_type": "code",
   "execution_count": null,
   "metadata": {},
   "outputs": [],
   "source": [
    "sns.kdeplot(list(dev_entity_null_score_diff.values()))"
   ]
  },
  {
   "cell_type": "code",
   "execution_count": null,
   "metadata": {},
   "outputs": [],
   "source": [
    "dev_null_scores = np.array(list(dev_entity_null_score_diff.values()))"
   ]
  },
  {
   "cell_type": "code",
   "execution_count": null,
   "metadata": {},
   "outputs": [],
   "source": [
    "len(dev_null_scores[dev_null_scores > 23.5]) / len(dev_null_scores)"
   ]
  },
  {
   "cell_type": "code",
   "execution_count": null,
   "metadata": {},
   "outputs": [],
   "source": [
    "dev_score_diff = pd.DataFrame({'question_id_doc_id': list(dev_entity_null_score_diff.keys()),\n",
    "                               'score_diff': list(dev_entity_null_score_diff.values())})\n",
    "\n",
    "dev_sample_no_entity_df = pd.DataFrame({'question_id_doc_id': list(dev_sample_has_entity.keys()),\n",
    "                                        'has_entity': list(dev_sample_has_entity.values())})"
   ]
  },
  {
   "cell_type": "code",
   "execution_count": null,
   "metadata": {},
   "outputs": [],
   "source": [
    "dev_score_diff = pd.merge(dev_score_diff, dev_sample_no_entity_df, on='question_id_doc_id')"
   ]
  },
  {
   "cell_type": "code",
   "execution_count": null,
   "metadata": {},
   "outputs": [],
   "source": [
    "dev_score_diff.head()"
   ]
  },
  {
   "cell_type": "code",
   "execution_count": null,
   "metadata": {},
   "outputs": [],
   "source": [
    "sns.kdeplot(dev_score_diff[dev_score_diff['has_entity'] == True]['score_diff'],label='has_entity')\n",
    "sns.kdeplot(dev_score_diff[dev_score_diff['has_entity'] == False]['score_diff'],label='no_entity')\n",
    "plt.xlabel('score diff')"
   ]
  },
  {
   "cell_type": "code",
   "execution_count": null,
   "metadata": {},
   "outputs": [],
   "source": [
    "pred_no_entity = dev_score_diff[dev_score_diff['score_diff'] > 15]\n",
    "\n",
    "pred_no_entity.shape[0] / len(dev_score_diff[dev_score_diff['has_entity'] == False]['score_diff'])"
   ]
  },
  {
   "cell_type": "code",
   "execution_count": null,
   "metadata": {},
   "outputs": [],
   "source": []
  }
 ],
 "metadata": {
  "kernelspec": {
   "display_name": "Python 3",
   "language": "python",
   "name": "python3"
  },
  "language_info": {
   "codemirror_mode": {
    "name": "ipython",
    "version": 3
   },
   "file_extension": ".py",
   "mimetype": "text/x-python",
   "name": "python",
   "nbconvert_exporter": "python",
   "pygments_lexer": "ipython3",
   "version": "3.6.8"
  }
 },
 "nbformat": 4,
 "nbformat_minor": 2
}
