{
 "cells": [
  {
   "cell_type": "code",
   "execution_count": null,
   "metadata": {},
   "outputs": [],
   "source": [
    "import json\n",
    "import sys\n",
    "import collections\n",
    "import copy"
   ]
  },
  {
   "cell_type": "code",
   "execution_count": null,
   "metadata": {},
   "outputs": [],
   "source": [
    "# import re\n",
    "# import pandas as pd\n",
    "\n",
    "# ans_pattern = re.compile(r'@content\\d@')\n",
    "# def is_multi_answer(answer):\n",
    "#     docs = ans_pattern.findall(answer)\n",
    "#     return len(set([int(doc[-2:-1]) for doc in docs])) > 1\n",
    "\n",
    "# train_df = pd.read_csv('../input/original/train_round_0.csv')\n",
    "# train_df['is_multi_answer'] = train_df['answer'].map(is_multi_answer)"
   ]
  },
  {
   "cell_type": "code",
   "execution_count": null,
   "metadata": {},
   "outputs": [],
   "source": [
    "# from eval_metric import normalize, compute_bleu_rouge"
   ]
  },
  {
   "cell_type": "markdown",
   "metadata": {},
   "source": [
    "## 规则方法得到多答案问题id"
   ]
  },
  {
   "cell_type": "code",
   "execution_count": null,
   "metadata": {},
   "outputs": [],
   "source": [
    "question_dict = {}\n",
    "with open('/home/lq/Research/Reading-Comprehension/les-military-mrc/input/mrc_dataset_0912/test_r0.json') as f:\n",
    "    for line in f:\n",
    "        sample = json.loads(line)\n",
    "        question_dict[sample['question_id']] = sample['question']"
   ]
  },
  {
   "cell_type": "code",
   "execution_count": null,
   "metadata": {},
   "outputs": [],
   "source": [
    "len(question_dict)"
   ]
  },
  {
   "cell_type": "code",
   "execution_count": null,
   "metadata": {
    "scrolled": true
   },
   "outputs": [],
   "source": [
    "cnt = 0\n",
    "multi_ans_question_id_list = []\n",
    "for id_, question in question_dict.items():\n",
    "    if (question.count('?') + question.count('？')) > 1 or (question.count('多少') + question.count('哪') + question.count('什么') + question.count('谁')) > 1:\n",
    "        cnt += 1\n",
    "        multi_ans_question_id_list.append(id_)\n",
    "#     elif '分别' in question and '和' in question:\n",
    "#         print(id_, question)\n",
    "#     elif '哪两' in question:\n",
    "#         print(id_, question)\n",
    "    \n",
    "print(cnt)"
   ]
  },
  {
   "cell_type": "code",
   "execution_count": null,
   "metadata": {},
   "outputs": [],
   "source": [
    "multi_ans_question_id_list += ['Q_06031cjhhh', 'Q_47760knsdc', 'Q_52500cnjsq', 'Q_36961chjcs', 'Q_22570hycqj',\n",
    "                               'Q_40246dnjsn']"
   ]
  },
  {
   "cell_type": "code",
   "execution_count": null,
   "metadata": {},
   "outputs": [],
   "source": [
    "len(multi_ans_question_id_list)"
   ]
  },
  {
   "cell_type": "markdown",
   "metadata": {},
   "source": [
    "## bert classifier模型得到多答案id"
   ]
  },
  {
   "cell_type": "code",
   "execution_count": null,
   "metadata": {},
   "outputs": [],
   "source": [
    "is_multi_list = []\n",
    "with open('../les_mrc/multi_ans_classifier/models/multi_ans_classifier/pred_results.txt') as f:\n",
    "    for line in f:\n",
    "        is_multi_list.append(int(line.strip()))\n",
    "print(len(is_multi_list))"
   ]
  },
  {
   "cell_type": "code",
   "execution_count": null,
   "metadata": {},
   "outputs": [],
   "source": [
    "multi_ans_new = []\n",
    "with open('/home/lq/Research/Reading-Comprehension/les-military-mrc/input/mrc_dataset_0912/test_r0.json') as f:\n",
    "    for i, line in enumerate(f):\n",
    "        sample = json.loads(line)\n",
    "        if is_multi_list[i] == 1:\n",
    "            multi_ans_new.append(sample['question_id'])\n",
    "            if sample['question_id'] not in multi_ans_question_id_list:\n",
    "#                 print(sample['question'])\n",
    "                pass\n",
    "print(len(multi_ans_new))"
   ]
  },
  {
   "cell_type": "code",
   "execution_count": null,
   "metadata": {},
   "outputs": [],
   "source": [
    "multi_ans_new += ['Q_06031cjhhh', 'Q_47760knsdc', 'Q_52500cnjsq', 'Q_36961chjcs', 'Q_22570hycqj',\n",
    "                               'Q_40246dnjsn']\n",
    "multi_ans_new = list(set(multi_ans_new))\n",
    "print(len(multi_ans_new))"
   ]
  },
  {
   "cell_type": "markdown",
   "metadata": {},
   "source": [
    "## 生成多答案"
   ]
  },
  {
   "cell_type": "code",
   "execution_count": null,
   "metadata": {},
   "outputs": [],
   "source": [
    "with open('nbest_predictions_checkpoint_test.json') as f:\n",
    "    all_nbest_json = json.loads(f.read())"
   ]
  },
  {
   "cell_type": "code",
   "execution_count": null,
   "metadata": {},
   "outputs": [],
   "source": [
    "all_samples = collections.defaultdict(list)\n",
    "need_skippeed_list = [',', '.', '。']\n",
    "for qas_id, nbest_json in all_nbest_json.items():\n",
    "    text = ''\n",
    "    prob = 0.0\n",
    "    logit = 0.0\n",
    "    for entry in nbest_json:\n",
    "        if entry['text'].strip() and entry['text'] not in need_skippeed_list:\n",
    "            text = entry['text'].strip()\n",
    "            logit = entry['start_logit'] + entry['end_logit']\n",
    "            prob = entry['probability']\n",
    "            break\n",
    "    all_samples[qas_id.split('##')[0]].append([text, logit, prob])\n",
    "all_predictions = {}\n",
    "multi_pred = []\n",
    "cnt = 0\n",
    "for question_id, sample in all_samples.items():\n",
    "    sample = sorted(sample, key=lambda x: x[1], reverse=True)\n",
    "    all_predictions[question_id] = sample[0][0]\n",
    "    # 简单的多答案选择模块\n",
    "    if question_id in multi_ans_new:\n",
    "#         for i in range(1, 5):\n",
    "#             ans1 = normalize([sample[0][0]])\n",
    "#             ans2 = normalize([sample[i][0]])\n",
    "#         if sample[0][0] == sample[1][0]:\n",
    "#             continue\n",
    "        all_predictions[question_id] = all_predictions[question_id] + '#' + sample[1][0]\n",
    "        print(all_predictions[question_id])\n",
    "        cnt += 1\n",
    "#     if sample[1][0] != '' and sample[1][2] > 0.5:\n",
    "#         # 有可能具有多答案\n",
    "#         if sample[0][0] == sample[1][0]:\n",
    "#             continue\n",
    "#         if sample[1][0] in sample[0][0] or sample[0][0] in sample[1][0]:\n",
    "#             continue\n",
    "#         ans1 = normalize([sample[0][0]])\n",
    "#         ans2 = normalize([sample[1][0]])\n",
    "#         bleu_rouge = compute_bleu_rouge({'item': ans1}, {'item': ans2})\n",
    "#         if bleu_rouge['Bleu-4'] > 0.2 or bleu_rouge['Rouge-L'] > 0.2:\n",
    "#             continue\n",
    "#         print('{} have multi-ans, take care of it'.format(question_id))\n",
    "#         multi_pred.append(question_id)\n",
    "#         cnt += 1\n",
    "#         all_predictions[question_id] = all_predictions[question_id] + '#' + sample[1][0]\n",
    "        \n",
    "print(cnt)"
   ]
  },
  {
   "cell_type": "code",
   "execution_count": null,
   "metadata": {},
   "outputs": [],
   "source": [
    "with open('multi_ans_0921_test.json', \"w\") as writer:\n",
    "    writer.write(json.dumps(all_predictions, indent=4, ensure_ascii=False) + \"\\n\")"
   ]
  },
  {
   "cell_type": "code",
   "execution_count": null,
   "metadata": {},
   "outputs": [],
   "source": []
  }
 ],
 "metadata": {
  "kernelspec": {
   "display_name": "Python 3",
   "language": "python",
   "name": "python3"
  },
  "language_info": {
   "codemirror_mode": {
    "name": "ipython",
    "version": 3
   },
   "file_extension": ".py",
   "mimetype": "text/x-python",
   "name": "python",
   "nbconvert_exporter": "python",
   "pygments_lexer": "ipython3",
   "version": "3.6.8"
  }
 },
 "nbformat": 4,
 "nbformat_minor": 2
}
