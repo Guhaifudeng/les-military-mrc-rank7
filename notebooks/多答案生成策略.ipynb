{
 "cells": [
  {
   "cell_type": "code",
   "execution_count": 10,
   "metadata": {},
   "outputs": [],
   "source": [
    "import json\n",
    "import sys\n",
    "import collections\n",
    "import copy"
   ]
  },
  {
   "cell_type": "code",
   "execution_count": 2,
   "metadata": {},
   "outputs": [],
   "source": [
    "# import re\n",
    "# import pandas as pd\n",
    "\n",
    "# ans_pattern = re.compile(r'@content\\d@')\n",
    "# def is_multi_answer(answer):\n",
    "#     docs = ans_pattern.findall(answer)\n",
    "#     return len(set([int(doc[-2:-1]) for doc in docs])) > 1\n",
    "\n",
    "# train_df = pd.read_csv('../input/original/train_round_0.csv')\n",
    "# train_df['is_multi_answer'] = train_df['answer'].map(is_multi_answer)"
   ]
  },
  {
   "cell_type": "code",
   "execution_count": 3,
   "metadata": {},
   "outputs": [],
   "source": [
    "# from eval_metric import normalize, compute_bleu_rouge"
   ]
  },
  {
   "cell_type": "markdown",
   "metadata": {},
   "source": [
    "## 规则方法得到多答案问题id"
   ]
  },
  {
   "cell_type": "code",
   "execution_count": 5,
   "metadata": {},
   "outputs": [],
   "source": [
    "question_dict = {}\n",
    "with open('/home/lq/projects/Research/Reading-Comprehension/les-military-mrc/input/answer_mrc_dataset/test_r0.json') as f:\n",
    "    for line in f:\n",
    "        sample = json.loads(line)\n",
    "        question_dict[sample['question_id']] = sample['question']"
   ]
  },
  {
   "cell_type": "code",
   "execution_count": 6,
   "metadata": {},
   "outputs": [
    {
     "data": {
      "text/plain": [
       "4969"
      ]
     },
     "execution_count": 6,
     "metadata": {},
     "output_type": "execute_result"
    }
   ],
   "source": [
    "len(question_dict)"
   ]
  },
  {
   "cell_type": "code",
   "execution_count": 7,
   "metadata": {
    "scrolled": true
   },
   "outputs": [
    {
     "name": "stdout",
     "output_type": "stream",
     "text": [
      "285\n"
     ]
    }
   ],
   "source": [
    "cnt = 0\n",
    "multi_ans_question_id_list = []\n",
    "for id_, question in question_dict.items():\n",
    "    if (question.count('?') + question.count('？')) > 1 or (question.count('多少') + question.count('哪') + question.count('什么') + question.count('谁')) > 1:\n",
    "        cnt += 1\n",
    "        multi_ans_question_id_list.append(id_)\n",
    "#     elif '分别' in question and '和' in question:\n",
    "#         print(id_, question)\n",
    "#     elif '哪两' in question:\n",
    "#         print(id_, question)\n",
    "    \n",
    "print(cnt)"
   ]
  },
  {
   "cell_type": "code",
   "execution_count": 8,
   "metadata": {},
   "outputs": [],
   "source": [
    "multi_ans_question_id_list += ['Q_06031cjhhh', 'Q_47760knsdc', 'Q_52500cnjsq', 'Q_36961chjcs', 'Q_22570hycqj',\n",
    "                               'Q_40246dnjsn']"
   ]
  },
  {
   "cell_type": "code",
   "execution_count": 9,
   "metadata": {},
   "outputs": [
    {
     "data": {
      "text/plain": [
       "291"
      ]
     },
     "execution_count": 9,
     "metadata": {},
     "output_type": "execute_result"
    }
   ],
   "source": [
    "len(multi_ans_question_id_list)"
   ]
  },
  {
   "cell_type": "markdown",
   "metadata": {},
   "source": [
    "## bert classifier模型得到多答案id"
   ]
  },
  {
   "cell_type": "code",
   "execution_count": 11,
   "metadata": {},
   "outputs": [
    {
     "name": "stdout",
     "output_type": "stream",
     "text": [
      "4969\n"
     ]
    }
   ],
   "source": [
    "is_multi_list = []\n",
    "with open('pred_results.txt') as f:\n",
    "    for line in f:\n",
    "        is_multi_list.append(int(line.strip()))\n",
    "print(len(is_multi_list))"
   ]
  },
  {
   "cell_type": "code",
   "execution_count": 12,
   "metadata": {},
   "outputs": [
    {
     "name": "stdout",
     "output_type": "stream",
     "text": [
      "300\n"
     ]
    }
   ],
   "source": [
    "multi_ans_new = []\n",
    "with open('/home/lq/projects/Research/Reading-Comprehension/les-military-mrc/input/answer_mrc_dataset/test_r0.json') as f:\n",
    "    for i, line in enumerate(f):\n",
    "        sample = json.loads(line)\n",
    "        if is_multi_list[i] == 1:\n",
    "            multi_ans_new.append(sample['question_id'])\n",
    "#             if sample['question_id'] not in multi_ans_question_id_list:\n",
    "#                 print(sample['question'])\n",
    "#                 pass\n",
    "print(len(multi_ans_new))"
   ]
  },
  {
   "cell_type": "code",
   "execution_count": 13,
   "metadata": {},
   "outputs": [
    {
     "name": "stdout",
     "output_type": "stream",
     "text": [
      "303\n"
     ]
    }
   ],
   "source": [
    "multi_ans_new += ['Q_06031cjhhh', 'Q_47760knsdc', 'Q_52500cnjsq', 'Q_36961chjcs', 'Q_22570hycqj',\n",
    "                               'Q_40246dnjsn']\n",
    "multi_ans_new = list(set(multi_ans_new))\n",
    "print(len(multi_ans_new))"
   ]
  },
  {
   "cell_type": "markdown",
   "metadata": {},
   "source": [
    "## 生成多答案"
   ]
  },
  {
   "cell_type": "code",
   "execution_count": 14,
   "metadata": {},
   "outputs": [],
   "source": [
    "with open('../les_mrc/span_mrc/answer_models/answer_mrc_BertForLes_no-bridge-entity_back-trans_0928/checkpoint-best/nbest_predictions_checkpoint_test.json') as f:\n",
    "    all_nbest_json = json.loads(f.read())"
   ]
  },
  {
   "cell_type": "code",
   "execution_count": 15,
   "metadata": {},
   "outputs": [
    {
     "name": "stdout",
     "output_type": "stream",
     "text": [
      "货舱宽度为5.49米#货舱宽度为5.49米\n",
      "M16突击步枪#有效射程：885米\n",
      "在F-104战斗机机腹下方安装了一台固体火箭发动机。#1951年开始研制\n",
      "整车高宽比为0.91#5吨\n",
      "英国、西班牙、德国和瑞士#棉兰老岛正成为“伊斯兰国”在东南亚\n",
      "两具#12艘\n",
      "可能会配备现在正在开发的远程防区外武器(LRSO)#飞翼结构\n",
      "最大的特点是射速快，后座力低#11.43毫米\n",
      "瑞典萨博(SAAB)公司#美国波音公司\n",
      "长约8米#由南非桑达克·奥斯特瑞尔·比派克公司\n",
      "气动、气冷原理#采用气动、气冷原理\n",
      "公路机动模式#卡车拖挂式运载\n",
      "突破了大型舰艇总体设计、信息集成、总装建造等一系列关键技术#中国船舶重工集团701研究所设计\n",
      "25辆#“豹”1主战坦克\n",
      "MG42#800米以上\n",
      "15.6公里#最大射程18公里\n",
      "MIM-23“霍克”地空导弹#184公里\n",
      "西班牙内战#30年代\n",
      "全新的航空复合材料#8吨\n",
      "40-50米水平#东风11导弹的技术\n",
      "比利时小镇巴斯通#OH-58D型“基奥瓦”侦察直升机\n",
      "20-40千米之间#AA-11射手(Archer)\n",
      "效费比#小型喷气发动机提供动力，飞行速度只有0、8马赫。\n",
      "240艘#诺斯罗普格鲁门公司生产的“传奇”级（Legend）国家安全舰\n",
      "发动机马力提升了190#誉21型发动机\n",
      "布雷默顿预备役舰队#42架\n",
      "SS-X-29#其发射车重量为80吨\n",
      "枪身长度为1138毫米#射击稳定性好，攻击力强\n",
      "沱江级舰具匿踪能力，速度快特性，并能够携带8枚雄风二型与8枚雄风三型反舰导弹，火力强大。#舰上搭载16枚杀伤力强大的雄风系列反舰导弹。\n",
      "12门280毫米45倍径主炮#280毫米口径主炮\n",
      "采用了两根枪管#3.31千克\n",
      "123架#3架美制C-130运输机\n",
      "约为四千吨左右#1000吨\n",
      "莫斯科“劳动旗帜”工厂（现米格公司第二生产中心）#63吨\n",
      "一个中国原则和中美三个联合公报#一个中国原则和中美三个联合公报\n",
      "1984-1991年#\"特拉法加\"级攻击型核潜艇\n",
      "飞行速度为1.78马赫#高强度、耐高温的BMI复合材料\n",
      "飞行速度达到了8马赫，约9800公里每小时#5马赫\n",
      "B-2隐身战略轰炸机#61米\n",
      "20毫米#共计交付了1541架\n",
      "2架#巴基斯坦从中国采购了一批霹雳15远程空空导弹\n",
      "25发一小节的分段式结构#可歼灭1000米以内的集团目标\n",
      "134米#134米\n",
      "全枪重量为3.45千克#14颗\n",
      "18艘#水上航速12节\n",
      "105毫米#具备浮渡精准射击能力\n",
      "伊拉克#美国海军“桑普森”号驱逐舰\n",
      "40至50千米#“物美价廉”的平民路线\n",
      "“本土决战兵器”#“本土决战兵器”\n",
      "韩海军第五机动战团#韩海军第五机动战团\n",
      "CH-47C#CH-47支奴干\n",
      "伊朗通过向也门胡塞武装运送武器和提供资金等手段破坏也门和平进程。#“果断风暴”\n",
      "“快速打击-增程精确制导空投水雷”（下文简称“快投雷”）#在飞抵临近俄舰队的重要港口水域附近\n",
      "197米#197米\n",
      "20000米#80年代后期\n",
      "1000米/秒#一门57毫米反坦克炮\n",
      "S—300、“霍维兹赫”远程巡航导弹、吉亚姆型中程导弹、“霍尔达德—15”导弹#伊朗因为伊核协议的限制不准研制核武器，但是伊朗绝对有研制核武器的能力，自从美国单方面退出伊核协议之后，伊朗报复性发声，将要研制核武器\n",
      "全船管系达22000余根#122.5米\n",
      "高强度合金钢铸造而成。#上世纪70年代\n",
      "220厘米#14.20米\n",
      "97个师#1928年\n",
      "该炮高仅62公分#3000门\n",
      "Ｍ79榴弹枪长737毫米#长度为737毫米\n",
      "辽沈战役期间#5270吨\n",
      "重型枪管由冷锻碳钢制造#黑色麦克米伦（McMillan）玻璃纤维枪托\n",
      "先进的隐身技术#密苏里州的怀特曼空军基地\n",
      "最高航速26节#主要用途是掩护我渡海登陆编队，对敌人岸滩的工事和有生力量进行火力覆盖。\n",
      "48架#700架\n",
      "一挺12.7毫米口径机枪和一门40毫米口径自动榴弹发射器#AAV7车长近8米\n",
      "印度空军#台军陆军航空兵601旅第二攻击作战梯队\n",
      "加拿大、丹麦、法国、意大利、荷兰、挪威、西班牙、英国和美国#加拿大、丹麦、法国、意大利、荷兰、挪威、西班牙、英国和美国\n",
      "高射速的23毫米高炮#两栖坦克PT-76两栖坦克的底盘\n",
      "1.73亿美元#116公里\n",
      "1.04万亿韩元#近10亿美元\n",
      "6种#39公里\n",
      "8枚#喷水推进的方式\n",
      "操纵性极佳#法国Procor公司\n",
      "2003年9月11日#满载排水量4000吨\n",
      "2S42型空降自行迫榴炮反坦克炮+高炮在大口径高炮称雄战场的年代，由于其身管长、初速高、弹道低伸，因此天然地具备很强的反坦克能力。而其中最为著名的，当属二战德国装备使用的88毫米系列高炮#PaK一35/36型37毫米反坦克炮\n",
      "2400米#700米左右\n",
      "7项#7项\n",
      "作战半径900km#9.14米（30英尺）\n",
      "2011年#2.4万吨\n",
      "2040年以后#远程和核轰炸任务\n",
      "反舰导弹发射装置#051型驱逐舰全长132米\n",
      "“瑞典神箭”#0.8马赫\n",
      "伊朗#土耳其\n",
      "美制M193式5.56毫米步枪弹#M193\n",
      "枪管长度1,000mm#它可以轻松的杀伤2300米之内的目标\n",
      "2名飞行员和10名乘客#涡轴8C／法国“阿赫耶”2C\n",
      "采用被动雷达寻的制导系统#3马赫\n",
      "5人#3种引信\n",
      "激光半主动制导#“毒刺”(Stinger)\n",
      "战斗射速120发/分#M1919A6式机枪\n",
      "“罗纳德·里根”号航空母舰#“麦凯恩”号\n",
      "1931年#法国布朗德\n",
      "QW-3肩扛式地对空导弹#“前卫-3”型便携式防空导弹\n",
      "完全是因为它采用大口径弹药。#0.50口径子弹\n",
      "长15米左右#体积小，速度快，攻击力强，并且还能容纳二十几人\n",
      "增强美军天基空间态势感知能力，提高美军快速检测、预警及识别潜在威胁的能力。#主要任务是负责拍摄别国卫星\n",
      "AGT-1500燃气轮机#1985年\n",
      "美国麦道、波音和诺斯罗普#上世纪70年代末\n",
      "56式半自动步枪#56式半自动步枪\n",
      "1950年#雅克-28\n",
      "S300防空系统#F-35\n",
      "中国航空工业集团有限公司#最大起飞重量53.5吨\n",
      "90架#美国的F-35B型战机都是在意大利生产的\n",
      "这意味着歼-10A精确攻击能力日臻成熟#超过200架\n",
      "中国#中国\n",
      "红旗-9B防空导弹、红旗-16防空导弹、红旗-10以及1130近防炮#垂直发射系统\n",
      "12米#大约为0.3KW/公斤\n",
      "220毫米#肘节式闭锁机构\n",
      "粗壮的机身和下单翼结构#3小时左右\n",
      "两台Rolls-RoyceWR-21船舶中间冷却回热式燃气轮机驱动#先进的“海毒蛇”系统\n",
      "最大射程时精确度为2.5海里#可携载威力高达280万吨\n",
      "由竹崎发射场、大崎发射场和吉信综合发射场组成#一箭双星\n",
      "海湾战争#其射程高达500千米\n",
      "补给点#“中国海军基地\n",
      "A3钢板#弹径52毫米\n",
      "M4A1卡宾枪#有效射程600~800m\n",
      "暴风级驱逐舰采用的两种共128单元垂发系统#32节\n",
      "1959年#由可拆卸的20~30发弹匣供弹\n",
      "109-004型发动机#第4种\n",
      "上海的沪东中华造船厂#避免对中国海军造舰建军造成太大的空档，并提前验证舰体设计\n",
      "诺思罗普·格鲁门公司#全长14.5米\n",
      "空枪重是14千克#最大射程为1800m\n",
      "上海中华造船厂#上海中华造船厂\n",
      "“欧洲鹰”无人机#美制“全球鹰”无人机\n",
      "枪口初速为231.65米/秒#柯尔特M1909左轮\n",
      "战斗全重30吨#M240迫击炮\n",
      "海鹰、鹰击等庞大的飞航导弹家族#YJ-83型反舰导弹，即“鹰击-83”\n",
      "赫克勒-科赫公司#“格洛克”（Glock）公司\n",
      "2011年10月#最大射高30公里\n",
      "韩海军第五机动战团#199米\n",
      "1.2万公里#“亚尔斯”\n",
      "新型热动力反舰/反潜鱼雷#鱼-6鱼雷\n",
      "双管火炮#故障率千分之0.5（是23-3的1/4）\n",
      "1410、940、965mm#3公里\n",
      "破片手雷#约为四百五十克左右\n",
      "最高航速29节#最高航速29节\n",
      "300公里/小时#Ardiden3G发动机\n",
      "每秒7°#美国格鲁曼公司\n",
      "规划总建造数量约为48艘#舰身宽度为十米\n",
      "6枚#阿根廷空军首次使用法国制造的一枚仅仅价值20万美元的“飞鱼”式导弹\n",
      "滑跃甲板的模式#“库兹涅佐夫号\n",
      "采用品字布局#有效射程约200~400公里\n",
      "确实存在身管工艺粗糙、寿命和中远距离精度较低、远程射击炮弹存速较差#99式坦克\n",
      "0.85马赫#其主要任务是用来验证无人作战飞机（UCAV）的技术可行性，以更快、更高效波音公开\n",
      "KC-135加油机#严令在查出问题前拒绝接收波音生产的同类型飞机。\n",
      "重1.5吨#台湾“中山科学研究院\n",
      "8#既可以为公众提供基本信号，也可以为政府和军方提供高度保密的信号。\n",
      "欧洲阿丽亚娜5号火箭#2003年\n",
      "二十五公斤#DShK重机枪\n",
      "采用5.8毫米机枪弹#88式狙击步枪全重4.1kg\n",
      "中国和印度#美国\n",
      "二战的最后一天#斯图卡A1\n",
      "40小时#40小时\n",
      "扁圆形#可以只穿100毫米\n",
      "有效杀伤半径7m#38克\n",
      "莱特湾海战#满载排水量：5,832吨\n",
      "六座#1940年4月\n",
      "AK47自动步枪#51式7.62mm手枪弹\n",
      "高精度抗干扰的主动雷达导引头#中间梯形\n",
      "最大初速度为每秒272米#4发\n",
      "法国地面武器工业集团(GIAT)公司#牵引式榴弹炮\n",
      "Magpul#7.62×51mm\n",
      "洛克希德·马丁公司#马丁公司\n",
      "F117-PW-100非加力涡扇发动机#D30涡扇发动机\n",
      "米格-31#超声速飞行，速度超过每小时2800公里\n",
      "适用于反弹道导弹#标准-3导弹（SM-3）是RIM-156SM-2ERBlock4导弹\n",
      "约为60%～70%#针对实际作战需要全新研制或者利用现有近防武器系统进行改装而成的\n",
      "惯性制导和双向数据链中段制导#弹体长度接近5米\n",
      "主要是担任陆军支援的侦察角色。#OH-58A/C直升机的气动外形\n",
      "主要用于侦察及应用导弹和炸弹进行地面目标攻击。#作战范围近6000公里\n",
      "4000米左右#Me263战斗机\n",
      "车载计算机化火控系统和全球定位系统/惯性导航系统#配备有数字弹道瞄准计算机在内的火控系统\n",
      "直升机吊装快速机动#在性能上绝对要高出M777超轻型榴弹炮一筹\n",
      "俾斯麦号战列舰是纳粹德国海军的俾斯麦级战列舰#荷尔斯泰因号\n",
      "119米#长度：120米\n",
      "纽波特纽斯造船厂#北达科他号(NorthDakota，BB-29)。\n",
      "4秒钟#F-35战斗机\n",
      ".338口径拉普阿弹药#AWM狙击步枪\n",
      "德国总理默克尔#主张欧盟必须停止依赖美国的强大军力。\n",
      "无畏舰#美国无畏舰\n",
      "红外成像制导系统#2004年\n",
      "可布置16架#第四代两栖舰\n",
      "韩国、泰国、厄瓜多尔、智利、洪都拉斯和乌拉圭#乌拉圭\n",
      "4艘#724型气垫登陆艇\n",
      "5.31米#可以击毁30公里高度之内的目标。\n",
      "水下排水量3000吨#红宝石设计局\n",
      "其实，中国就是想丰富四代战机，将它作为中国战机的“过渡机型”。#高空最大时速2500千米/小时\n",
      "C-130#长26.82米\n",
      "该机长约20米#F-4E\n",
      "一般的反坦克炮都是被动防御的#克虏伯公司\n",
      "LyulkaAL-31FM1系列涡扇发动机#最大载弹量达12吨\n",
      "K1A1主战坦克重约54吨#第四代坦克\n",
      "军用运输机#野战机场\n",
      "长度10.2m#10.3米\n",
      "最大射程约13000公里#500\n",
      "“格里芬”和“美洲豹”装甲车#M2半履带装甲车M2是美军于二战时期研发的一款半履带装甲车\n",
      "600克#1967年\n",
      "艇长约3点4米#100多枚\n",
      "M1917手榴弹#3000多万枚手榴弹\n",
      "总共能够运载重大4.5吨之重的物资#每小时550公里以上\n",
      "其所用底盘是俄装甲装备中最常见的GMZ装甲布雷车底盘#240mm\n",
      "C-802#中国的反舰导弹已经出口到世界十多个国家和地区，在伊朗、巴基斯坦、泰国、印尼和孟加拉\n",
      "打击精度约100到200米#实现了火箭及分弹头自适应变轨，可携带多达12颗核弹头，每个分弹头都有独立的飞行弹道，可调整轨迹攻击不同目标。\n",
      "2017年#2022年\n",
      "俄罗斯伊尔库特公司（IRKUTCorporation）#272\n",
      "发射12.7×99mm弹药#其口径12.7毫米\n",
      "LCA光辉战斗机#飞机带有高度先进的增稳系统，遇到突风也能快速稳定姿态\n",
      "双联装127毫米高平两用炮和40毫米防空炮#1920年6月\n",
      "5座6英寸3联装炮塔#1.5英寸\n",
      "76米#中国江南造船厂\n",
      "500马力的柴油机#11.6米\n",
      "舰宽12.4米#舰宽12.4米\n",
      "美国波士顿弗林邮轮码头（FlynnCruiseport）#使用LM2500燃气轮机\n",
      "车长：10.085米#8.66米\n",
      "黑鹰直升机的机舱是典型的面包型机舱#4500架\n",
      "每小时306公里#速度快、客舱宽敞、动力强劲。\n",
      "致远舰奋勇陷阵，弹药殆尽之后，在英雄舰长邓世昌的带领下冲向日本联合舰队旗舰松岛号#丰岛海战、黄海海战和威海卫\n",
      "该系统包括9M83“角斗士”和9M82“巨人”两种导弹#拦截短程弹道导弹\n",
      "主要承担美国特种作战部队的重型运输任务，比如兵员运输、弹药运输、车辆运输、装备运输、燃料和补给运输以及多种民事和人道主义救援任务。#1962年\n",
      "12.7毫米#19千克\n",
      "广泛采用塑料零部件，不但小巧轻便，而且机构动作可靠，容弹量也大。#217毫米\n",
      "1999年土耳其西部大地震#满载排水量达13000吨\n",
      "至少288门#全车总重45吨左右\n",
      "5000万吨#1吨\n",
      "发射8x35mm中间型步枪弹#418毫米\n",
      "P-3A、P-3B和P-3C#主要用于海上巡逻、侦察、反水面战和反潜战。\n",
      "新型舰艇主炮安装了雷达，炮弹可自动装填#排水量仅75吨\n",
      "美国西科斯基飞机公司#美国西科斯基飞机公司\n",
      "吃水深度10.2米#38000吨\n",
      "飞行距离可达15千米#地面、河边和海上\n",
      "其中炮管长度为4.7米#射速最大可以达到25发每分钟\n",
      "模块化的板机系统#采用了可更换的3点式机械瞄准具\n",
      "1922年#枪口初速735米每秒\n",
      "WZ501#1966年投产\n",
      "1918年#全长11.1厘米\n",
      "一种是305mm的标准枪管，另一种是178mm的短枪管。#能单发、连发射击，并可实施3发点射，也可手控制进行1～3发射击。\n",
      "5235吨#主要用于开阔水域的反潜和反舰作战。\n",
      "枪管长度：610毫米#枪管长610mm\n",
      "新型的喷气式飞机#但是也与德军的命运一样最终也走向了末日。\n",
      "1985年#发动机采用的是AGT-1500燃气轮机\n",
      "当飞机低空飞行的时候，该警告系统会显示可能对飞机造成威胁的地形，并通过飞机通讯寻址和报告系统上传至卫星通讯系统#罗尔斯罗伊斯公司\n",
      "加里波第号航空母舰和加富尔号航母#加里波第号轻型航母和加富尔号航母\n",
      "配备于集团军防空旅或步兵旅防空营#4750千克\n",
      "巡航导弹核潜艇#俄计划将其改装成可携带200枚巡航导弹的核潜艇。\n",
      "自动红外制导#10.6万美元\n",
      "V-59型#1967年开始研制\n",
      "5.56x45mm北约口径#北约统一的5.56口径枪弹\n",
      "QJG-02G式出口型14.5毫米高射机枪#995米/秒\n",
      "2005年#053H3型\n",
      "叙利亚#法国在马里的军事行动提供支持。首相府发言人说，卡梅伦27日晚与法国\n",
      "美国一架“全球鹰”无人侦察机#叙利亚国\n",
      "8枚#8枚\n",
      "采用塑料布进行导流#120吨级液氧煤油发动机YF-100\n",
      "204#80.52米\n",
      "12个#267公斤\n",
      "其中枪管长度就占了1100mm#可引导部分火药燃起以45°后喷出枪口\n",
      "机长1.2米#机长1.7米\n",
      "80架#F/A-18\n",
      "英国#美国海军的“朱姆沃尔特”级驱逐舰\n",
      "直径以微米为单位的特制的高纯度碳纤维丝组成。#“沙漠风暴”行动\n",
      "1948年#电子战吊舱\n",
      "“塔卡什”号护卫舰#第七舰队\n",
      "主要是执行侦察，监视，部分的火力打击，包括反坦克任务。#长12米，空重2.35吨，最大起飞重量4.25吨。\n",
      "美国打击“伊斯兰国”的政策反而加重其威胁，再加上美国总统特朗普充满“攻击性的演讲”，促使欧洲不得不需要自保了。#美国退出伊朗核协议的单边主义行为：“如果你单方决定终结这一协议，那么这样的做法不会鼓励另一方遵守协议。”\n",
      "大型民用飞机#悬臂式单翼和T形尾翼式的常规气动布局\n",
      "采用悬臂式上机翼、大型单垂尾以及三点式起落架等。#道格拉斯B-18\n",
      "武器吊舱#NGJ-MB中频吊舱\n",
      "“密集阵”近防系统#FL3000N\n",
      "排水量1350吨#撞角\n",
      "19名#RPG-7火箭筒\n",
      "印度#瑞典\n",
      "苏格兰的罗西思造船厂#消防系统故障\n",
      "1966年#对敌人集群目标的杀伤和火力压制。\n",
      "37毫米航炮#130毫米\n",
      "其导弹头部配有主动寻的制导装置，射程更远。#穆尔特德空军基地\n",
      "M1934式手枪#.380ACP，.45ACP这类大威力手枪弹\n",
      "铝合金#可外挂26吨\n",
      "反水雷任务包#全球沿海水域作战\n",
      "1928年#1932年\n",
      "台岛#20秒内校正惯性导航仪完毕即准备升空\n",
      "21336米#21000米\n",
      "它的满载排水量超过了10万吨#“出云号”\n",
      "AIM-9X响尾蛇导弹拥有世界最先进的制导模式#90度\n",
      "B-52H#6.36米\n",
      "尾翼稳定脱壳穿甲弹与榴弹#尾翼稳定脱壳穿甲弹与榴弹\n",
      "俄罗斯总统叶利钦和乌克兰总统克拉夫丘克#一个是苏联最后一位总统戈尔巴乔夫的改革，一个就是我国的改革开放。\n",
      "全长335米#第一代是企业级、第二代是尼米兹级、第三代\n",
      "美国制造#重庆市公安局专门购置了国际上执法机构和军事单位普遍采用的美国ASP武器装备暨程序公司的训练棍、训练手铐、训练护盾以及美国RedMan(红人紫人）对抗训练防护套装\n",
      "2018年6月#加里宁格勒的“琥珀”造船厂\n",
      "伊尔-76#运-20最大起飞重量只有250吨\n",
      "16架#接近了2.5万吨\n",
      "冰箱厂#140毫米左右\n",
      "苏35#由中国的成飞\n",
      "368.3毫米#0.37米\n",
      "90米#性能稳定且杀伤力较大。\n",
      "里根号核动力航母#伊朗\n",
      "公路最高速度达36千米/小时#11,000辆\n",
      "初速达到241米/秒#初速达到241米/秒\n",
      "10000千米#航程可达1万多公里\n",
      "303\n"
     ]
    }
   ],
   "source": [
    "all_samples = collections.defaultdict(list)\n",
    "need_skippeed_list = [',', '.', '。']\n",
    "for qas_id, nbest_json in all_nbest_json.items():\n",
    "    text = ''\n",
    "    prob = 0.0\n",
    "    logit = 0.0\n",
    "    for entry in nbest_json:\n",
    "        if entry['text'].strip() and entry['text'] not in need_skippeed_list:\n",
    "            text = entry['text'].strip()\n",
    "            logit = entry['start_logit'] + entry['end_logit']\n",
    "            prob = entry['probability']\n",
    "            break\n",
    "    all_samples[qas_id.split('##')[0]].append([text, logit, prob])\n",
    "all_predictions = {}\n",
    "multi_pred = []\n",
    "cnt = 0\n",
    "for question_id, sample in all_samples.items():\n",
    "    sample = sorted(sample, key=lambda x: x[1], reverse=True)\n",
    "    all_predictions[question_id] = sample[0][0]\n",
    "    # 简单的多答案选择模块\n",
    "    if question_id in multi_ans_new:\n",
    "#         for i in range(1, 5):\n",
    "#             ans1 = normalize([sample[0][0]])\n",
    "#             ans2 = normalize([sample[i][0]])\n",
    "#         if sample[0][0] == sample[1][0]:\n",
    "#             continue\n",
    "        all_predictions[question_id] = all_predictions[question_id] + '#' + sample[1][0]\n",
    "        print(all_predictions[question_id])\n",
    "        cnt += 1\n",
    "#     if sample[1][0] != '' and sample[1][2] > 0.5:\n",
    "#         # 有可能具有多答案\n",
    "#         if sample[0][0] == sample[1][0]:\n",
    "#             continue\n",
    "#         if sample[1][0] in sample[0][0] or sample[0][0] in sample[1][0]:\n",
    "#             continue\n",
    "#         ans1 = normalize([sample[0][0]])\n",
    "#         ans2 = normalize([sample[1][0]])\n",
    "#         bleu_rouge = compute_bleu_rouge({'item': ans1}, {'item': ans2})\n",
    "#         if bleu_rouge['Bleu-4'] > 0.2 or bleu_rouge['Rouge-L'] > 0.2:\n",
    "#             continue\n",
    "#         print('{} have multi-ans, take care of it'.format(question_id))\n",
    "#         multi_pred.append(question_id)\n",
    "#         cnt += 1\n",
    "#         all_predictions[question_id] = all_predictions[question_id] + '#' + sample[1][0]\n",
    "        \n",
    "print(cnt)"
   ]
  },
  {
   "cell_type": "code",
   "execution_count": 16,
   "metadata": {},
   "outputs": [],
   "source": [
    "with open('add_back_trans_combine_0315pred-entity_0928.json', \"w\") as writer:\n",
    "    writer.write(json.dumps(all_predictions, indent=4, ensure_ascii=False) + \"\\n\")"
   ]
  },
  {
   "cell_type": "code",
   "execution_count": null,
   "metadata": {},
   "outputs": [],
   "source": []
  }
 ],
 "metadata": {
  "kernelspec": {
   "display_name": "Python 3",
   "language": "python",
   "name": "python3"
  },
  "language_info": {
   "codemirror_mode": {
    "name": "ipython",
    "version": 3
   },
   "file_extension": ".py",
   "mimetype": "text/x-python",
   "name": "python",
   "nbconvert_exporter": "python",
   "pygments_lexer": "ipython3",
   "version": "3.6.8"
  }
 },
 "nbformat": 4,
 "nbformat_minor": 2
}
