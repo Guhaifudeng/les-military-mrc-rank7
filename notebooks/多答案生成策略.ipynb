{
 "cells": [
  {
   "cell_type": "code",
   "execution_count": 1,
   "metadata": {},
   "outputs": [],
   "source": [
    "import json\n",
    "import sys\n",
    "import collections\n",
    "import copy"
   ]
  },
  {
   "cell_type": "code",
   "execution_count": 2,
   "metadata": {},
   "outputs": [],
   "source": [
    "# import re\n",
    "# import pandas as pd\n",
    "\n",
    "# ans_pattern = re.compile(r'@content\\d@')\n",
    "# def is_multi_answer(answer):\n",
    "#     docs = ans_pattern.findall(answer)\n",
    "#     return len(set([int(doc[-2:-1]) for doc in docs])) > 1\n",
    "\n",
    "# train_df = pd.read_csv('../input/original/train_round_0.csv')\n",
    "# train_df['is_multi_answer'] = train_df['answer'].map(is_multi_answer)"
   ]
  },
  {
   "cell_type": "code",
   "execution_count": 3,
   "metadata": {},
   "outputs": [],
   "source": [
    "# from eval_metric import normalize, compute_bleu_rouge"
   ]
  },
  {
   "cell_type": "markdown",
   "metadata": {},
   "source": [
    "## 规则方法得到多答案问题id"
   ]
  },
  {
   "cell_type": "code",
   "execution_count": 4,
   "metadata": {},
   "outputs": [],
   "source": [
    "question_dict = {}\n",
    "with open('../input/answer_mrc_dataset/test_r0.json') as f:\n",
    "    for line in f:\n",
    "        sample = json.loads(line)\n",
    "        question_dict[sample['question_id']] = sample['question']"
   ]
  },
  {
   "cell_type": "code",
   "execution_count": 5,
   "metadata": {},
   "outputs": [
    {
     "data": {
      "text/plain": [
       "4969"
      ]
     },
     "execution_count": 5,
     "metadata": {},
     "output_type": "execute_result"
    }
   ],
   "source": [
    "len(question_dict)"
   ]
  },
  {
   "cell_type": "code",
   "execution_count": 6,
   "metadata": {
    "scrolled": true
   },
   "outputs": [
    {
     "name": "stdout",
     "output_type": "stream",
     "text": [
      "285\n"
     ]
    }
   ],
   "source": [
    "cnt = 0\n",
    "multi_ans_question_id_list = []\n",
    "for id_, question in question_dict.items():\n",
    "    if (question.count('?') + question.count('？')) > 1 or (question.count('多少') + question.count('哪') + question.count('什么') + question.count('谁')) > 1:\n",
    "        cnt += 1\n",
    "        multi_ans_question_id_list.append(id_)\n",
    "#     elif '分别' in question and '和' in question:\n",
    "#         print(id_, question)\n",
    "#     elif '哪两' in question:\n",
    "#         print(id_, question)\n",
    "    \n",
    "print(cnt)"
   ]
  },
  {
   "cell_type": "code",
   "execution_count": 7,
   "metadata": {},
   "outputs": [],
   "source": [
    "multi_ans_question_id_list += ['Q_06031cjhhh', 'Q_47760knsdc', 'Q_52500cnjsq', 'Q_36961chjcs', 'Q_22570hycqj',\n",
    "                               'Q_40246dnjsn']"
   ]
  },
  {
   "cell_type": "code",
   "execution_count": 8,
   "metadata": {},
   "outputs": [
    {
     "data": {
      "text/plain": [
       "291"
      ]
     },
     "execution_count": 8,
     "metadata": {},
     "output_type": "execute_result"
    }
   ],
   "source": [
    "len(multi_ans_question_id_list)"
   ]
  },
  {
   "cell_type": "markdown",
   "metadata": {},
   "source": [
    "## bert classifier模型得到多答案id"
   ]
  },
  {
   "cell_type": "code",
   "execution_count": 9,
   "metadata": {},
   "outputs": [
    {
     "name": "stdout",
     "output_type": "stream",
     "text": [
      "4969\n"
     ]
    }
   ],
   "source": [
    "is_multi_list = []\n",
    "with open('pred_results.txt') as f:\n",
    "    for line in f:\n",
    "        is_multi_list.append(int(line.strip()))\n",
    "print(len(is_multi_list))"
   ]
  },
  {
   "cell_type": "code",
   "execution_count": 10,
   "metadata": {},
   "outputs": [
    {
     "name": "stdout",
     "output_type": "stream",
     "text": [
      "300\n"
     ]
    }
   ],
   "source": [
    "multi_ans_new = []\n",
    "with open('../input/answer_mrc_dataset/test_r0.json') as f:\n",
    "    for i, line in enumerate(f):\n",
    "        sample = json.loads(line)\n",
    "        if is_multi_list[i] == 1:\n",
    "            multi_ans_new.append(sample['question_id'])\n",
    "#             if sample['question_id'] not in multi_ans_question_id_list:\n",
    "#                 print(sample['question'])\n",
    "#                 pass\n",
    "print(len(multi_ans_new))"
   ]
  },
  {
   "cell_type": "code",
   "execution_count": 11,
   "metadata": {},
   "outputs": [
    {
     "name": "stdout",
     "output_type": "stream",
     "text": [
      "303\n"
     ]
    }
   ],
   "source": [
    "multi_ans_new += ['Q_06031cjhhh', 'Q_47760knsdc', 'Q_52500cnjsq', 'Q_36961chjcs', 'Q_22570hycqj',\n",
    "                               'Q_40246dnjsn']\n",
    "multi_ans_new = list(set(multi_ans_new))\n",
    "print(len(multi_ans_new))"
   ]
  },
  {
   "cell_type": "markdown",
   "metadata": {},
   "source": [
    "## 生成多答案"
   ]
  },
  {
   "cell_type": "code",
   "execution_count": 12,
   "metadata": {},
   "outputs": [
    {
     "name": "stdout",
     "output_type": "stream",
     "text": [
      "/home/lq/Research/Reading-Comprehension/les-military-mrc/notebooks\r\n"
     ]
    }
   ],
   "source": [
    "!pwd"
   ]
  },
  {
   "cell_type": "code",
   "execution_count": 13,
   "metadata": {},
   "outputs": [],
   "source": [
    "with open('../les_mrc/span_mrc/answer_models/answer_mrc_wwm_BertForLes/nbest_predictions_checkpoint_test.json') as f:\n",
    "    all_nbest_json = json.loads(f.read())"
   ]
  },
  {
   "cell_type": "code",
   "execution_count": 14,
   "metadata": {},
   "outputs": [
    {
     "name": "stdout",
     "output_type": "stream",
     "text": [
      "货舱宽度为5.49米#货舱宽度为5.49米\n",
      "它的诞生取代了新加坡军队即将到达服役期限的M16突击步枪#有效射程：885米\n",
      "1951年#1986年6月期间\n",
      "这辆车的重量达到了5吨#整车高宽比为0.91\n",
      "其中包括来自英国、西班牙、德国和瑞士的人。#萨蕊帕赫是恐怖分子的支持者\n",
      "12艘#两具\n",
      "现在正在开发的远程防区外武器(LRSO)#飞翼结构\n",
      "射速快，后座力低#11.43毫米\n",
      "瑞典萨博(SAAB)公司#美国波音公司\n",
      "南非桑达克·奥斯特瑞尔·比派克公司#长约8米\n",
      "气动、气冷原理#气动、气冷原理\n",
      "公路机动模式#卡车拖挂式运载\n",
      "中国船舶重工集团701研究所#突破了大型舰艇总体设计、信息集成、总装建造等一系列关键技术\n",
      "25辆#“豹”1主战坦克\n",
      "MG42#800米以上\n",
      "15.6公里#18公里\n",
      "MIM-23“霍克”地空导弹#184公里\n",
      "西班牙内战#30年代\n",
      "航空复合材料#8吨载弹量可以携带各式弹药，如制导导弹、炸弹等\n",
      "40-50米水平#东风-11和东风-15导弹的成熟技术\n",
      "比利时小镇巴斯通#OH-58D型“基奥瓦”侦察直升机\n",
      "20-40千米之间#R-73导弹\n",
      "马丁公司#效费比问题\n",
      "240艘#诺斯罗普格鲁门公司生产的“传奇”级（Legend）国家安全舰\n",
      "誉21型发动机#发动机马力提升了190\n",
      "布雷默顿预备役舰队#42架\n",
      "SS-X-29#其发射车重量为80吨\n",
      "枪身长度为1138毫米#射击稳定性好，攻击力强\n",
      "主因为舰上搭载16枚杀伤力强大的雄风系列反舰导弹。#沱江级舰具匿踪能力，速度快特性，并能够携带8枚雄风二型与8枚雄风三型反舰导弹，火力强大。\n",
      "12门280毫米45倍径主炮#280毫米口径主炮\n",
      "空枪重3.31千克#空枪重4.42千克\n",
      "123架#3架美制C-130运输机\n",
      "满载排水量多了1000吨#装备有32单元垂发系统和威力强大的海红旗-16防空导弹，还装备有两组四联装鹰击-83反舰导弹\n",
      "莫斯科“劳动旗帜”工厂（现米格公司第二生产中心）#63吨\n",
      "中国特色社会主义#一个中国原则和中美三个联合公报\n",
      "1984-1991年#“敏捷”级\n",
      "1.78马赫#耐高温的BMI复合材料\n",
      "飞行速度达到了8马赫，约9800公里每小时#5-10马赫\n",
      "B-2隐身战略轰炸机#可以钻入地下61米\n",
      "1541架#共计交付了1541架\n",
      "霹雳15远程空空导弹#2架\n",
      "是25发一小节的分段式结构#可歼灭1000米以内\n",
      "舰长134米#舰长134米\n",
      "14颗#全枪重量为3.45千克\n",
      "18艘#水上航速12节\n",
      "105毫米#具备浮渡精准射击能力\n",
      "“桑普森”号驱逐舰#伊拉克\n",
      "40至50千米#“物美价廉”的平民路线\n",
      "战斗全重达到了约35吨#战斗全重达到了35吨\n",
      "韩海军第五机动战团#韩海军第五机动战团\n",
      "CH-47C#CH-47支奴干\n",
      "伊朗通过向也门胡塞武装运送武器和提供资金等手段破坏也门和平进程。#“果断风暴”的军事行动。\n",
      "飞抵临近俄舰队的重要港口水域附近大量投放#“快速打击-增程精确制导空投水雷”（下文简称“快投雷”）\n",
      "197米#“榛名”级直升机驱逐舰\n",
      "20000米#80年代后期\n",
      "1000米/秒#它的原始版本其实是一门57毫米反坦克炮\n",
      "S—300、“霍维兹赫”远程巡航导弹、吉亚姆型中程导弹、“霍尔达德—15”导弹#6800多枚\n",
      "22000余根#122.5米\n",
      "上世纪70年代#20世纪60年代末\n",
      "220厘米#14.20米\n",
      "97个师#1928年\n",
      "62公分#62公分\n",
      "Ｍ79榴弹枪长737毫米#主要用于山地战、丛林战、城市战或者空降作战\n",
      "标准排水量5200多吨#5270吨\n",
      "冷锻碳钢#黑色麦克米伦（McMillan）玻璃纤维枪托\n",
      "先进的隐身技术#密苏里州的怀特曼空军基地\n",
      "掩护我渡海登陆编队，对敌人岸滩的工事和有生力量进行火力覆盖。#最高航速26节\n",
      "48架#700架\n",
      "一挺12.7毫米口径机枪和一门40毫米口径自动榴弹发射器#1门Mk44“大毒蛇”Ⅱ型30毫米自动炮\n",
      "印度空军#台军陆军航空兵601旅第二攻击作战梯队\n",
      "北约9国#北约国家\n",
      "高射速的23毫米高炮#采用的是二战之后苏联研发的一款两栖坦克PT-76两栖坦克的底盘\n",
      "1.73亿美元#116公里\n",
      "1.04万亿韩元#9600亿韩元（约8.48亿美元）驻韩美军军费\n",
      "6种#39公里\n",
      "8枚#采用喷水推进的方式\n",
      "法国达索公司#法国Procor公司\n",
      "2003年9月11日下水#满载排水量4000吨\n",
      "二战德国装备使用的88毫米系列高炮#M1943式57毫米反坦克炮\n",
      "2400米#700米左右\n",
      "7项#7项\n",
      "900km#9.14米（30英尺）\n",
      "2011年#2.4万吨\n",
      "2040年以后#远程和核轰炸任务\n",
      "反舰导弹发射装置#051型驱逐舰全长132米\n",
      "“瑞典神箭”#0.8马赫\n",
      "土耳其#印度\n",
      "97式突击步枪#5.45毫米小口径枪弹\n",
      "枪管长度1,000mm#2300米之内\n",
      "10名乘客#直-19\n",
      "被动雷达寻的制导系统#3马赫\n",
      "5人#3种\n",
      "“毒刺”(Stinger)#激光半主动制导\n",
      "战斗射速120发/分#勃朗宁自动步枪\n",
      "“罗纳德·里根”号航空母舰“罗纳德·里根”号航空母舰#“麦凯恩”号\n",
      "1931年#69斤\n",
      "QW-3肩扛式地对空导弹#YJ-82/C-802中程反舰导弹\n",
      "0.50口径子弹#它采用大口径弹药\n",
      "体积小，速度快，攻击力强，并且还能容纳二十几人#长15米左右\n",
      "旨在增强美军天基空间态势感知能力，提高美军快速检测、预警及识别潜在威胁的能力。#主要任务是负责拍摄别国卫星\n",
      "AGT-1500燃气轮机#1985年\n",
      "美国麦道、波音和诺斯罗普生产#麦道公司\n",
      "56式半自动步枪#56式半自动步枪\n",
      "1950年开始研制#雅克-28\n",
      "S300防空系统进行接替式指挥#F-35项目构成威胁\n",
      "中国航空工业集团有限公司#最大起飞重量53.5吨\n",
      "90架#美国的F-35B型战机都是在意大利生产的，意大利是美国战机在欧洲唯一授权的生产基地\n",
      "意味着歼-10A精确攻击能力日臻成熟#超过200架\n",
      "中国#埃及\n",
      "红旗-9B防空导弹、红旗-16防空导弹、红旗-10以及1130近防炮#垂直发射系统\n",
      "12米#大约为0.3KW/公斤\n",
      "220毫米#其肘节式闭锁机构。\n",
      "飞行总时长也仅有3小时左右#粗壮的机身和下单翼结构\n",
      "由两台Rolls-RoyceWR-21船舶中间冷却回热式燃气轮机驱动#“海毒蛇”系统\n",
      "最大射程时精确度为2.5海里#可携载威力高达280万吨的热核武器\n",
      "竹崎发射场、大崎发射场和吉信综合发射场#自制的H-2A大型火箭采取一箭双星的方式\n",
      "海湾战争#500千米\n",
      "瓦努阿图#补给点\n",
      "A3钢板冲压而成的球形体#弹径52毫米\n",
      "600~800m#M4A1卡宾枪\n",
      "两种共128单元垂发系统#3S14多功能垂发系统\n",
      "由可拆卸的20~30发弹匣供弹#1959年\n",
      "109-004型发动机#第4种\n",
      "上海的沪东中华造船厂#为了避免对中国海军造舰建军造成太大的空档，并提前验证舰体设计，作为后续本级舰设计改进的依据\n",
      "诺思罗普·格鲁门公司#全长14.5米\n",
      "空枪重是14千克#最大射程为1800m\n",
      "上海中华造船厂#上海中华造船厂\n",
      "“欧洲鹰”无人机#美制“全球鹰”无人机\n",
      "231.65米/秒#柯尔特m1909\n",
      "2S4“郁金香”#30吨\n",
      "海鹰、鹰击等庞大的飞航导弹家族#YJ-83型反舰导弹\n",
      "奥林／赫克勒-科赫近战突击武器系统#双动（double-action）式扳机系统\n",
      "最大射高30公里#2011年10月\n",
      "韩海军第五机动战团#舰长199米\n",
      "“亚尔斯”#1.2万公里\n",
      "鱼-6鱼雷#YU-8式鱼雷\n",
      "双管火炮#“623”\n",
      "3公里#1410、940、965mm\n",
      "破片手雷#约为四百五十克左右\n",
      "最高航速29节#最高航速29节\n",
      "300公里/小时#TurbomecaArdiden3G\n",
      "格鲁曼公司#每秒7°\n",
      "规划总建造数量约为48艘#舰身宽度为十米\n",
      "6枚#阿根廷空军首次使用法国制造的一枚仅仅价值20万美元的“飞鱼”式导弹\n",
      "采用滑跃甲板的模式#“库兹涅佐夫号”\n",
      "品字布局#约200~400公里\n",
      "身管工艺粗糙、寿命和中远距离精度较低、远程射击炮弹存速较差#99式坦克\n",
      "0.85马赫#其主要任务是用来验证无人作战飞机（UCAV）的技术可行性，以更快、更高效波音公开X-45PhantomRay无人战机的应付21世纪的全球突发性事件。\n",
      "KC-135加油机#波音公司飞机生产线存在“非常严重”的安全问题。这一问题直接导致美空军从2月20日起拒绝接收波音生产的所有KC-46型空中加油机。\n",
      "台湾“中山科学研究院#1.5吨\n",
      "8个#既可以为公众提供基本信号，也可以为政府和军方提供高度保密的信号。\n",
      "2003年#阿丽亚娜5号火箭\n",
      "二十五公斤#DShK重机枪\n",
      "88式狙击步枪采用5.8毫米机枪弹#全重4.1kg\n",
      "中国和印度#印巴\n",
      "斯图卡A1#二战的最后一天\n",
      "为避免投资错误#40小时\n",
      "扁圆形#可以只穿100毫米\n",
      "38克#7m\n",
      "莱特湾海战#1.3万吨\n",
      "1940年4月#六座\n",
      "AK47自动步枪#9×19毫米巴拉贝鲁姆手枪弹\n",
      "高精度抗干扰的主动雷达导引头#中间梯形弹翼\n",
      "一次装填发射4发#最大初速度为每秒272米\n",
      "法国地面武器工业集团(GIAT)公司#牵引式榴弹炮\n",
      "Magpul#7.62×51mm\n",
      "洛克希德·马丁公司#美国运载能力最大的火箭\n",
      "F117-PW-100非加力涡扇发动机#128吨\n",
      "米格-31#大约为2.3马赫\n",
      "反弹道导弹#RIM-156SM-2ERBlock4导弹\n",
      "拦截成功概率约为60%～70%#实际作战需要全新研制或者利用现有近防武器系统进行改装\n",
      "惯性制导和双向数据链中段制导#接近5米\n",
      "主要是担任陆军支援的侦察角色。#OH-58A/C\n",
      "侦察及应用导弹和炸弹进行地面目标攻击#作战范围近6000公里\n",
      "4000米左右#Me263战斗机\n",
      "配备了车载计算机化火控系统和全球定位系统/惯性导航系统#车载榴弹炮系统\n",
      "直升机吊装#中国的AH4轻型榴弹炮\n",
      "石勒苏益格-荷尔斯泰因号#俾斯麦号战列舰\n",
      "119米#127米\n",
      "纽波特纽斯造船厂#特拉华号(Delaware，BB-28)、北达科他号(NorthDakota，BB-29)。\n",
      "F-35战斗机#连续射击4秒钟\n",
      ".338口径拉普阿弹药#AWM狙击步枪\n",
      "德国总理默克尔#欧盟必须停止依赖美国的强大军力。\n",
      "吃水7.47米#无畏舰\n",
      "红外成像制导系统#2004年开始服役\n",
      "16架#“西北风”级两栖攻击舰是法国二战后研发的第四代两栖舰\n",
      "乌拉圭#韩国、泰国、厄瓜多尔、智利、洪都拉斯和乌拉圭\n",
      "726型气垫登陆艇的前身是724型气垫登陆艇#约4艘\n",
      "可以击毁30公里#5.31米\n",
      "红宝石设计局#水下排水量3000吨\n",
      "中国就是想丰富四代战机，将它作为中国战机的“过渡机型”。#高空最大时速2500千米/小时，低空最大时速1400千米/小时\n",
      "几乎是C-130全机的装载量#长26.82米\n",
      "该机长约20米#F-4E\n",
      "克虏伯公司#一般的反坦克炮都是被动防御的\n",
      "LyulkaAL-31FM1系列涡扇发动机#最大载弹量达12吨\n",
      "K1A1主战坦克重约54吨#第四代坦克\n",
      "野战机场#军用运输机\n",
      "长度10.2m#10.3米\n",
      "约13000公里#203枚\n",
      "“格里芬”和“美洲豹”装甲车#T17装甲车\n",
      "全重达600克#1967年\n",
      "艇长约3点4米#100多枚\n",
      "M1917手榴弹#3000多万枚\n",
      "4.5吨之重#每小时550公里以上\n",
      "GMZ装甲布雷车底盘#240mm\n",
      "C-802#’旅海’级驱逐舰和’江卫’级护卫舰\n",
      "约100到200米#实现了火箭及分弹头自适应变轨，可携带多达12颗核弹头，每个分弹头都有独立的飞行弹道，可调整轨迹攻击不同目标。\n",
      "2017年#2022年\n",
      "272架#俄罗斯伊尔库特公司（IRKUTCorporation）\n",
      "发射12.7×99mm弹药#12.7毫米\n",
      "飞机带有高度先进的增稳系统，遇到突风也能快速稳定姿态#LCA光辉战斗机\n",
      "双联装127毫米高平两用炮和40毫米防空炮#1920年6月\n",
      "5座6英寸3联装炮塔#6.5毫米\n",
      "中国江南造船厂#035G型潜艇总长76米\n",
      "500马力的柴油机#长度约为11.6米\n",
      "舰宽12.4米#12.4米\n",
      "LM2500燃气轮机#美国波士顿弗林邮轮码头（FlynnCruiseport）\n",
      "8.66米#10.085米\n",
      "典型的面包型机舱#4500架\n",
      "每小时306公里#165节（306公里/小时）\n",
      "“致远舰”#致远舰奋勇陷阵，弹药殆尽之后，在英雄舰长邓世昌的带领下冲向日本联合舰队旗舰松岛号\n",
      "该系统包括9M83“角斗士”和9M82“巨人”两种导弹，其中9M83导弹用于拦截短程导弹，9M82可拦截“潘兴”之类的中程导弹。#拦截短程弹道导弹\n",
      "1962年#主要承担美国特种作战部队的重型运输任务，比如兵员运输、弹药运输、车辆运输、装备运输、燃料和补给运输以及多种民事和人道主义救援任务。\n",
      "19千克#12.7毫米\n",
      "广泛采用塑料零部件，不但小巧轻便，而且机构动作可靠，容弹量也大。#217毫米\n",
      "1999年土耳其西部大地震#18500吨\n",
      "45吨左右#至少288门\n",
      "5000万吨#中国是现在世界上唯一拥有氢弹的国家\n",
      "发射8x35mm中间型步枪弹#枪管长度：418毫米\n",
      "P-3A、P-3B和P-3C#主要用于海上巡逻、侦察、反水面战和反潜战。\n",
      "新型舰艇主炮安装了雷达，炮弹可自动装填#排水量仅75吨\n",
      "美国西科斯基飞机公司#美国西科斯基飞机公司\n",
      "38000吨#吃水深度10.2米\n",
      "飞行距离可达15千米#地面、河边和海上\n",
      "其中炮管长度为4.7米#射速最大可以达到25发每分钟\n",
      "模块化的板机系统#可更换的3点式机械瞄准具\n",
      "枪口初速735米每秒#1922年研制生产的\n",
      "WZ501#1966年投产\n",
      "它最早出现于1918年#11.1厘米\n",
      "一种是305mm的标准枪管，另一种是178mm的短枪管。#能单发、连发射击，并可实施3发点射，也可手控制进行1～3发射击。\n",
      "满载排水量为5235吨#主要用于开阔水域的反潜和反舰作战。\n",
      "枪管枪管长610mm#610毫米\n",
      "HE162#He162火蜥蜴\n",
      "1985年开始在美军服役#AGT-1500燃气轮机\n",
      "该系统有一个功能就是当飞机低空飞行的时候，该警告系统会显示可能对飞机造成威胁的地形，并通过飞机通讯寻址和报告系统上传至卫星通讯系统#波音公司\n",
      "加里波第号航空母舰和加富尔号航母#加里波第号轻型航母和加富尔号航母\n",
      "重量达到了4750千克#配备于集团军防空旅或步兵旅防空营\n",
      "巡航导弹核潜艇#俄罗斯\n",
      "10.6万美元#自动红外制导\n",
      "1967年开始研制#V-59型\n",
      "北约统一的5.56口径枪弹#5.56x45mm北约口径\n",
      "QJG-02G式出口型14.5毫米高射机枪#995米/秒\n",
      "2005年下水#属于053H3型\n",
      "叙利亚#法国\n",
      "美国一架“全球鹰”无人侦察机#乌干达北部以及南苏丹和中非共和国等地的游击叛军，由约瑟夫·科尼\n",
      "8枚#8枚\n",
      "采用塑料布进行导流#120吨级液氧煤油发动机YF-100\n",
      "“长治久安#“咸宁”号\n",
      "12个#267公斤\n",
      "可引导部分火药燃起以45°后喷出枪口#其中枪管长度就占了1100mm\n",
      "机长1.2米#机长1.7米\n",
      "80架#F/A-18\n",
      "“朱姆沃尔特”级驱逐舰#英国\n",
      "“沙漠风暴”行动#其成分由直径以微米为单位的特制的高纯度碳纤维丝组成。\n",
      "电子战吊舱#1948年\n",
      "“塔卡什”号护卫舰#第七舰队辖区\n",
      "主要执行战场侦察任务，也可以用于对地攻击#主要是执行侦察，监视，部分的火力打击，包括反坦克任务。\n",
      "批评美国退出伊朗核协议的单边主义行为：“如果你单方决定终结这一协议，那么这样的做法不会鼓励另一方遵守协议。#因担忧美国新一届政府的执政方向，他希望欧洲各国构建一个新的欧洲军事联盟来保护欧洲大陆并共同打击极端组织“伊斯兰国”。\n",
      "大型民用飞机的先进技术和管理模式#悬臂式单翼和T形尾翼式的常规气动布局\n",
      "主要的革新点包括采用悬臂式上机翼、大型单垂尾以及三点式起落架等。#道格拉斯B-18\n",
      "NGJ-MB中频吊舱#独一无二的武器吊舱\n",
      "“密集阵”近防系统#中文名称叫“飞豹3000”\n",
      "1350吨#撞角\n",
      "RPG-7火箭筒#19名士兵阵亡\n",
      "印度#瑞典\n",
      "苏格兰的罗西思造船厂#消防系统故障\n",
      "诞生于1966年#对敌人集群目标的杀伤和火力压制。\n",
      "37毫米#1940年\n",
      "其导弹头部配有主动寻的制导装置，射程更远。#安卡拉\n",
      ".380ACP，.45ACP这类大威力手枪弹#M1934式手枪\n",
      "可外挂26吨#采用铝合金制造\n",
      "反水雷任务包#全球沿海水域作战\n",
      "1928年#1932年\n",
      "台岛#采用激光陀螺仪可于20秒内校正惯性导航仪完毕即准备升空\n",
      "21336米#21000米\n",
      "它的满载排水量超过了10万吨#“出云号”\n",
      "AIM-9X响尾蛇导弹拥有世界最先进的制导模式#90度\n",
      "B-52H#导弹长6.36米\n",
      "炮口动能、直射距离、穿甲威力#尾翼稳定脱壳穿甲弹与榴弹\n",
      "俄罗斯总统叶利钦和乌克兰总统克拉夫丘克#一个是苏联最后一位总统戈尔巴乔夫\n",
      "全长335米#第一代是企业级、第二代是尼米兹级、第三代是福特级\n",
      "在美国制造#香港和美国\n",
      "加里宁格勒的“琥珀”造船厂#2018年6月\n",
      "俄罗斯伊尔-76#最大起飞重量只有250吨\n",
      "16架#16架\n",
      "冰箱厂生产#枪长140毫米左右\n",
      "苏35的技术#成飞设计并生产的\n",
      "枪管长只有368.3毫米#0.37米\n",
      "90米#性能稳定且杀伤力较大\n",
      "里根号核动力航母#美国\n",
      "公路最高速度达36千米/小时#制造了近11,000辆\n",
      "初速达到241米/秒#初速达到241米/秒\n",
      "10000千米#主动式相控阵雷达\n",
      "303\n"
     ]
    }
   ],
   "source": [
    "all_samples = collections.defaultdict(list)\n",
    "need_skippeed_list = [',', '.', '。']\n",
    "for qas_id, nbest_json in all_nbest_json.items():\n",
    "    text = ''\n",
    "    prob = 0.0\n",
    "    logit = 0.0\n",
    "    for entry in nbest_json:\n",
    "        if entry['text'].strip() and entry['text'] not in need_skippeed_list:\n",
    "            text = entry['text'].strip()\n",
    "            logit = entry['start_logit'] + entry['end_logit']\n",
    "            prob = entry['probability']\n",
    "            break\n",
    "    all_samples[qas_id.split('##')[0]].append([text, logit, prob])\n",
    "all_predictions = {}\n",
    "multi_pred = []\n",
    "cnt = 0\n",
    "for question_id, sample in all_samples.items():\n",
    "    sample = sorted(sample, key=lambda x: x[1], reverse=True)\n",
    "    all_predictions[question_id] = sample[0][0]\n",
    "    # 简单的多答案选择模块\n",
    "    if question_id in multi_ans_new:\n",
    "#         for i in range(1, 5):\n",
    "#             ans1 = normalize([sample[0][0]])\n",
    "#             ans2 = normalize([sample[i][0]])\n",
    "#         if sample[0][0] == sample[1][0]:\n",
    "#             continue\n",
    "        all_predictions[question_id] = all_predictions[question_id] + '#' + sample[1][0]\n",
    "        print(all_predictions[question_id])\n",
    "        cnt += 1\n",
    "#     if sample[1][0] != '' and sample[1][2] > 0.5:\n",
    "#         # 有可能具有多答案\n",
    "#         if sample[0][0] == sample[1][0]:\n",
    "#             continue\n",
    "#         if sample[1][0] in sample[0][0] or sample[0][0] in sample[1][0]:\n",
    "#             continue\n",
    "#         ans1 = normalize([sample[0][0]])\n",
    "#         ans2 = normalize([sample[1][0]])\n",
    "#         bleu_rouge = compute_bleu_rouge({'item': ans1}, {'item': ans2})\n",
    "#         if bleu_rouge['Bleu-4'] > 0.2 or bleu_rouge['Rouge-L'] > 0.2:\n",
    "#             continue\n",
    "#         print('{} have multi-ans, take care of it'.format(question_id))\n",
    "#         multi_pred.append(question_id)\n",
    "#         cnt += 1\n",
    "#         all_predictions[question_id] = all_predictions[question_id] + '#' + sample[1][0]\n",
    "        \n",
    "print(cnt)"
   ]
  },
  {
   "cell_type": "code",
   "execution_count": 15,
   "metadata": {},
   "outputs": [],
   "source": [
    "with open('data_roll_back_8315_single_answer_mrc.json', \"w\") as writer:\n",
    "    writer.write(json.dumps(all_predictions, indent=4, ensure_ascii=False) + \"\\n\")"
   ]
  },
  {
   "cell_type": "code",
   "execution_count": null,
   "metadata": {},
   "outputs": [],
   "source": []
  }
 ],
 "metadata": {
  "kernelspec": {
   "display_name": "Python 3",
   "language": "python",
   "name": "python3"
  },
  "language_info": {
   "codemirror_mode": {
    "name": "ipython",
    "version": 3
   },
   "file_extension": ".py",
   "mimetype": "text/x-python",
   "name": "python",
   "nbconvert_exporter": "python",
   "pygments_lexer": "ipython3",
   "version": "3.6.8"
  }
 },
 "nbformat": 4,
 "nbformat_minor": 2
}
